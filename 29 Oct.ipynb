{
 "cells": [
  {
   "cell_type": "code",
   "execution_count": 40,
   "metadata": {},
   "outputs": [],
   "source": [
    "import pandas as pd\n",
    "import numpy as np\n",
    "import seaborn as sns\n",
    "import matplotlib.pyplot as plt\n",
    "from statistics import mode\n",
    "import math\n",
    "%matplotlib inline\n"
   ]
  },
  {
   "cell_type": "code",
   "execution_count": 41,
   "metadata": {},
   "outputs": [],
   "source": [
    "matches = pd.read_csv('matches.csv')\n",
    "delivery = pd.read_csv('deliveries.csv')\n",
    "match_ids = matches[matches.season >= 2016]['id'].unique()\n",
    "matches1 = matches[(matches.season >= 2016) & (matches['result']=='normal')]\n",
    "matches1 = matches1.drop(['player_of_match','venue','umpire1','umpire2','umpire3', 'dl_applied', 'season', 'city', 'date', 'result'], axis=1)\n",
    "matches1.dropna(inplace=True)"
   ]
  },
  {
   "cell_type": "code",
   "execution_count": 42,
   "metadata": {},
   "outputs": [],
   "source": [
    "def team_correction(row):\n",
    "    row = row.strip()\n",
    "    if row == 'Delhi Daredevils':\n",
    "        return 'Delhi Capitals'\n",
    "    if row == 'Rising Pune Supergiants':\n",
    "        return 'Rising Pune Supergiant'\n",
    "    return row\n",
    "\n",
    "for col in ['team1', 'team2', 'winner', 'toss_winner']:\n",
    "    matches1[col] = matches1[col].apply(team_correction)\n",
    "    "
   ]
  },
  {
   "cell_type": "code",
   "execution_count": 43,
   "metadata": {},
   "outputs": [],
   "source": [
    "team_1 = 'Chennai Super Kings'\n",
    "team_2 = 'Kolkata Knight Riders'"
   ]
  },
  {
   "cell_type": "code",
   "execution_count": 44,
   "metadata": {},
   "outputs": [],
   "source": [
    "delivery = delivery[delivery.match_id.apply(lambda x: True if x in match_ids else False)]\n",
    "for col in ['batting_team', 'bowling_team']:\n",
    "    delivery[col] = delivery[col].apply(team_correction)\n",
    "\n",
    "delivery.fillna(0, inplace=True)\n",
    "delivery['player_dismissed'] = delivery['player_dismissed'].apply(lambda x: 0 if x==0 else 1)\n",
    "\n",
    "delivery['batsman_runs'] = delivery['batsman_runs'].apply(lambda x: x-1 if ((x==7) or (x==5)) else x)"
   ]
  },
  {
   "cell_type": "markdown",
   "metadata": {},
   "source": [
    "# Winning Probability of Teams"
   ]
  },
  {
   "cell_type": "code",
   "execution_count": 56,
   "metadata": {},
   "outputs": [
    {
     "data": {
      "text/plain": [
       "Text(0.5, 1.0, 'KKR Total Runs Score Stats Per Count')"
      ]
     },
     "execution_count": 56,
     "metadata": {},
     "output_type": "execute_result"
    },
    {
     "data": {
      "image/png": "[encoded data removed]",
      "text/plain": [
       "<Figure size 1440x576 with 2 Axes>"
      ]
     },
     "metadata": {
      "needs_background": "light"
     },
     "output_type": "display_data"
    }
   ],
   "source": [
    "fig, ax = plt.subplots(1,2, figsize=(20,8))\n",
    "csk_runs = delivery[delivery['batting_team']==team_1].groupby('match_id').sum()['total_runs']\n",
    "kkr_runs = delivery[delivery['batting_team']==team_2].groupby('match_id').sum()['total_runs']\n",
    "(csk_runs.describe()[1:]/csk_runs.describe()[0]).plot(ax=ax[0], kind='bar', grid=True, color='y')\n",
    "(kkr_runs.describe()[1:]/kkr_runs.describe()[0]).plot(ax=ax[1], kind='bar', grid=True, color='black')\n",
    "ax[0].set_title(\"CSK Total Runs Score Stats Per Count\")\n",
    "ax[1].set_title(\"KKR Total Runs Score Stats Per Count\")"
   ]
  },
  {
   "cell_type": "code",
   "execution_count": 46,
   "metadata": {},
   "outputs": [
    {
     "data": {
      "text/plain": [
       "Text(0.5, 1.0, 'Percentage of Winning')"
      ]
     },
     "execution_count": 46,
     "metadata": {},
     "output_type": "execute_result"
    },
    {
     "data": {
      "image/png": "[encoded data removed]",
      "text/plain": [
       "<Figure size 432x288 with 1 Axes>"
      ]
     },
     "metadata": {
      "needs_background": "light"
     },
     "output_type": "display_data"
    }
   ],
   "source": [
    "wins = pd.DataFrame(matches1[(matches1['team1'].isin([team_1, team_2])) & (matches1['team2'].isin([team_1, team_2]))]['winner'].value_counts())\n",
    "wins['Percentage Win Chance'] = (wins['winner']/sum(wins['winner']))*100\n",
    "wins['Percentage Win Chance'].plot(kind='bar', color=['y', 'k'])\n",
    "plt.title('Percentage of Winning')"
   ]
  },
  {
   "cell_type": "markdown",
   "metadata": {},
   "source": [
    "# Difference of Balls needed more\\less to reach 75 "
   ]
  },
  {
   "cell_type": "code",
   "execution_count": 47,
   "metadata": {},
   "outputs": [
    {
     "data": {
      "text/plain": [
       "count     33.000000\n",
       "mean      63.060606\n",
       "std       15.402799\n",
       "min       34.000000\n",
       "25%       53.000000\n",
       "50%       63.000000\n",
       "75%       74.000000\n",
       "max      107.000000\n",
       "Name: Balls, dtype: float64"
      ]
     },
     "execution_count": 47,
     "metadata": {},
     "output_type": "execute_result"
    }
   ],
   "source": [
    "csk_75 = list()\n",
    "for match_id in delivery[(delivery['batting_team']==team_1)]['match_id'].unique():\n",
    "    balls = 0\n",
    "    runs = 0\n",
    "    for run in delivery[(delivery['batting_team']==team_1) & (delivery['match_id']==match_id)]['total_runs']:\n",
    "        balls += 1\n",
    "        runs += run\n",
    "        \n",
    "        if runs in range(75, 81):\n",
    "            break\n",
    "    csk_75.append([match_id, runs, balls])\n",
    "    \n",
    "csk_75_df = pd.DataFrame(data=csk_75, columns=['match_id', 'Runs', 'Balls'])\n",
    "csk_75_df['Balls'].describe()"
   ]
  },
  {
   "cell_type": "code",
   "execution_count": 48,
   "metadata": {},
   "outputs": [
    {
     "data": {
      "text/plain": [
       "count     61.000000\n",
       "mean      73.409836\n",
       "std       15.751589\n",
       "min       34.000000\n",
       "25%       66.000000\n",
       "50%       73.000000\n",
       "75%       83.000000\n",
       "max      123.000000\n",
       "Name: Balls, dtype: float64"
      ]
     },
     "execution_count": 48,
     "metadata": {},
     "output_type": "execute_result"
    }
   ],
   "source": [
    "kkr_75 = list()\n",
    "for match_id in delivery[(delivery['batting_team']==team_2)]['match_id'].unique():\n",
    "    balls = 0\n",
    "    runs = 0\n",
    "    for run in delivery[(delivery['batting_team']==team_2) & (delivery['match_id']==match_id)]['total_runs']:\n",
    "        balls += 1\n",
    "        runs += run\n",
    "        \n",
    "        if runs in range(100, 106):\n",
    "            break\n",
    "    kkr_75.append([match_id, runs, balls])\n",
    "    \n",
    "kkr_75_df = pd.DataFrame(data=kkr_75, columns=['match_id', 'Runs', 'Balls'])\n",
    "kkr_75_df['Balls'].describe()"
   ]
  },
  {
   "cell_type": "markdown",
   "metadata": {},
   "source": [
    "Subtraticng both the mean values gives the value in the range between: 8 to 15"
   ]
  },
  {
   "cell_type": "markdown",
   "metadata": {},
   "source": [
    "# DL Chahar number of balls to first wicket"
   ]
  },
  {
   "cell_type": "code",
   "execution_count": 49,
   "metadata": {},
   "outputs": [],
   "source": [
    "kkr_team = ['S Gill', 'N Rana', 'RA Tripathi', 'KD Karthik', 'SP Narine', 'EJG Morgan', 'PJ Cummins', 'LH Ferguson', 'P Krishna', 'V Chakravarthy']"
   ]
  },
  {
   "cell_type": "code",
   "execution_count": 50,
   "metadata": {},
   "outputs": [
    {
     "data": {
      "text/plain": [
       "Text(0.5, 1.0, 'DL Chahar wickets against KKR batsmen ')"
      ]
     },
     "execution_count": 50,
     "metadata": {},
     "output_type": "execute_result"
    },
    {
     "data": {
      "image/png": "[encoded data removed]",
      "text/plain": [
       "<Figure size 432x288 with 1 Axes>"
      ]
     },
     "metadata": {
      "needs_background": "light"
     },
     "output_type": "display_data"
    }
   ],
   "source": [
    "delivery[(delivery['bowler']=='DL Chahar') & (delivery['batsman'].isin(kkr_team)) & (delivery['player_dismissed']==1)].groupby('batsman').sum()['player_dismissed'].plot(kind='bar', color='red')\n",
    "plt.title(\"DL Chahar wickets against KKR batsmen \")"
   ]
  },
  {
   "cell_type": "code",
   "execution_count": 51,
   "metadata": {},
   "outputs": [
    {
     "data": {
      "text/html": [
       "<div>\n",
       "<style scoped>\n",
       "    .dataframe tbody tr th:only-of-type {\n",
       "        vertical-align: middle;\n",
       "    }\n",
       "\n",
       "    .dataframe tbody tr th {\n",
       "        vertical-align: top;\n",
       "    }\n",
       "\n",
       "    .dataframe thead th {\n",
       "        text-align: right;\n",
       "    }\n",
       "</style>\n",
       "<table border=\"1\" class=\"dataframe\">\n",
       "  <thead>\n",
       "    <tr style=\"text-align: right;\">\n",
       "      <th></th>\n",
       "      <th>Balls to first wicket</th>\n",
       "    </tr>\n",
       "  </thead>\n",
       "  <tbody>\n",
       "    <tr>\n",
       "      <th>mean</th>\n",
       "      <td>11.100000</td>\n",
       "    </tr>\n",
       "    <tr>\n",
       "      <th>std</th>\n",
       "      <td>6.188699</td>\n",
       "    </tr>\n",
       "    <tr>\n",
       "      <th>min</th>\n",
       "      <td>1.000000</td>\n",
       "    </tr>\n",
       "    <tr>\n",
       "      <th>25%</th>\n",
       "      <td>7.000000</td>\n",
       "    </tr>\n",
       "    <tr>\n",
       "      <th>50%</th>\n",
       "      <td>11.500000</td>\n",
       "    </tr>\n",
       "    <tr>\n",
       "      <th>75%</th>\n",
       "      <td>14.750000</td>\n",
       "    </tr>\n",
       "    <tr>\n",
       "      <th>max</th>\n",
       "      <td>24.000000</td>\n",
       "    </tr>\n",
       "  </tbody>\n",
       "</table>\n",
       "</div>"
      ],
      "text/plain": [
       "      Balls to first wicket\n",
       "mean              11.100000\n",
       "std                6.188699\n",
       "min                1.000000\n",
       "25%                7.000000\n",
       "50%               11.500000\n",
       "75%               14.750000\n",
       "max               24.000000"
      ]
     },
     "execution_count": 51,
     "metadata": {},
     "output_type": "execute_result"
    },
    {
     "data": {
      "image/png": "[encoded data removed]",
      "text/plain": [
       "<Figure size 432x288 with 1 Axes>"
      ]
     },
     "metadata": {
      "needs_background": "light"
     },
     "output_type": "display_data"
    }
   ],
   "source": [
    "dl_chahar = delivery[(delivery['bowler']=='DL Chahar')]\n",
    "balls = list()\n",
    "mat_id = list()\n",
    "for match_id in dl_chahar.match_id.unique():\n",
    "    ball = 0\n",
    "    for dismiss in dl_chahar[dl_chahar['match_id']==match_id]['player_dismissed']:\n",
    "        ball += 1\n",
    "        if dismiss == 1:\n",
    "            break\n",
    "    if (ball <= 24):\n",
    "        balls.append(ball)\n",
    "        mat_id.append(match_id)\n",
    "    \n",
    "dl_chahar_wk = pd.DataFrame(index=mat_id, data=balls, columns=['Balls to first wicket'])\n",
    "dl_chahar_wk.plot(kind='hist', grid=True, color='y')\n",
    "plt.title(\"DL Chahar no. of balls for his for his first wicket against all teams\")\n",
    "dl_chahar_wk.describe()[1:]"
   ]
  },
  {
   "cell_type": "markdown",
   "metadata": {},
   "source": [
    "# Number of overs having 6s and 4s both."
   ]
  },
  {
   "cell_type": "code",
   "execution_count": 52,
   "metadata": {},
   "outputs": [
    {
     "name": "stdout",
     "output_type": "stream",
     "text": [
      "count    55.000000\n",
      "mean      2.854545\n",
      "std       1.736516\n",
      "min       1.000000\n",
      "25%       2.000000\n",
      "50%       3.000000\n",
      "75%       3.000000\n",
      "max      10.000000\n",
      "Name: index, dtype: float64\n"
     ]
    },
    {
     "data": {
      "image/png": "[encoded data removed]",
      "text/plain": [
       "<Figure size 432x288 with 1 Axes>"
      ]
     },
     "metadata": {
      "needs_background": "light"
     },
     "output_type": "display_data"
    }
   ],
   "source": [
    "kkr_four_six = delivery[(delivery['batting_team']==team_2) & (delivery['batsman_runs'].isin([4, 6]))]\n",
    "match_id_mi = list()\n",
    "over_mi = list()\n",
    "for match_id in kkr_four_six['match_id'].unique():\n",
    "    for over in kkr_four_six[(kkr_four_six['match_id']==match_id)]['over'].unique():\n",
    "        if len(kkr_four_six[(kkr_four_six['match_id']==match_id) & (kkr_four_six['over']==over)]['batsman_runs'].value_counts())==2:\n",
    "            match_id_mi.append(match_id)\n",
    "            over_mi.append(over)\n",
    "\n",
    "kkr_over_hit = pd.DataFrame(index=match_id_mi, data=over_mi, columns=['Over']).reset_index()\n",
    "kkr_over_hit['index'].value_counts().plot(kind='hist', color='k')\n",
    "plt.title(\"Overs Histogram of KKR\")\n",
    "print(kkr_over_hit['index'].value_counts().describe())"
   ]
  },
  {
   "cell_type": "code",
   "execution_count": 53,
   "metadata": {},
   "outputs": [
    {
     "name": "stdout",
     "output_type": "stream",
     "text": [
      "count    30.000000\n",
      "mean      2.866667\n",
      "std       1.224276\n",
      "min       1.000000\n",
      "25%       2.000000\n",
      "50%       2.000000\n",
      "75%       4.000000\n",
      "max       5.000000\n",
      "Name: index, dtype: float64\n"
     ]
    },
    {
     "data": {
      "image/png": "[encoded data removed]",
      "text/plain": [
       "<Figure size 432x288 with 1 Axes>"
      ]
     },
     "metadata": {
      "needs_background": "light"
     },
     "output_type": "display_data"
    }
   ],
   "source": [
    "csk_four_six = delivery[(delivery['batting_team']==team_1) & (delivery['batsman_runs'].isin([4, 6]))]\n",
    "match_id_csk = list()\n",
    "over_csk = list()\n",
    "for match_id in csk_four_six['match_id'].unique():\n",
    "    for over in csk_four_six[(csk_four_six['match_id']==match_id)]['over'].unique():\n",
    "        if len(csk_four_six[(csk_four_six['match_id']==match_id) & (csk_four_six['over']==over)]['batsman_runs'].value_counts())==2:\n",
    "            match_id_csk.append(match_id)\n",
    "            over_csk.append(over)\n",
    "\n",
    "csk_over_hit = pd.DataFrame(index=match_id_csk, data=over_csk, columns=['Over']).reset_index()\n",
    "csk_over_hit['index'].value_counts().plot(kind='hist', color='y')\n",
    "plt.title(\"Overs Histogram of CSK\")\n",
    "print(csk_over_hit['index'].value_counts().describe())"
   ]
  },
  {
   "cell_type": "markdown",
   "metadata": {},
   "source": [
    "The total overs lies in the range 3 - 4. Because the winning chances of KKR is less the expectation of such overs from KKR is less. So, we take the median values and summed and decreased by 1. "
   ]
  },
  {
   "cell_type": "markdown",
   "metadata": {},
   "source": [
    "# No-balls "
   ]
  },
  {
   "cell_type": "code",
   "execution_count": 54,
   "metadata": {},
   "outputs": [
    {
     "data": {
      "text/plain": [
       "Text(0.5, 1.0, 'No of no-balls delivered by the today playing XI squad bowlers during 2016-2019')"
      ]
     },
     "execution_count": 54,
     "metadata": {},
     "output_type": "execute_result"
    },
    {
     "data": {
      "image/png": "[encoded data removed]",
      "text/plain": [
       "<Figure size 432x288 with 1 Axes>"
      ]
     },
     "metadata": {
      "needs_background": "light"
     },
     "output_type": "display_data"
    }
   ],
   "source": [
    "bowlers = ['PP Chawla', 'SN Thakur', 'DL Chahar', 'RA Jadeja', 'SR Watson', 'S Curran', 'PJ Cummins', 'LH Ferguson', 'P Krishna', 'V Chakravarthy', 'SP Narine']\n",
    "delivery[delivery['bowler'].isin(bowlers)].groupby('match_id').sum()['noball_runs'].value_counts().plot(kind='bar')\n",
    "plt.title(\"No of no-balls delivered by the today playing XI squad bowlers during 2016-2019\")"
   ]
  },
  {
   "cell_type": "markdown",
   "metadata": {},
   "source": [
    "# Summary"
   ]
  },
  {
   "cell_type": "markdown",
   "metadata": {},
   "source": [
    "1. Different central tendency measures were plotted and compared for both the teams total match score. The winning chances of both the team were calculated using the winner column when played against each other. \n",
    "2. The number of balls to reach 75 runs per match was calculated. Then subtracting the mean number of balls for both the teams the range was estimated. \n",
    "3. The number of balls per match DL Chahar took for his first wicket was calculated. Using Histogram, The range was chosen where the max frequency occurred.\n",
    "4. The overs where team hit both 4 and 6 were filtered, the number of such overs was calculated for both the teams. Summation of highest frequency occurrence value for both team's histogram to estimate range. \n",
    "5. Data was filtered for only when predicted bowlers bowled an over to find out how many no-balls run was given per match by combined bowlers. Then, a histogram of a number of no-balls was compared to find the range. "
   ]
  },
  {
   "cell_type": "code",
   "execution_count": null,
   "metadata": {},
   "outputs": [],
   "source": []
  }
 ],
 "metadata": {
  "kernelspec": {
   "display_name": "Python 3",
   "language": "python",
   "name": "python3"
  },
  "language_info": {
   "codemirror_mode": {
    "name": "ipython",
    "version": 3
   },
   "file_extension": ".py",
   "mimetype": "text/x-python",
   "name": "python",
   "nbconvert_exporter": "python",
   "pygments_lexer": "ipython3",
   "version": "3.7.6"
  }
 },
 "nbformat": 4,
 "nbformat_minor": 4
}
