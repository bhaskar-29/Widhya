{
 "cells": [
  {
   "cell_type": "code",
   "execution_count": 2,
   "metadata": {},
   "outputs": [],
   "source": [
    "import pandas as pd\n",
    "import numpy as np\n",
    "import seaborn as sns\n",
    "import matplotlib.pyplot as plt\n",
    "from statistics import mode\n",
    "import math\n",
    "%matplotlib inline"
   ]
  },
  {
   "cell_type": "code",
   "execution_count": 3,
   "metadata": {},
   "outputs": [],
   "source": [
    "matches = pd.read_csv('matches.csv')\n",
    "delivery = pd.read_csv('deliveries.csv')\n",
    "match_ids = matches[matches.season >= 2016]['id'].unique()\n",
    "matches1 = matches[(matches.season >= 2016) & (matches['result']=='normal')]\n",
    "matches1 = matches1.drop(['player_of_match','venue','umpire1','umpire2','umpire3', 'dl_applied', 'season', 'city', 'date', 'result'], axis=1)\n",
    "matches1.dropna(inplace=True)"
   ]
  },
  {
   "cell_type": "code",
   "execution_count": 4,
   "metadata": {},
   "outputs": [],
   "source": [
    "def team_correction(row):\n",
    "    row = row.strip()\n",
    "    if row == 'Delhi Daredevils':\n",
    "        return 'Delhi Capitals'\n",
    "    if row == 'Rising Pune Supergiants':\n",
    "        return 'Rising Pune Supergiant'\n",
    "    return row\n",
    "\n",
    "for col in ['team1', 'team2', 'winner', 'toss_winner']:\n",
    "    matches1[col] = matches1[col].apply(team_correction)\n",
    "    "
   ]
  },
  {
   "cell_type": "code",
   "execution_count": 5,
   "metadata": {},
   "outputs": [],
   "source": [
    "team_1 = 'Kings XI Punjab'\n",
    "team_2 = 'Delhi Capitals'\n",
    "for col in ['team1', 'team2', 'winner', 'toss_winner']:\n",
    "    matches1[col] = matches1[col].apply(lambda x: x if x==team_1 else (x if x==team_2 else \"Others\"))\n"
   ]
  },
  {
   "cell_type": "markdown",
   "metadata": {},
   "source": [
    "# Winning Probability of Teams"
   ]
  },
  {
   "cell_type": "code",
   "execution_count": 20,
   "metadata": {},
   "outputs": [
    {
     "data": {
      "text/plain": [
       "Text(0.5, 1.0, 'DC Total Runs Score Stats')"
      ]
     },
     "execution_count": 20,
     "metadata": {},
     "output_type": "execute_result"
    },
    {
     "data": {
      "image/png": "[encoded data removed]",
      "text/plain": [
       "<Figure size 1440x576 with 2 Axes>"
      ]
     },
     "metadata": {
      "needs_background": "light"
     },
     "output_type": "display_data"
    }
   ],
   "source": [
    "fig, ax = plt.subplots(1,2, figsize=(20,8))\n",
    "delivery[delivery['batting_team']==team_1].groupby('match_id').sum()['total_runs'].describe()[1:].plot(ax=ax[0], kind='bar', grid=True)\n",
    "delivery[delivery['batting_team']==team_2].groupby('match_id').sum()['total_runs'].describe()[1:].plot(ax=ax[1], kind='bar', color='orange', grid=True)\n",
    "ax[0].set_title(\"KXIP Total Runs Score Stats\")\n",
    "ax[1].set_title(\"DC Total Runs Score Stats\")"
   ]
  },
  {
   "cell_type": "markdown",
   "metadata": {},
   "source": [
    "As both the teams score stats are almost equal in values and performances are almost at par with each other, we have to also consider the present scenario. As DC is performing well as compared to KXIP in winning and in points table, the probability of winnning of DC is high."
   ]
  },
  {
   "cell_type": "markdown",
   "metadata": {},
   "source": [
    "# KL Rahul Strike Rate in powerplay"
   ]
  },
  {
   "cell_type": "code",
   "execution_count": 7,
   "metadata": {},
   "outputs": [],
   "source": [
    "delivery = delivery[delivery.match_id.apply(lambda x: True if x in match_ids else False)]\n",
    "for col in ['batting_team', 'bowling_team']:\n",
    "    delivery[col] = delivery[col].apply(team_correction)\n",
    "\n",
    "delivery.fillna(0, inplace=True)\n",
    "delivery['player_dismissed'] = delivery['player_dismissed'].apply(lambda x: 0 if x==0 else 1)\n",
    "\n",
    "delivery['batsman_runs'] = delivery['batsman_runs'].apply(lambda x: x-1 if ((x==7) or (x==5)) else x)"
   ]
  },
  {
   "cell_type": "code",
   "execution_count": 8,
   "metadata": {},
   "outputs": [],
   "source": [
    "kl_rahul = delivery[(delivery['batsman']=='KL Rahul') & (delivery['over']<=6)]\n",
    "strike_rate = list()\n",
    "match_ids_ = list()\n",
    "balls_faced = list()\n",
    "bat_runs = list()\n",
    "for match_id in kl_rahul.match_id.unique():\n",
    "    balls = 0\n",
    "    runs = 0\n",
    "    for run in kl_rahul[kl_rahul['match_id']==match_id]['batsman_runs']:\n",
    "        balls += 1 \n",
    "        runs += run\n",
    "    if (runs*100/balls) < 250:\n",
    "        balls_faced.append(balls)\n",
    "        bat_runs.append(runs)\n",
    "        match_ids_.append(match_id)    \n",
    "        strike_rate.append(runs*100/balls)\n",
    "    "
   ]
  },
  {
   "cell_type": "code",
   "execution_count": 9,
   "metadata": {},
   "outputs": [
    {
     "data": {
      "text/html": [
       "<div>\n",
       "<style scoped>\n",
       "    .dataframe tbody tr th:only-of-type {\n",
       "        vertical-align: middle;\n",
       "    }\n",
       "\n",
       "    .dataframe tbody tr th {\n",
       "        vertical-align: top;\n",
       "    }\n",
       "\n",
       "    .dataframe thead th {\n",
       "        text-align: right;\n",
       "    }\n",
       "</style>\n",
       "<table border=\"1\" class=\"dataframe\">\n",
       "  <thead>\n",
       "    <tr style=\"text-align: right;\">\n",
       "      <th></th>\n",
       "      <th>Strike Rate</th>\n",
       "      <th>Runs Scored</th>\n",
       "      <th>Balls Played</th>\n",
       "    </tr>\n",
       "  </thead>\n",
       "  <tbody>\n",
       "    <tr>\n",
       "      <th>count</th>\n",
       "      <td>34.000000</td>\n",
       "      <td>34.000000</td>\n",
       "      <td>34.000000</td>\n",
       "    </tr>\n",
       "    <tr>\n",
       "      <th>mean</th>\n",
       "      <td>115.440611</td>\n",
       "      <td>18.441176</td>\n",
       "      <td>14.647059</td>\n",
       "    </tr>\n",
       "    <tr>\n",
       "      <th>std</th>\n",
       "      <td>54.325472</td>\n",
       "      <td>10.871679</td>\n",
       "      <td>5.819936</td>\n",
       "    </tr>\n",
       "    <tr>\n",
       "      <th>min</th>\n",
       "      <td>0.000000</td>\n",
       "      <td>0.000000</td>\n",
       "      <td>1.000000</td>\n",
       "    </tr>\n",
       "    <tr>\n",
       "      <th>25%</th>\n",
       "      <td>79.326923</td>\n",
       "      <td>9.250000</td>\n",
       "      <td>11.250000</td>\n",
       "    </tr>\n",
       "    <tr>\n",
       "      <th>50%</th>\n",
       "      <td>117.647059</td>\n",
       "      <td>20.000000</td>\n",
       "      <td>15.000000</td>\n",
       "    </tr>\n",
       "    <tr>\n",
       "      <th>75%</th>\n",
       "      <td>160.208333</td>\n",
       "      <td>26.750000</td>\n",
       "      <td>17.750000</td>\n",
       "    </tr>\n",
       "    <tr>\n",
       "      <th>max</th>\n",
       "      <td>200.000000</td>\n",
       "      <td>39.000000</td>\n",
       "      <td>27.000000</td>\n",
       "    </tr>\n",
       "  </tbody>\n",
       "</table>\n",
       "</div>"
      ],
      "text/plain": [
       "       Strike Rate  Runs Scored  Balls Played\n",
       "count    34.000000    34.000000     34.000000\n",
       "mean    115.440611    18.441176     14.647059\n",
       "std      54.325472    10.871679      5.819936\n",
       "min       0.000000     0.000000      1.000000\n",
       "25%      79.326923     9.250000     11.250000\n",
       "50%     117.647059    20.000000     15.000000\n",
       "75%     160.208333    26.750000     17.750000\n",
       "max     200.000000    39.000000     27.000000"
      ]
     },
     "execution_count": 9,
     "metadata": {},
     "output_type": "execute_result"
    }
   ],
   "source": [
    "kl_rahul_sr = pd.DataFrame(index=match_ids_, data={'Strike Rate':strike_rate, 'Runs Scored':bat_runs,'Balls Played': balls_faced})\n",
    "kl_rahul_sr.describe()"
   ]
  },
  {
   "cell_type": "code",
   "execution_count": 10,
   "metadata": {},
   "outputs": [
    {
     "data": {
      "text/plain": [
       "Text(0, 0.5, 'Frequency')"
      ]
     },
     "execution_count": 10,
     "metadata": {},
     "output_type": "execute_result"
    },
    {
     "data": {
      "image/png": "[encoded data removed]",
      "text/plain": [
       "<Figure size 720x576 with 1 Axes>"
      ]
     },
     "metadata": {
      "needs_background": "light"
     },
     "output_type": "display_data"
    }
   ],
   "source": [
    "kl_rahul_sr['Strike Rate'].hist(figsize=(10,8), color='purple')\n",
    "plt.xlabel('Strike Rates')\n",
    "plt.ylabel(\"Frequency\")"
   ]
  },
  {
   "cell_type": "markdown",
   "metadata": {},
   "source": [
    "Since, the frequency around the mean and median value is more, KL Rahul's strike rate in powerplay will be more than 110 but less than 121."
   ]
  },
  {
   "cell_type": "markdown",
   "metadata": {},
   "source": [
    "# Shreyas Iyer's Contribution in DC's Total Score"
   ]
  },
  {
   "cell_type": "code",
   "execution_count": 11,
   "metadata": {},
   "outputs": [],
   "source": [
    "iyer_matches = delivery[(delivery['batsman']== 'SS Iyer')]\n",
    "iyer_group = iyer_matches.groupby('match_id').sum()\n",
    "dc_matches = delivery[(delivery['batting_team']==team_2)].groupby('match_id').sum().reset_index()"
   ]
  },
  {
   "cell_type": "code",
   "execution_count": 12,
   "metadata": {},
   "outputs": [],
   "source": [
    "dc_match_score_iyer = dc_matches[dc_matches['match_id'].apply(lambda x: True if x in iyer_group.index else False)]\n",
    "dc_match_score_iyer.set_index('match_id', inplace=True)"
   ]
  },
  {
   "cell_type": "code",
   "execution_count": 21,
   "metadata": {},
   "outputs": [
    {
     "data": {
      "text/html": [
       "<div>\n",
       "<style scoped>\n",
       "    .dataframe tbody tr th:only-of-type {\n",
       "        vertical-align: middle;\n",
       "    }\n",
       "\n",
       "    .dataframe tbody tr th {\n",
       "        vertical-align: top;\n",
       "    }\n",
       "\n",
       "    .dataframe thead th {\n",
       "        text-align: right;\n",
       "    }\n",
       "</style>\n",
       "<table border=\"1\" class=\"dataframe\">\n",
       "  <thead>\n",
       "    <tr style=\"text-align: right;\">\n",
       "      <th></th>\n",
       "      <th>Iyer Score</th>\n",
       "      <th>Total DC Score</th>\n",
       "      <th>Pct Contribution</th>\n",
       "    </tr>\n",
       "    <tr>\n",
       "      <th>match_id</th>\n",
       "      <th></th>\n",
       "      <th></th>\n",
       "      <th></th>\n",
       "    </tr>\n",
       "  </thead>\n",
       "  <tbody>\n",
       "    <tr>\n",
       "      <th>15</th>\n",
       "      <td>22</td>\n",
       "      <td>178</td>\n",
       "      <td>12.359551</td>\n",
       "    </tr>\n",
       "    <tr>\n",
       "      <th>18</th>\n",
       "      <td>26</td>\n",
       "      <td>165</td>\n",
       "      <td>15.757576</td>\n",
       "    </tr>\n",
       "    <tr>\n",
       "      <th>21</th>\n",
       "      <td>50</td>\n",
       "      <td>169</td>\n",
       "      <td>29.585799</td>\n",
       "    </tr>\n",
       "    <tr>\n",
       "      <th>24</th>\n",
       "      <td>6</td>\n",
       "      <td>120</td>\n",
       "      <td>5.000000</td>\n",
       "    </tr>\n",
       "    <tr>\n",
       "      <th>31</th>\n",
       "      <td>47</td>\n",
       "      <td>153</td>\n",
       "      <td>30.718954</td>\n",
       "    </tr>\n",
       "  </tbody>\n",
       "</table>\n",
       "</div>"
      ],
      "text/plain": [
       "          Iyer Score  Total DC Score  Pct Contribution\n",
       "match_id                                              \n",
       "15                22             178         12.359551\n",
       "18                26             165         15.757576\n",
       "21                50             169         29.585799\n",
       "24                 6             120          5.000000\n",
       "31                47             153         30.718954"
      ]
     },
     "execution_count": 21,
     "metadata": {},
     "output_type": "execute_result"
    }
   ],
   "source": [
    "iyer_in_dc = pd.DataFrame(index=iyer_group.index, data={'Iyer Score': iyer_group['batsman_runs'], 'Total DC Score': dc_match_score_iyer['batsman_runs']})\n",
    "iyer_in_dc['Pct Contribution'] = iyer_in_dc['Iyer Score']*100/ iyer_in_dc['Total DC Score']\n",
    "iyer_in_dc.head()"
   ]
  },
  {
   "cell_type": "code",
   "execution_count": 14,
   "metadata": {},
   "outputs": [
    {
     "data": {
      "text/plain": [
       "count    47.000000\n",
       "mean     16.710249\n",
       "std      14.407873\n",
       "min       0.000000\n",
       "25%       4.805195\n",
       "50%      12.396694\n",
       "75%      27.326720\n",
       "max      49.484536\n",
       "Name: Pct Contribution, dtype: float64"
      ]
     },
     "execution_count": 14,
     "metadata": {},
     "output_type": "execute_result"
    }
   ],
   "source": [
    "iyer_in_dc['Pct Contribution'].describe()"
   ]
  },
  {
   "cell_type": "markdown",
   "metadata": {},
   "source": [
    "Since, the match is played in Dubai Cricket Stadium where pitch favours both bowlers and batsman, the chances of Iyer coming to play is high, and Iyer hitting a above decent score is also high. So, the contribution can be more than the mean contribution. So, here the mean is 16%, so the predicted contribution of Iyer in DC's score is in range 18.1% or more"
   ]
  },
  {
   "cell_type": "markdown",
   "metadata": {},
   "source": [
    "# Wickets by KXIP bowlers except Shami from 5 to 20 overs"
   ]
  },
  {
   "cell_type": "code",
   "execution_count": 23,
   "metadata": {},
   "outputs": [
    {
     "data": {
      "text/plain": [
       "Text(0.5, 1.0, 'Total wickets taken by Shami Over wise')"
      ]
     },
     "execution_count": 23,
     "metadata": {},
     "output_type": "execute_result"
    },
    {
     "data": {
      "image/png": "[encoded data removed]",
      "text/plain": [
       "<Figure size 1440x1296 with 6 Axes>"
      ]
     },
     "metadata": {
      "needs_background": "light"
     },
     "output_type": "display_data"
    }
   ],
   "source": [
    "fig, ax =  plt.subplots(2,3, figsize=(20,18))\n",
    "delivery[(delivery['batting_team']==team_2)].groupby('match_id').sum()['player_dismissed'].describe()[1:].plot(ax=ax[0, 0], kind='bar')\n",
    "delivery[(delivery['batting_team']==team_2) & (delivery['bowling_team']==team_1)].groupby('match_id').sum()['player_dismissed'].describe()[1:].plot(ax=ax[0, 1], kind='bar', color='orange')\n",
    "delivery[(delivery['bowler']=='Mohammed Shami')].groupby('match_id').sum()['player_dismissed'].plot(ax=ax[0, 2], kind='hist', color='maroon')\n",
    "delivery[(delivery['bowling_team']==team_1) & (delivery['over']<5)].groupby('match_id').sum()['player_dismissed'].plot(ax=ax[1, 0], kind='hist', color='red')\n",
    "delivery[(delivery['batting_team']==team_2) & (delivery['over']<5)].groupby('match_id').sum()['player_dismissed'].plot(ax=ax[1, 1], kind='hist', color='cyan')\n",
    "delivery[(delivery['bowler']=='Mohammed Shami')].groupby('over').sum()['player_dismissed'].plot(ax=ax[1, 2], kind='bar', color='black')\n",
    "ax[0, 0].set_title('DC Wickets Stats against all teams')\n",
    "ax[0, 1].set_title('DC Wickets Stats against KXIP')\n",
    "ax[0, 2].set_title('Shami Wickets Frequency')\n",
    "ax[1, 0].set_title('Wickets by KXIP in 0-5 overs')\n",
    "ax[1, 1].set_title('Wickets fall of DC in 0 - 5 overs')\n",
    "ax[1, 2].set_title('Total wickets taken by Shami Over wise')"
   ]
  },
  {
   "cell_type": "markdown",
   "metadata": {},
   "source": [
    "- First and second plot suggests that mean wickets fall of DC is 6. \n",
    "- Third plot suggests that Shami generally takes 1 wicket.\n",
    "- Forth plot suggests that Wickets taken by KXIP in 0-5 overs is generally 0 or 1.\n",
    "- Fifth plot suggest that general Wickets fall of DC 0-5 overs is 1.\n",
    "- Sixth plot suggests that Shami has taken maximum wickets during death overs.\n",
    "\n",
    "So, this suggest that, there is a chance of 5 wicket falls during 5th to 20th over. In which, atleast 1 wicket will be taken by Shami, and 4 wickets taken by other bowlers. "
   ]
  },
  {
   "cell_type": "markdown",
   "metadata": {},
   "source": [
    "# Gayle batting"
   ]
  },
  {
   "cell_type": "code",
   "execution_count": 16,
   "metadata": {},
   "outputs": [],
   "source": [
    "k11p_bowler_squad = ['CJ Jordan', 'A Singh', 'Mohammed Shami', 'K Gowtham', 'Mandeep Singh', 'GJ Maxwell']"
   ]
  },
  {
   "cell_type": "code",
   "execution_count": 17,
   "metadata": {},
   "outputs": [],
   "source": [
    "gayle_pp = delivery[(delivery['batsman']=='CH Gayle') & (delivery['over']<=6)]\n",
    "gayle = delivery[(delivery['batsman']=='CH Gayle') & (delivery['over']>6)]\n",
    "\n",
    "for g in [gayle_pp, gayle]:\n",
    "    strike_rate_g = list()\n",
    "    match_ids_g = list()\n",
    "    balls_faced_g = list()\n",
    "    bat_runs_g = list()\n",
    "    for match_id in g.match_id.unique():\n",
    "        balls = 0\n",
    "        runs = 0\n",
    "        for run in g[g['match_id']==match_id]['batsman_runs']:\n",
    "            balls += 1 \n",
    "            runs += run\n",
    "        if (runs*100/balls) < 250:\n",
    "            balls_faced_g.append(balls)\n",
    "            bat_runs_g.append(runs)\n",
    "            match_ids_g.append(match_id)    \n",
    "            strike_rate_g.append(runs*100/balls)\n",
    "    if g is gayle_pp:\n",
    "        gayle_sr_pp = pd.DataFrame(index=match_ids_g, data={'Strike Rate':strike_rate_g, 'Runs Scored':bat_runs_g,'Balls Played': balls_faced_g})      \n",
    "    else:\n",
    "        gayle_sr = pd.DataFrame(index=match_ids_g, data={'Strike Rate':strike_rate_g, 'Runs Scored':bat_runs_g,'Balls Played': balls_faced_g})    \n",
    "        \n",
    "\n"
   ]
  },
  {
   "cell_type": "code",
   "execution_count": 18,
   "metadata": {},
   "outputs": [],
   "source": [
    "fast_bowlers = ['AD Russell', 'AJ Tye', 'B Kumar', 'BA Stokes',\n",
    "       'BCJ Cutting', 'Basil Thampi', 'CH Morris', 'CR Woakes', \n",
    "       'DS Kulkarni', 'HH Pandya',  'J Archer',\n",
    "       'J Behrendorff', 'K Ahmed', 'KH Pandya', 'L Ngidi', 'M Morkel',\n",
    "       'MJ McClenaghan', 'S Nadeem',\n",
    "       'S Warrier', 'SR Watson', 'Sandeep Sharma', 'TG Southee',\n",
    "       'UT Yadav', 'Z Khan']\n",
    "spinners = ['AR Patel', 'SP Narine', 'Rashid Khan', 'S Lamichhane','Harbhajan Singh','DJ Hooda']\n",
    "galye_dismissed = delivery[(delivery['batsman']=='CH Gayle') & (delivery['player_dismissed']==1)].copy()\n",
    "galye_dismissed['Bowler Type'] = galye_dismissed['bowler'].apply(lambda x: 'Fast' if x in fast_bowlers else 'Spin')"
   ]
  },
  {
   "cell_type": "code",
   "execution_count": 19,
   "metadata": {},
   "outputs": [
    {
     "data": {
      "text/plain": [
       "Text(0.5, 1.0, 'Gayle Wicket vs Type of Bowlers')"
      ]
     },
     "execution_count": 19,
     "metadata": {},
     "output_type": "execute_result"
    },
    {
     "data": {
      "image/png": "[encoded data removed]",
      "text/plain": [
       "<Figure size 1440x1296 with 4 Axes>"
      ]
     },
     "metadata": {
      "needs_background": "light"
     },
     "output_type": "display_data"
    }
   ],
   "source": [
    "fig, ax =  plt.subplots(2,2, figsize=(20,18))\n",
    "gayle_sr_pp['Strike Rate'].plot(ax=ax[0, 0], kind='hist', color='red', grid=True)\n",
    "gayle_sr['Strike Rate'].plot(ax=ax[0, 1], kind='hist', color='maroon', grid=True)\n",
    "delivery[(delivery['bowler'].isin(k11p_bowler_squad)) & (delivery['player_dismissed']==1)].groupby('bowler').sum()['player_dismissed'].plot(ax=ax[1, 0], kind='bar')\n",
    "galye_dismissed['Bowler Type'].value_counts().plot(ax=ax[1, 1], kind='bar', color='orange')\n",
    "ax[0, 0].set_title(\"Gayle Strike Rate in Powerplay\")\n",
    "ax[0, 1].set_title(\"Gayle Strike Rate after Powerplay\")\n",
    "ax[1, 0].set_title(\"KXIP bowlers wickets so far\")\n",
    "ax[1, 1].set_title(\"Gayle Wicket vs Type of Bowlers\")"
   ]
  },
  {
   "cell_type": "markdown",
   "metadata": {},
   "source": [
    "- First plot suggests that Gayle strike rate in powerplay is generally around 150.\n",
    "- Second plot suggests that Gayle strike rate in overs 5 to 20 is around or greater than 130.\n",
    "- Third plot suggests that KXIP has fast bowlers majority and the wickets taken by them so far is high.\n",
    "- Fourth plot suggests that Gayle is dismissed majority times by Fast bowlers. \n",
    "\n",
    "First and second plot suggest that Gayle strike rate will be greater than 130.\n",
    "Third and fourth plot suggests that Gayle dismissal chances are high so his status will be out. "
   ]
  },
  {
   "cell_type": "markdown",
   "metadata": {},
   "source": [
    "# Summary"
   ]
  },
  {
   "cell_type": "markdown",
   "metadata": {},
   "source": [
    "- Total runs scored by both the teams independently showed that both the teams average run-scoring are same, so considering recent performance, the winning chances of DC was estimated high. \n",
    "- KL Rahul strike rate in the powerplay for every match was calculated, the mean value of strike rate is generally the common value of strike rate for Rahul. \n",
    "- Iyer's contribution to DC score for every match was calculated. Since the match is played in Dubai Cricket Stadium where pitch favours both bowlers and batsman, the chances of Iyer coming to play is high, and hitting above decent score is also high. So, the contribution can be more than the mean contribution.\n",
    "- Shami average wickets taken was calculated, in different overs, his dismissal rate was calculated, both teams average wicket taken and fall was calculated for 4th question.\n",
    "- Gayle's dismissal by bowler type, average strike rate, KXIP bowlers wickets graph, all these factors suggested high chance of Gayle dismissal and SR above 130."
   ]
  },
  {
   "cell_type": "code",
   "execution_count": null,
   "metadata": {},
   "outputs": [],
   "source": []
  }
 ],
 "metadata": {
  "kernelspec": {
   "display_name": "Python 3",
   "language": "python",
   "name": "python3"
  },
  "language_info": {
   "codemirror_mode": {
    "name": "ipython",
    "version": 3
   },
   "file_extension": ".py",
   "mimetype": "text/x-python",
   "name": "python",
   "nbconvert_exporter": "python",
   "pygments_lexer": "ipython3",
   "version": "3.7.6"
  }
 },
 "nbformat": 4,
 "nbformat_minor": 4
}
