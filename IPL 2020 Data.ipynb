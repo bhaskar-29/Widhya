{
 "cells": [
  {
   "cell_type": "code",
   "execution_count": 1,
   "metadata": {},
   "outputs": [],
   "source": [
    "import yaml\n",
    "import pandas as pd"
   ]
  },
  {
   "cell_type": "code",
   "execution_count": 2,
   "metadata": {},
   "outputs": [],
   "source": [
    "match_ids = list()\n",
    "with open(r\"C:\\Users\\LENOVO\\Downloads\\ipl (1)\\README.txt\", \"r\") as f:\n",
    "    for line in (f.readlines()):\n",
    "        match_ids.append(line.split(\"-\")[6]) \n",
    "        if '2020-09-20' in line:\n",
    "            break\n",
    "           \n",
    "            "
   ]
  },
  {
   "cell_type": "code",
   "execution_count": 3,
   "metadata": {},
   "outputs": [],
   "source": [
    "paths = list()\n",
    "for mat_id in match_ids:\n",
    "    gen_path = \"C:/Users/LENOVO/Downloads/ipl (1)/\"\n",
    "    ft =  \".yaml\"\n",
    "    str_id = (str(mat_id)).strip()\n",
    "    path =  gen_path+str_id+ft\n",
    "    paths.append(path)"
   ]
  },
  {
   "cell_type": "code",
   "execution_count": 4,
   "metadata": {},
   "outputs": [],
   "source": [
    "documents=list()\n",
    "for path in paths:\n",
    "    with open(path) as file:\n",
    "        document = yaml.full_load(file)\n",
    "        documents.append(document)"
   ]
  },
  {
   "cell_type": "code",
   "execution_count": 5,
   "metadata": {},
   "outputs": [],
   "source": [
    "team1 = list()\n",
    "team2 = list()\n",
    "toss_winner = list()\n",
    "toss_decision = list()\n",
    "winner = list()\n",
    "win_by_runs = list()\n",
    "win_by_wickets = list()\n",
    "dates = list()\n",
    "match_venue = list()\n",
    "\n",
    "\n",
    "for document in documents:\n",
    "    \n",
    "    info = document['info']\n",
    "    \n",
    "    match_venue.append(info['venue'])\n",
    "    dates.append(info['dates'][0])\n",
    "    team1.append(info['teams'][0])\n",
    "    team2.append(info['teams'][1])\n",
    "    toss_winner.append(info['toss']['winner'])\n",
    "    toss_decision.append(info['toss']['decision'])\n",
    "    \n",
    "    try:\n",
    "        winner.append(info['outcome']['winner'])\n",
    "        \n",
    "        try:\n",
    "            info['outcome']['by']['wickets']\n",
    "            win_by_wickets.append(info['outcome']['by']['wickets'])\n",
    "            win_by_runs.append(0)\n",
    "        except:\n",
    "            win_by_wickets.append(0)\n",
    "            win_by_runs.append(info['outcome']['by']['runs'])\n",
    "\n",
    "    except:\n",
    "        winner.append(info['outcome']['eliminator'])\n",
    "        win_by_runs.append(0)\n",
    "        win_by_wickets.append(0)\n",
    "\n",
    "        match_data = {'dates':dates, 'team1':team1, 'team2':team2, 'toss_winner':toss_winner, 'toss_decision':toss_decision, 'winner':winner, 'win_by_runs':win_by_runs, 'win_by_wickets':win_by_wickets, 'match_venue':match_venue}"
   ]
  },
  {
   "cell_type": "code",
   "execution_count": 10,
   "metadata": {},
   "outputs": [],
   "source": [
    "matches_ipl = pd.DataFrame(data=match_data)\n",
    "matches_ipl.to_csv('matches_2020.csv')"
   ]
  },
  {
   "cell_type": "code",
   "execution_count": 7,
   "metadata": {},
   "outputs": [],
   "source": [
    "bowlers = list()\n",
    "kind = list()\n",
    "non_striker = list()\n",
    "overs = list()\n",
    "total_runs = list()\n",
    "extra_runs = list()\n",
    "batsman_runs = list()\n",
    "batsman = list()\n",
    "player_dismissed = list()\n",
    "venue = list()\n",
    "batting_team = list()\n",
    "bowling_team = list()\n",
    "dismissed_batsman = list()\n",
    "date = list()\n",
    "\n",
    "for document in documents: \n",
    "    for i in range(0, len(document['innings'])):\n",
    "        \n",
    "            for over in (list(document['innings'][i].values())[0]['deliveries']):\n",
    "                \n",
    "                teams = document['info']['teams'].copy()\n",
    "                bat_team = list(document['innings'][i].values())[0]['team']\n",
    "                batting_team.append(bat_team)\n",
    "                teams.remove(bat_team)\n",
    "                bowling_team.append(teams[0])\n",
    "                venue.append(document['info']['venue'])\n",
    "                \n",
    "                info = document['info']\n",
    "                date.append(info['dates'][0])\n",
    "                \n",
    "                for o, details in over.items():\n",
    "                   \n",
    "                    overs.append(o)\n",
    "                    non_striker.append(details['non_striker'])\n",
    "                    total_runs.append(details['runs']['total'])\n",
    "                    extra_runs.append(details['runs']['extras'])\n",
    "                    batsman_runs.append(details['runs']['batsman'])   \n",
    "                    batsman.append(details['batsman'])\n",
    "                    bowlers.append(details['bowler'])\n",
    "                    \n",
    "                            \n",
    "                    if 'wicket' in list(details.keys()):\n",
    "                        player_dismissed.append(1)\n",
    "                        dismissed_batsman.append(details['wicket']['player_out'])\n",
    "                        kind.append(details['wicket']['kind'])\n",
    "                    else:\n",
    "                        player_dismissed.append(0)\n",
    "                        dismissed_batsman.append(0)\n",
    "                        kind.append(0)\n",
    "                        \n",
    "data = {\"date\":date ,\"overs\": overs,'batting_team':batting_team, 'bowling_team':bowling_team,  \"batsman\": batsman, \"non-striker\": non_striker,\"bowler\": bowlers, 'batsman_run': batsman_runs, 'extra_runs': extra_runs, 'total_runs': total_runs, 'player_dismissed': player_dismissed, 'dismissed_batsman':dismissed_batsman, 'kind':kind, 'venue':venue}"
   ]
  },
  {
   "cell_type": "code",
   "execution_count": 8,
   "metadata": {},
   "outputs": [],
   "source": [
    "ipl_2020 = pd.DataFrame(data=data)\n",
    "ipl_2020.to_csv('ipl2020.csv')"
   ]
  },
  {
   "cell_type": "code",
   "execution_count": null,
   "metadata": {},
   "outputs": [],
   "source": []
  }
 ],
 "metadata": {
  "kernelspec": {
   "display_name": "Python 3",
   "language": "python",
   "name": "python3"
  },
  "language_info": {
   "codemirror_mode": {
    "name": "ipython",
    "version": 3
   },
   "file_extension": ".py",
   "mimetype": "text/x-python",
   "name": "python",
   "nbconvert_exporter": "python",
   "pygments_lexer": "ipython3",
   "version": "3.7.6"
  }
 },
 "nbformat": 4,
 "nbformat_minor": 4
}
