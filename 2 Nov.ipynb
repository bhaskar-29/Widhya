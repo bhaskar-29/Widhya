{
 "cells": [
  {
   "cell_type": "code",
   "execution_count": 19,
   "metadata": {},
   "outputs": [],
   "source": [
    "import pandas as pd\n",
    "import numpy as np\n",
    "import seaborn as sns\n",
    "import matplotlib.pyplot as plt\n",
    "from statistics import mode\n",
    "import math\n",
    "%matplotlib inline\n"
   ]
  },
  {
   "cell_type": "code",
   "execution_count": 20,
   "metadata": {},
   "outputs": [],
   "source": [
    "matches = pd.read_csv('matches.csv')\n",
    "delivery = pd.read_csv('deliveries.csv')\n",
    "match_ids = matches[matches.season >= 2016]['id'].unique()\n",
    "matches1 = matches[(matches.season >= 2016) & (matches['result']=='normal')]\n",
    "matches1 = matches1.drop(['player_of_match','venue','umpire1','umpire2','umpire3', 'dl_applied', 'city', 'date', 'result'], axis=1)\n",
    "matches1.dropna(inplace=True)"
   ]
  },
  {
   "cell_type": "code",
   "execution_count": 21,
   "metadata": {},
   "outputs": [],
   "source": [
    "def team_correction(row):\n",
    "    row = row.strip()\n",
    "    if row == 'Delhi Daredevils':\n",
    "        return 'Delhi Capitals'\n",
    "    if row == 'Rising Pune Supergiants':\n",
    "        return 'Rising Pune Supergiant'\n",
    "    return row\n",
    "\n",
    "for col in ['team1', 'team2', 'winner', 'toss_winner']:\n",
    "    matches1[col] = matches1[col].apply(team_correction)\n",
    "    "
   ]
  },
  {
   "cell_type": "code",
   "execution_count": 22,
   "metadata": {},
   "outputs": [],
   "source": [
    "team_1 = 'Delhi Capitals'\n",
    "team_2 = 'Royal Challengers Bangalore'"
   ]
  },
  {
   "cell_type": "code",
   "execution_count": 23,
   "metadata": {},
   "outputs": [],
   "source": [
    "delivery = delivery[delivery.match_id.apply(lambda x: True if x in match_ids else False)]\n",
    "for col in ['batting_team', 'bowling_team']:\n",
    "    delivery[col] = delivery[col].apply(team_correction)\n",
    "\n",
    "delivery.fillna(0, inplace=True)\n",
    "delivery['player_dismissed'] = delivery['player_dismissed'].apply(lambda x: 0 if x==0 else 1)\n",
    "\n",
    "delivery['batsman_runs'] = delivery['batsman_runs'].apply(lambda x: x-1 if ((x==7) or (x==5)) else x)"
   ]
  },
  {
   "cell_type": "code",
   "execution_count": 24,
   "metadata": {},
   "outputs": [],
   "source": [
    "def clean(row):\n",
    "    if row['extra_runs']>= row['batsman_runs']:\n",
    "        row['extra_runs'] -= row['batsman_runs']\n",
    "        \n",
    "    return row\n",
    "\n",
    "delivery = delivery.apply(clean, axis=1)\n",
    "delivery['total_runs'] = delivery['extra_runs'] + delivery['batsman_runs']"
   ]
  },
  {
   "cell_type": "markdown",
   "metadata": {},
   "source": [
    "# Winning Probability of Teams"
   ]
  },
  {
   "cell_type": "code",
   "execution_count": 25,
   "metadata": {},
   "outputs": [
    {
     "data": {
      "text/plain": [
       "Text(0.5, 1.0, 'RCB Total Runs Score Stats Per Count')"
      ]
     },
     "execution_count": 25,
     "metadata": {},
     "output_type": "execute_result"
    },
    {
     "data": {
      "image/png": "[encoded data removed]",
      "text/plain": [
       "<Figure size 1440x576 with 2 Axes>"
      ]
     },
     "metadata": {
      "needs_background": "light"
     },
     "output_type": "display_data"
    }
   ],
   "source": [
    "fig, ax = plt.subplots(1,2, figsize=(20,8))\n",
    "dc_runs = delivery[delivery['batting_team']==team_1].groupby('match_id').sum()['total_runs']\n",
    "rcb_runs = delivery[delivery['batting_team']==team_2].groupby('match_id').sum()['total_runs']\n",
    "(dc_runs.describe()[1:]/dc_runs.describe()[0]).plot(ax=ax[0], kind='bar', grid=True, color='blue')\n",
    "(rcb_runs.describe()[1:]/rcb_runs.describe()[0]).plot(ax=ax[1], kind='bar', grid=True, color='red')\n",
    "ax[0].set_title(\"DC Total Runs Score Stats Per Count\")\n",
    "ax[1].set_title(\"RCB Total Runs Score Stats Per Count\")"
   ]
  },
  {
   "cell_type": "code",
   "execution_count": 28,
   "metadata": {},
   "outputs": [
    {
     "data": {
      "text/plain": [
       "Text(0.5, 1.0, 'Percentage of Winning')"
      ]
     },
     "execution_count": 28,
     "metadata": {},
     "output_type": "execute_result"
    },
    {
     "data": {
      "image/png": "[encoded data removed]",
      "text/plain": [
       "<Figure size 432x288 with 1 Axes>"
      ]
     },
     "metadata": {
      "needs_background": "light"
     },
     "output_type": "display_data"
    }
   ],
   "source": [
    "wins = pd.DataFrame(matches1[(matches1['team1'].isin([team_1, team_2])) & (matches1['team2'].isin([team_1, team_2]))]['winner'].value_counts())\n",
    "wins['Percentage Win Chance'] = (wins['winner']/sum(wins['winner']))*100\n",
    "wins['Percentage Win Chance'].plot(kind='bar', color=['red', 'blue'])\n",
    "plt.title('Percentage of Winning')"
   ]
  },
  {
   "cell_type": "markdown",
   "metadata": {},
   "source": [
    "# Strike Rate"
   ]
  },
  {
   "cell_type": "code",
   "execution_count": 34,
   "metadata": {},
   "outputs": [],
   "source": [
    "def strike_rate(batsman):\n",
    "    ratios = list()\n",
    "    for match_id in delivery[(delivery['batsman']==batsman)]['match_id'].unique():\n",
    "        match = delivery[(delivery['batsman']==batsman) & (delivery['match_id']==match_id)]\n",
    "        total_runs = sum(match['batsman_runs'])\n",
    "        total_balls = len(match)\n",
    "        total_4 = len(match[match['batsman_runs']==4])\n",
    "        total_6 = len(match[match['batsman_runs']==4])\n",
    "        \n",
    "        if total_balls>10: \n",
    "            rate = total_runs*100/total_balls\n",
    "            ratios.append([batsman, total_runs, total_balls, total_4, total_6, rate])\n",
    "        \n",
    "    return ratios"
   ]
  },
  {
   "cell_type": "code",
   "execution_count": 58,
   "metadata": {},
   "outputs": [],
   "source": [
    "rcb_team = ['S Dube' ,'Washington Sundar','AB de Villiers' ,'V Kohli', 'M Ali', 'YS Chahal', 'CH Morris', 'S Dube', 'Mohammed Siraj', 'N Saini']\n",
    "dc_team = ['P Shaw', 'S Dhawan', 'SS Iyer', 'RR Pant', 'S Hetmyer', 'MP Stoinis', 'AR Patel', 'R Ashwin', 'HV Patel', 'K Rabada']"
   ]
  },
  {
   "cell_type": "code",
   "execution_count": 59,
   "metadata": {},
   "outputs": [],
   "source": [
    "team = rcb_team + dc_team"
   ]
  },
  {
   "cell_type": "code",
   "execution_count": 64,
   "metadata": {},
   "outputs": [],
   "source": [
    "batsman_sr = list()\n",
    "for man in team:\n",
    "    batsman_sr += (strike_rate(man))"
   ]
  },
  {
   "cell_type": "code",
   "execution_count": 66,
   "metadata": {},
   "outputs": [
    {
     "data": {
      "text/html": [
       "<div>\n",
       "<style scoped>\n",
       "    .dataframe tbody tr th:only-of-type {\n",
       "        vertical-align: middle;\n",
       "    }\n",
       "\n",
       "    .dataframe tbody tr th {\n",
       "        vertical-align: top;\n",
       "    }\n",
       "\n",
       "    .dataframe thead th {\n",
       "        text-align: right;\n",
       "    }\n",
       "</style>\n",
       "<table border=\"1\" class=\"dataframe\">\n",
       "  <thead>\n",
       "    <tr style=\"text-align: right;\">\n",
       "      <th></th>\n",
       "      <th>Batsman</th>\n",
       "      <th>Runs</th>\n",
       "      <th>Balls</th>\n",
       "      <th>4s</th>\n",
       "      <th>6s</th>\n",
       "      <th>SR</th>\n",
       "    </tr>\n",
       "  </thead>\n",
       "  <tbody>\n",
       "    <tr>\n",
       "      <th>0</th>\n",
       "      <td>S Dube</td>\n",
       "      <td>24</td>\n",
       "      <td>16</td>\n",
       "      <td>0</td>\n",
       "      <td>0</td>\n",
       "      <td>150.000000</td>\n",
       "    </tr>\n",
       "    <tr>\n",
       "      <th>1</th>\n",
       "      <td>Washington Sundar</td>\n",
       "      <td>37</td>\n",
       "      <td>21</td>\n",
       "      <td>1</td>\n",
       "      <td>1</td>\n",
       "      <td>176.190476</td>\n",
       "    </tr>\n",
       "    <tr>\n",
       "      <th>2</th>\n",
       "      <td>AB de Villiers</td>\n",
       "      <td>89</td>\n",
       "      <td>49</td>\n",
       "      <td>3</td>\n",
       "      <td>3</td>\n",
       "      <td>181.632653</td>\n",
       "    </tr>\n",
       "    <tr>\n",
       "      <th>3</th>\n",
       "      <td>AB de Villiers</td>\n",
       "      <td>19</td>\n",
       "      <td>22</td>\n",
       "      <td>0</td>\n",
       "      <td>0</td>\n",
       "      <td>86.363636</td>\n",
       "    </tr>\n",
       "    <tr>\n",
       "      <th>4</th>\n",
       "      <td>AB de Villiers</td>\n",
       "      <td>29</td>\n",
       "      <td>32</td>\n",
       "      <td>1</td>\n",
       "      <td>1</td>\n",
       "      <td>90.625000</td>\n",
       "    </tr>\n",
       "  </tbody>\n",
       "</table>\n",
       "</div>"
      ],
      "text/plain": [
       "             Batsman  Runs  Balls  4s  6s          SR\n",
       "0             S Dube    24     16   0   0  150.000000\n",
       "1  Washington Sundar    37     21   1   1  176.190476\n",
       "2     AB de Villiers    89     49   3   3  181.632653\n",
       "3     AB de Villiers    19     22   0   0   86.363636\n",
       "4     AB de Villiers    29     32   1   1   90.625000"
      ]
     },
     "execution_count": 66,
     "metadata": {},
     "output_type": "execute_result"
    }
   ],
   "source": [
    "batsman_sr_df = pd.DataFrame(data=batsman_sr, columns=['Batsman', 'Runs', 'Balls', '4s', '6s', 'SR'])\n",
    "batsman_sr_df.head()"
   ]
  },
  {
   "cell_type": "code",
   "execution_count": 71,
   "metadata": {},
   "outputs": [
    {
     "data": {
      "text/plain": [
       "<matplotlib.lines.Line2D at 0x2824059a388>"
      ]
     },
     "execution_count": 71,
     "metadata": {},
     "output_type": "execute_result"
    },
    {
     "data": {
      "image/png": "[encoded data removed]",
      "text/plain": [
       "<Figure size 720x576 with 1 Axes>"
      ]
     },
     "metadata": {
      "needs_background": "light"
     },
     "output_type": "display_data"
    }
   ],
   "source": [
    "batsman_sr_df.groupby(\"Batsman\").mean().sort_values(by='SR', ascending=False)['SR'].plot(kind='bar', figsize=(10,8))\n",
    "plt.axhline(y=130, color='red')"
   ]
  },
  {
   "cell_type": "code",
   "execution_count": 73,
   "metadata": {},
   "outputs": [
    {
     "data": {
      "text/html": [
       "<div>\n",
       "<style scoped>\n",
       "    .dataframe tbody tr th:only-of-type {\n",
       "        vertical-align: middle;\n",
       "    }\n",
       "\n",
       "    .dataframe tbody tr th {\n",
       "        vertical-align: top;\n",
       "    }\n",
       "\n",
       "    .dataframe thead th {\n",
       "        text-align: right;\n",
       "    }\n",
       "</style>\n",
       "<table border=\"1\" class=\"dataframe\">\n",
       "  <thead>\n",
       "    <tr style=\"text-align: right;\">\n",
       "      <th></th>\n",
       "      <th>Runs</th>\n",
       "      <th>Balls</th>\n",
       "      <th>4s</th>\n",
       "      <th>6s</th>\n",
       "      <th>SR</th>\n",
       "    </tr>\n",
       "    <tr>\n",
       "      <th>Batsman</th>\n",
       "      <th></th>\n",
       "      <th></th>\n",
       "      <th></th>\n",
       "      <th></th>\n",
       "      <th></th>\n",
       "    </tr>\n",
       "  </thead>\n",
       "  <tbody>\n",
       "    <tr>\n",
       "      <th>M Ali</th>\n",
       "      <td>49.200000</td>\n",
       "      <td>26.200000</td>\n",
       "      <td>2.800000</td>\n",
       "      <td>2.800000</td>\n",
       "      <td>185.861335</td>\n",
       "    </tr>\n",
       "    <tr>\n",
       "      <th>HV Patel</th>\n",
       "      <td>30.000000</td>\n",
       "      <td>16.500000</td>\n",
       "      <td>0.500000</td>\n",
       "      <td>0.500000</td>\n",
       "      <td>183.088235</td>\n",
       "    </tr>\n",
       "    <tr>\n",
       "      <th>Washington Sundar</th>\n",
       "      <td>37.000000</td>\n",
       "      <td>21.000000</td>\n",
       "      <td>1.000000</td>\n",
       "      <td>1.000000</td>\n",
       "      <td>176.190476</td>\n",
       "    </tr>\n",
       "    <tr>\n",
       "      <th>RR Pant</th>\n",
       "      <td>47.750000</td>\n",
       "      <td>28.222222</td>\n",
       "      <td>4.083333</td>\n",
       "      <td>4.083333</td>\n",
       "      <td>163.386090</td>\n",
       "    </tr>\n",
       "    <tr>\n",
       "      <th>S Hetmyer</th>\n",
       "      <td>78.000000</td>\n",
       "      <td>50.000000</td>\n",
       "      <td>4.000000</td>\n",
       "      <td>4.000000</td>\n",
       "      <td>156.000000</td>\n",
       "    </tr>\n",
       "    <tr>\n",
       "      <th>CH Morris</th>\n",
       "      <td>35.250000</td>\n",
       "      <td>22.000000</td>\n",
       "      <td>2.500000</td>\n",
       "      <td>2.500000</td>\n",
       "      <td>155.161697</td>\n",
       "    </tr>\n",
       "    <tr>\n",
       "      <th>AB de Villiers</th>\n",
       "      <td>54.875000</td>\n",
       "      <td>33.281250</td>\n",
       "      <td>4.031250</td>\n",
       "      <td>4.031250</td>\n",
       "      <td>154.774625</td>\n",
       "    </tr>\n",
       "    <tr>\n",
       "      <th>S Dube</th>\n",
       "      <td>24.000000</td>\n",
       "      <td>16.000000</td>\n",
       "      <td>0.000000</td>\n",
       "      <td>0.000000</td>\n",
       "      <td>150.000000</td>\n",
       "    </tr>\n",
       "    <tr>\n",
       "      <th>R Ashwin</th>\n",
       "      <td>27.800000</td>\n",
       "      <td>19.000000</td>\n",
       "      <td>2.400000</td>\n",
       "      <td>2.400000</td>\n",
       "      <td>142.106926</td>\n",
       "    </tr>\n",
       "    <tr>\n",
       "      <th>MP Stoinis</th>\n",
       "      <td>27.500000</td>\n",
       "      <td>20.687500</td>\n",
       "      <td>2.000000</td>\n",
       "      <td>2.000000</td>\n",
       "      <td>134.281521</td>\n",
       "    </tr>\n",
       "    <tr>\n",
       "      <th>V Kohli</th>\n",
       "      <td>52.261905</td>\n",
       "      <td>36.761905</td>\n",
       "      <td>4.666667</td>\n",
       "      <td>4.666667</td>\n",
       "      <td>133.961374</td>\n",
       "    </tr>\n",
       "    <tr>\n",
       "      <th>P Shaw</th>\n",
       "      <td>39.076923</td>\n",
       "      <td>27.538462</td>\n",
       "      <td>4.384615</td>\n",
       "      <td>4.384615</td>\n",
       "      <td>131.957259</td>\n",
       "    </tr>\n",
       "  </tbody>\n",
       "</table>\n",
       "</div>"
      ],
      "text/plain": [
       "                        Runs      Balls        4s        6s          SR\n",
       "Batsman                                                                \n",
       "M Ali              49.200000  26.200000  2.800000  2.800000  185.861335\n",
       "HV Patel           30.000000  16.500000  0.500000  0.500000  183.088235\n",
       "Washington Sundar  37.000000  21.000000  1.000000  1.000000  176.190476\n",
       "RR Pant            47.750000  28.222222  4.083333  4.083333  163.386090\n",
       "S Hetmyer          78.000000  50.000000  4.000000  4.000000  156.000000\n",
       "CH Morris          35.250000  22.000000  2.500000  2.500000  155.161697\n",
       "AB de Villiers     54.875000  33.281250  4.031250  4.031250  154.774625\n",
       "S Dube             24.000000  16.000000  0.000000  0.000000  150.000000\n",
       "R Ashwin           27.800000  19.000000  2.400000  2.400000  142.106926\n",
       "MP Stoinis         27.500000  20.687500  2.000000  2.000000  134.281521\n",
       "V Kohli            52.261905  36.761905  4.666667  4.666667  133.961374\n",
       "P Shaw             39.076923  27.538462  4.384615  4.384615  131.957259"
      ]
     },
     "execution_count": 73,
     "metadata": {},
     "output_type": "execute_result"
    }
   ],
   "source": [
    "batsman_sr_df.groupby(\"Batsman\").mean().sort_values(by='SR', ascending=False).head(12)"
   ]
  },
  {
   "cell_type": "markdown",
   "metadata": {},
   "source": [
    "Not considering the batsmen in this graph which has lower chances of batting as compared to other opening and front line batsmen. Taking batsmen with higher chances of hitting 4 and 6, the range would be 5 - 7"
   ]
  },
  {
   "cell_type": "markdown",
   "metadata": {},
   "source": [
    "# Rabada balls to first wicket"
   ]
  },
  {
   "cell_type": "code",
   "execution_count": 74,
   "metadata": {},
   "outputs": [],
   "source": [
    "def balls_to_wicket(bowler):\n",
    "    balls = list()\n",
    "    for match_id in delivery[(delivery['bowler']==bowler)]['match_id'].unique():\n",
    "        match = delivery[(delivery['bowler']==bowler) & (delivery['match_id']==match_id)]\n",
    "        ball = 0\n",
    "        for w in match['player_dismissed']:\n",
    "            ball += 1\n",
    "            if w == 1:\n",
    "                break\n",
    "        if (ball <= 24):\n",
    "            balls.append(ball)\n",
    "    return balls"
   ]
  },
  {
   "cell_type": "code",
   "execution_count": 82,
   "metadata": {},
   "outputs": [
    {
     "data": {
      "text/plain": [
       "Text(0.5, 1.0, 'Rabada Balls to FIrst Wicket Histogram')"
      ]
     },
     "execution_count": 82,
     "metadata": {},
     "output_type": "execute_result"
    },
    {
     "data": {
      "image/png": "[encoded data removed]",
      "text/plain": [
       "<Figure size 432x288 with 1 Axes>"
      ]
     },
     "metadata": {
      "needs_background": "light"
     },
     "output_type": "display_data"
    }
   ],
   "source": [
    "plt.hist(balls_to_wicket('K Rabada'), color='blue')\n",
    "plt.title(\"Rabada Balls to FIrst Wicket Histogram\")"
   ]
  },
  {
   "cell_type": "code",
   "execution_count": 84,
   "metadata": {},
   "outputs": [
    {
     "name": "stdout",
     "output_type": "stream",
     "text": [
      "Percentage Chances of taking atleast one wicket in this match is: 88.88888888888889 %\n"
     ]
    }
   ],
   "source": [
    "rabada_matches = len(delivery[(delivery['bowler']=='K Rabada')]['match_id'].unique())\n",
    "rabada_wickets = len(delivery[(delivery['bowler']=='K Rabada') & (delivery['player_dismissed']==1)]['match_id'].unique())\n",
    "print(\"Percentage Chances of taking atleast one wicket in this match is:\", rabada_wickets*100/rabada_matches, '%')"
   ]
  },
  {
   "cell_type": "code",
   "execution_count": 85,
   "metadata": {},
   "outputs": [
    {
     "data": {
      "text/plain": [
       "Text(0.5, 1.0, 'Rabada Wickets Histogram vs Overs')"
      ]
     },
     "execution_count": 85,
     "metadata": {},
     "output_type": "execute_result"
    },
    {
     "data": {
      "image/png": "[encoded data removed]",
      "text/plain": [
       "<Figure size 432x288 with 1 Axes>"
      ]
     },
     "metadata": {
      "needs_background": "light"
     },
     "output_type": "display_data"
    }
   ],
   "source": [
    "delivery[(delivery['bowler']=='K Rabada')].groupby('over').sum()['player_dismissed'].plot( kind='bar', color='blue')\n",
    "plt.title(\"Rabada Wickets Histogram vs Overs\")"
   ]
  },
  {
   "cell_type": "markdown",
   "metadata": {},
   "source": [
    "The chances of K Rabda taking wicket in deah overs in high. This suggests that there is high chances of taking wicket in his 3rd or 4th over, so according to histogram this might be the 3rd over."
   ]
  },
  {
   "cell_type": "markdown",
   "metadata": {},
   "source": [
    "# Bowlers with Economy Rate < 8"
   ]
  },
  {
   "cell_type": "code",
   "execution_count": 91,
   "metadata": {},
   "outputs": [],
   "source": [
    "def economy_rate(bowler):\n",
    "    rates = list()\n",
    "    for match_id in delivery[(delivery['bowler']==bowler)]['match_id'].unique():\n",
    "        match = delivery[(delivery['bowler']==bowler) & (delivery['match_id']==match_id)]\n",
    "        boundaries = len(match[(match['total_runs'].isin([4, 5, 6, 7]))])\n",
    "        t_runs = sum(match['total_runs'])\n",
    "        balls = len(match)\n",
    "        dot_balls = len(match[match['total_runs']==0])\n",
    "        rate = t_runs*6/balls\n",
    "        if balls/6 > 2:\n",
    "            rates.append([bowler, t_runs, balls, boundaries, dot_balls, round(rate, 2)])\n",
    "        \n",
    "    return rates"
   ]
  },
  {
   "cell_type": "code",
   "execution_count": 93,
   "metadata": {},
   "outputs": [
    {
     "data": {
      "text/html": [
       "<div>\n",
       "<style scoped>\n",
       "    .dataframe tbody tr th:only-of-type {\n",
       "        vertical-align: middle;\n",
       "    }\n",
       "\n",
       "    .dataframe tbody tr th {\n",
       "        vertical-align: top;\n",
       "    }\n",
       "\n",
       "    .dataframe thead th {\n",
       "        text-align: right;\n",
       "    }\n",
       "</style>\n",
       "<table border=\"1\" class=\"dataframe\">\n",
       "  <thead>\n",
       "    <tr style=\"text-align: right;\">\n",
       "      <th></th>\n",
       "      <th>Bowler</th>\n",
       "      <th>Runs</th>\n",
       "      <th>Balls</th>\n",
       "      <th>Boundary</th>\n",
       "      <th>Dots</th>\n",
       "      <th>ER</th>\n",
       "    </tr>\n",
       "  </thead>\n",
       "  <tbody>\n",
       "    <tr>\n",
       "      <th>0</th>\n",
       "      <td>Washington Sundar</td>\n",
       "      <td>21</td>\n",
       "      <td>20</td>\n",
       "      <td>2</td>\n",
       "      <td>5</td>\n",
       "      <td>6.30</td>\n",
       "    </tr>\n",
       "    <tr>\n",
       "      <th>1</th>\n",
       "      <td>Washington Sundar</td>\n",
       "      <td>26</td>\n",
       "      <td>24</td>\n",
       "      <td>3</td>\n",
       "      <td>8</td>\n",
       "      <td>6.50</td>\n",
       "    </tr>\n",
       "    <tr>\n",
       "      <th>2</th>\n",
       "      <td>Washington Sundar</td>\n",
       "      <td>33</td>\n",
       "      <td>18</td>\n",
       "      <td>5</td>\n",
       "      <td>6</td>\n",
       "      <td>11.00</td>\n",
       "    </tr>\n",
       "    <tr>\n",
       "      <th>3</th>\n",
       "      <td>Washington Sundar</td>\n",
       "      <td>19</td>\n",
       "      <td>18</td>\n",
       "      <td>3</td>\n",
       "      <td>9</td>\n",
       "      <td>6.33</td>\n",
       "    </tr>\n",
       "    <tr>\n",
       "      <th>4</th>\n",
       "      <td>Washington Sundar</td>\n",
       "      <td>23</td>\n",
       "      <td>18</td>\n",
       "      <td>3</td>\n",
       "      <td>7</td>\n",
       "      <td>7.67</td>\n",
       "    </tr>\n",
       "  </tbody>\n",
       "</table>\n",
       "</div>"
      ],
      "text/plain": [
       "              Bowler  Runs  Balls  Boundary  Dots     ER\n",
       "0  Washington Sundar    21     20         2     5   6.30\n",
       "1  Washington Sundar    26     24         3     8   6.50\n",
       "2  Washington Sundar    33     18         5     6  11.00\n",
       "3  Washington Sundar    19     18         3     9   6.33\n",
       "4  Washington Sundar    23     18         3     7   7.67"
      ]
     },
     "execution_count": 93,
     "metadata": {},
     "output_type": "execute_result"
    }
   ],
   "source": [
    "bowlers_performance = list()\n",
    "for player in team:\n",
    "    bowlers_performance += (economy_rate(player))\n",
    "\n",
    "bowlers_performance_df = pd.DataFrame(data=bowlers_performance, columns=['Bowler', 'Runs', 'Balls', 'Boundary', 'Dots', 'ER'])\n",
    "bowlers_performance_df.head()"
   ]
  },
  {
   "cell_type": "code",
   "execution_count": 98,
   "metadata": {},
   "outputs": [
    {
     "data": {
      "text/html": [
       "<div>\n",
       "<style scoped>\n",
       "    .dataframe tbody tr th:only-of-type {\n",
       "        vertical-align: middle;\n",
       "    }\n",
       "\n",
       "    .dataframe tbody tr th {\n",
       "        vertical-align: top;\n",
       "    }\n",
       "\n",
       "    .dataframe thead th {\n",
       "        text-align: right;\n",
       "    }\n",
       "</style>\n",
       "<table border=\"1\" class=\"dataframe\">\n",
       "  <thead>\n",
       "    <tr style=\"text-align: right;\">\n",
       "      <th></th>\n",
       "      <th>Runs</th>\n",
       "      <th>Balls</th>\n",
       "      <th>Boundary</th>\n",
       "      <th>Dots</th>\n",
       "      <th>ER</th>\n",
       "    </tr>\n",
       "    <tr>\n",
       "      <th>Bowler</th>\n",
       "      <th></th>\n",
       "      <th></th>\n",
       "      <th></th>\n",
       "      <th></th>\n",
       "      <th></th>\n",
       "    </tr>\n",
       "  </thead>\n",
       "  <tbody>\n",
       "    <tr>\n",
       "      <th>M Ali</th>\n",
       "      <td>20.888889</td>\n",
       "      <td>21.222222</td>\n",
       "      <td>2.000000</td>\n",
       "      <td>8.555556</td>\n",
       "      <td>6.075556</td>\n",
       "    </tr>\n",
       "    <tr>\n",
       "      <th>R Ashwin</th>\n",
       "      <td>28.538462</td>\n",
       "      <td>23.512821</td>\n",
       "      <td>2.692308</td>\n",
       "      <td>6.794872</td>\n",
       "      <td>7.393590</td>\n",
       "    </tr>\n",
       "    <tr>\n",
       "      <th>YS Chahal</th>\n",
       "      <td>29.714286</td>\n",
       "      <td>23.571429</td>\n",
       "      <td>3.387755</td>\n",
       "      <td>8.448980</td>\n",
       "      <td>7.661633</td>\n",
       "    </tr>\n",
       "    <tr>\n",
       "      <th>Washington Sundar</th>\n",
       "      <td>26.428571</td>\n",
       "      <td>21.285714</td>\n",
       "      <td>3.071429</td>\n",
       "      <td>7.285714</td>\n",
       "      <td>7.720714</td>\n",
       "    </tr>\n",
       "    <tr>\n",
       "      <th>AR Patel</th>\n",
       "      <td>28.130435</td>\n",
       "      <td>22.000000</td>\n",
       "      <td>2.934783</td>\n",
       "      <td>6.760870</td>\n",
       "      <td>7.804783</td>\n",
       "    </tr>\n",
       "    <tr>\n",
       "      <th>K Rabada</th>\n",
       "      <td>32.222222</td>\n",
       "      <td>24.111111</td>\n",
       "      <td>4.333333</td>\n",
       "      <td>8.666667</td>\n",
       "      <td>8.023333</td>\n",
       "    </tr>\n",
       "    <tr>\n",
       "      <th>CH Morris</th>\n",
       "      <td>30.606061</td>\n",
       "      <td>22.545455</td>\n",
       "      <td>4.151515</td>\n",
       "      <td>7.939394</td>\n",
       "      <td>8.225152</td>\n",
       "    </tr>\n",
       "    <tr>\n",
       "      <th>N Saini</th>\n",
       "      <td>33.416667</td>\n",
       "      <td>24.500000</td>\n",
       "      <td>5.500000</td>\n",
       "      <td>11.166667</td>\n",
       "      <td>8.264167</td>\n",
       "    </tr>\n",
       "    <tr>\n",
       "      <th>Mohammed Siraj</th>\n",
       "      <td>35.652174</td>\n",
       "      <td>23.869565</td>\n",
       "      <td>4.913043</td>\n",
       "      <td>7.956522</td>\n",
       "      <td>9.003913</td>\n",
       "    </tr>\n",
       "    <tr>\n",
       "      <th>MP Stoinis</th>\n",
       "      <td>29.733333</td>\n",
       "      <td>19.800000</td>\n",
       "      <td>3.933333</td>\n",
       "      <td>5.266667</td>\n",
       "      <td>9.259333</td>\n",
       "    </tr>\n",
       "    <tr>\n",
       "      <th>HV Patel</th>\n",
       "      <td>36.363636</td>\n",
       "      <td>23.272727</td>\n",
       "      <td>5.090909</td>\n",
       "      <td>7.000000</td>\n",
       "      <td>9.460000</td>\n",
       "    </tr>\n",
       "  </tbody>\n",
       "</table>\n",
       "</div>"
      ],
      "text/plain": [
       "                        Runs      Balls  Boundary       Dots        ER\n",
       "Bowler                                                                \n",
       "M Ali              20.888889  21.222222  2.000000   8.555556  6.075556\n",
       "R Ashwin           28.538462  23.512821  2.692308   6.794872  7.393590\n",
       "YS Chahal          29.714286  23.571429  3.387755   8.448980  7.661633\n",
       "Washington Sundar  26.428571  21.285714  3.071429   7.285714  7.720714\n",
       "AR Patel           28.130435  22.000000  2.934783   6.760870  7.804783\n",
       "K Rabada           32.222222  24.111111  4.333333   8.666667  8.023333\n",
       "CH Morris          30.606061  22.545455  4.151515   7.939394  8.225152\n",
       "N Saini            33.416667  24.500000  5.500000  11.166667  8.264167\n",
       "Mohammed Siraj     35.652174  23.869565  4.913043   7.956522  9.003913\n",
       "MP Stoinis         29.733333  19.800000  3.933333   5.266667  9.259333\n",
       "HV Patel           36.363636  23.272727  5.090909   7.000000  9.460000"
      ]
     },
     "execution_count": 98,
     "metadata": {},
     "output_type": "execute_result"
    }
   ],
   "source": [
    "bowlers_performance_df.groupby('Bowler').mean().sort_values(by='ER')"
   ]
  },
  {
   "cell_type": "markdown",
   "metadata": {},
   "source": [
    "According to the above table, the mean values suggests that 2 bowlers might be among those who have less than 8 economy, more than 8 dots and less than 4 bounadries. "
   ]
  },
  {
   "cell_type": "markdown",
   "metadata": {},
   "source": [
    "# Summary"
   ]
  },
  {
   "cell_type": "markdown",
   "metadata": {},
   "source": [
    "1. Using the winners column the chances of winning were compared. The total score per match for both the teams were also compared to evaluate their batting performance.\n",
    "2. A function was created to calculate the strike rate of batsmen. In that, data wrt to batsman was filtered per match and boundaries, total balls, total runs, were calculated using batsman_runs column and mean strike rate was calculated. Also, the no.of 4s and 6s were also calculated by the function which helped in comparing batsmen.\n",
    "3. A function to calculate ball to the first wicket was calculated by using player_dismissed column and calculating balls until wicket. Then using histogram and wickets vs overs graph of Rabada, the estimation was done. \n",
    "4. A function to calculate the economy rate per match of bowlers were created using total_runs column. The function also calculated boundaries, dot balls per match. Using this, the mean rate, boundaries and dots were calculated and compared. "
   ]
  },
  {
   "cell_type": "code",
   "execution_count": null,
   "metadata": {},
   "outputs": [],
   "source": []
  }
 ],
 "metadata": {
  "kernelspec": {
   "display_name": "Python 3",
   "language": "python",
   "name": "python3"
  },
  "language_info": {
   "codemirror_mode": {
    "name": "ipython",
    "version": 3
   },
   "file_extension": ".py",
   "mimetype": "text/x-python",
   "name": "python",
   "nbconvert_exporter": "python",
   "pygments_lexer": "ipython3",
   "version": "3.7.6"
  }
 },
 "nbformat": 4,
 "nbformat_minor": 4
}
