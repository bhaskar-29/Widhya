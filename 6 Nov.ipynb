{
 "cells": [
  {
   "cell_type": "code",
   "execution_count": 51,
   "metadata": {},
   "outputs": [],
   "source": [
    "import pandas as pd\n",
    "import numpy as np\n",
    "import seaborn as sns\n",
    "import matplotlib.pyplot as plt\n",
    "from statistics import mode\n",
    "import math\n",
    "%matplotlib inline\n"
   ]
  },
  {
   "cell_type": "code",
   "execution_count": 52,
   "metadata": {},
   "outputs": [],
   "source": [
    "matches = pd.read_csv('matches.csv')\n",
    "delivery = pd.read_csv('deliveries.csv')\n",
    "match_ids = matches[matches.season >= 2016]['id'].unique()\n",
    "matches1 = matches[(matches.season >= 2016) & (matches['result']=='normal')]\n",
    "matches1 = matches1.drop(['player_of_match','venue','umpire1','umpire2','umpire3', 'dl_applied', 'city', 'date', 'result'], axis=1)\n",
    "matches1.dropna(inplace=True)"
   ]
  },
  {
   "cell_type": "code",
   "execution_count": 53,
   "metadata": {},
   "outputs": [],
   "source": [
    "def team_correction(row):\n",
    "    row = row.strip()\n",
    "    if row == 'Delhi Daredevils':\n",
    "        return 'Delhi Capitals'\n",
    "    if row == 'Rising Pune Supergiants':\n",
    "        return 'Rising Pune Supergiant'\n",
    "    return row\n",
    "\n",
    "for col in ['team1', 'team2', 'winner', 'toss_winner']:\n",
    "    matches1[col] = matches1[col].apply(team_correction)\n",
    "    "
   ]
  },
  {
   "cell_type": "code",
   "execution_count": 54,
   "metadata": {},
   "outputs": [],
   "source": [
    "team_1 = 'Sunrisers Hyderabad'\n",
    "team_2 = 'Royal Challengers Bangalore'"
   ]
  },
  {
   "cell_type": "code",
   "execution_count": 55,
   "metadata": {},
   "outputs": [],
   "source": [
    "delivery = delivery[delivery.match_id.apply(lambda x: True if x in match_ids else False)]\n",
    "for col in ['batting_team', 'bowling_team']:\n",
    "    delivery[col] = delivery[col].apply(team_correction)\n",
    "\n",
    "delivery.fillna(0, inplace=True)\n",
    "delivery['player_dismissed'] = delivery['player_dismissed'].apply(lambda x: 0 if x==0 else 1)\n",
    "\n",
    "delivery['batsman_runs'] = delivery['batsman_runs'].apply(lambda x: x-1 if ((x==7) or (x==5)) else x)"
   ]
  },
  {
   "cell_type": "code",
   "execution_count": 56,
   "metadata": {},
   "outputs": [],
   "source": [
    "def clean(row):\n",
    "    if row['extra_runs']>= row['batsman_runs']:\n",
    "        row['extra_runs'] -= row['batsman_runs']\n",
    "        \n",
    "    return row\n",
    "\n",
    "delivery = delivery.apply(clean, axis=1)\n",
    "delivery['total_runs'] = delivery['extra_runs'] + delivery['batsman_runs']\n",
    "delivery['bowler'] = delivery['bowler'].apply(lambda x: 'Sandeep Sharma' if x=='S Sharma' else x)"
   ]
  },
  {
   "cell_type": "markdown",
   "metadata": {},
   "source": [
    "# Winning Probability of Teams"
   ]
  },
  {
   "cell_type": "code",
   "execution_count": 57,
   "metadata": {},
   "outputs": [
    {
     "data": {
      "text/plain": [
       "Text(0.5, 1.0, 'RCB Total Runs Score Stats Per Count')"
      ]
     },
     "execution_count": 57,
     "metadata": {},
     "output_type": "execute_result"
    },
    {
     "data": {
      "image/png": "[encoded data removed]",
      "text/plain": [
       "<Figure size 1440x576 with 2 Axes>"
      ]
     },
     "metadata": {
      "needs_background": "light"
     },
     "output_type": "display_data"
    }
   ],
   "source": [
    "fig, ax = plt.subplots(1,2, figsize=(20,8))\n",
    "srh_runs = delivery[delivery['batting_team']==team_1].groupby('match_id').sum()['total_runs']\n",
    "rcb_runs = delivery[delivery['batting_team']==team_2].groupby('match_id').sum()['total_runs']\n",
    "(srh_runs.describe()[1:]/srh_runs.describe()[0]).plot(ax=ax[0], kind='bar', grid=True, color='orange')\n",
    "(rcb_runs.describe()[1:]/rcb_runs.describe()[0]).plot(ax=ax[1], kind='bar', grid=True, color='red')\n",
    "ax[0].set_title(\"SRH Total Runs Score Stats Per Count\")\n",
    "ax[1].set_title(\"RCB Total Runs Score Stats Per Count\")"
   ]
  },
  {
   "cell_type": "code",
   "execution_count": 109,
   "metadata": {},
   "outputs": [
    {
     "data": {
      "text/plain": [
       "Text(0.5, 1.0, 'Percentage of Winning')"
      ]
     },
     "execution_count": 109,
     "metadata": {},
     "output_type": "execute_result"
    },
    {
     "data": {
      "image/png": "[encoded data removed]",
      "text/plain": [
       "<Figure size 432x288 with 1 Axes>"
      ]
     },
     "metadata": {
      "needs_background": "light"
     },
     "output_type": "display_data"
    }
   ],
   "source": [
    "wins = pd.DataFrame(matches1[(matches1['team1'].isin([team_1, team_2])) & (matches1['team2'].isin([team_1, team_2])) & (matches1['season']>2016)]['winner'].value_counts())\n",
    "wins['Percentage Win Chance'] = (wins['winner']/sum(wins['winner']))*100\n",
    "wins['Percentage Win Chance'].plot(kind='bar', color=['orange', 'red'])\n",
    "plt.title('Percentage of Winning')"
   ]
  },
  {
   "cell_type": "code",
   "execution_count": null,
   "metadata": {},
   "outputs": [],
   "source": []
  },
  {
   "cell_type": "markdown",
   "metadata": {},
   "source": [
    "# Economy Rate of Sandeep Sharma and boundaries given"
   ]
  },
  {
   "cell_type": "code",
   "execution_count": 59,
   "metadata": {},
   "outputs": [],
   "source": [
    "def economy_rate(bowler):\n",
    "    rates = list()\n",
    "    for match_id in delivery[(delivery['bowler']==bowler)]['match_id'].unique():\n",
    "        \n",
    "        match = delivery[(delivery['bowler']==bowler) & (delivery['match_id']==match_id)]\n",
    "        b_4s = len(match[(match['total_runs'].isin([4, 5]))])\n",
    "        b_6s = len(match[(match['total_runs'].isin([6, 7]))])\n",
    "        t_runs = sum(match['total_runs'])\n",
    "        total_b = b_4s + b_6s\n",
    "        balls = len(match)\n",
    "        \n",
    "        if (balls/6 > 3):\n",
    "            rate = t_runs*6/balls\n",
    "            rates.append([bowler, t_runs, balls, b_4s, b_6s, total_b, round(rate, 2)])\n",
    "        \n",
    "    return rates"
   ]
  },
  {
   "cell_type": "code",
   "execution_count": 66,
   "metadata": {
    "scrolled": true
   },
   "outputs": [
    {
     "data": {
      "text/html": [
       "<div>\n",
       "<style scoped>\n",
       "    .dataframe tbody tr th:only-of-type {\n",
       "        vertical-align: middle;\n",
       "    }\n",
       "\n",
       "    .dataframe tbody tr th {\n",
       "        vertical-align: top;\n",
       "    }\n",
       "\n",
       "    .dataframe thead th {\n",
       "        text-align: right;\n",
       "    }\n",
       "</style>\n",
       "<table border=\"1\" class=\"dataframe\">\n",
       "  <thead>\n",
       "    <tr style=\"text-align: right;\">\n",
       "      <th></th>\n",
       "      <th>Runs</th>\n",
       "      <th>Balls</th>\n",
       "      <th>4s</th>\n",
       "      <th>6s</th>\n",
       "      <th>Total Boundaries</th>\n",
       "      <th>ER</th>\n",
       "    </tr>\n",
       "  </thead>\n",
       "  <tbody>\n",
       "    <tr>\n",
       "      <th>count</th>\n",
       "      <td>43.000000</td>\n",
       "      <td>43.000000</td>\n",
       "      <td>43.000000</td>\n",
       "      <td>43.000000</td>\n",
       "      <td>43.000000</td>\n",
       "      <td>43.000000</td>\n",
       "    </tr>\n",
       "    <tr>\n",
       "      <th>mean</th>\n",
       "      <td>30.511628</td>\n",
       "      <td>24.232558</td>\n",
       "      <td>2.767442</td>\n",
       "      <td>1.093023</td>\n",
       "      <td>3.860465</td>\n",
       "      <td>7.540930</td>\n",
       "    </tr>\n",
       "    <tr>\n",
       "      <th>std</th>\n",
       "      <td>10.459382</td>\n",
       "      <td>1.887770</td>\n",
       "      <td>1.586209</td>\n",
       "      <td>1.042295</td>\n",
       "      <td>2.018738</td>\n",
       "      <td>2.523749</td>\n",
       "    </tr>\n",
       "    <tr>\n",
       "      <th>min</th>\n",
       "      <td>9.000000</td>\n",
       "      <td>19.000000</td>\n",
       "      <td>1.000000</td>\n",
       "      <td>0.000000</td>\n",
       "      <td>1.000000</td>\n",
       "      <td>2.750000</td>\n",
       "    </tr>\n",
       "    <tr>\n",
       "      <th>25%</th>\n",
       "      <td>23.000000</td>\n",
       "      <td>24.000000</td>\n",
       "      <td>2.000000</td>\n",
       "      <td>0.000000</td>\n",
       "      <td>2.500000</td>\n",
       "      <td>5.660000</td>\n",
       "    </tr>\n",
       "    <tr>\n",
       "      <th>50%</th>\n",
       "      <td>31.000000</td>\n",
       "      <td>24.000000</td>\n",
       "      <td>2.000000</td>\n",
       "      <td>1.000000</td>\n",
       "      <td>4.000000</td>\n",
       "      <td>7.620000</td>\n",
       "    </tr>\n",
       "    <tr>\n",
       "      <th>75%</th>\n",
       "      <td>38.000000</td>\n",
       "      <td>25.000000</td>\n",
       "      <td>4.000000</td>\n",
       "      <td>2.000000</td>\n",
       "      <td>4.500000</td>\n",
       "      <td>9.375000</td>\n",
       "    </tr>\n",
       "    <tr>\n",
       "      <th>max</th>\n",
       "      <td>55.000000</td>\n",
       "      <td>28.000000</td>\n",
       "      <td>7.000000</td>\n",
       "      <td>4.000000</td>\n",
       "      <td>9.000000</td>\n",
       "      <td>13.750000</td>\n",
       "    </tr>\n",
       "  </tbody>\n",
       "</table>\n",
       "</div>"
      ],
      "text/plain": [
       "            Runs      Balls         4s         6s  Total Boundaries         ER\n",
       "count  43.000000  43.000000  43.000000  43.000000         43.000000  43.000000\n",
       "mean   30.511628  24.232558   2.767442   1.093023          3.860465   7.540930\n",
       "std    10.459382   1.887770   1.586209   1.042295          2.018738   2.523749\n",
       "min     9.000000  19.000000   1.000000   0.000000          1.000000   2.750000\n",
       "25%    23.000000  24.000000   2.000000   0.000000          2.500000   5.660000\n",
       "50%    31.000000  24.000000   2.000000   1.000000          4.000000   7.620000\n",
       "75%    38.000000  25.000000   4.000000   2.000000          4.500000   9.375000\n",
       "max    55.000000  28.000000   7.000000   4.000000          9.000000  13.750000"
      ]
     },
     "execution_count": 66,
     "metadata": {},
     "output_type": "execute_result"
    }
   ],
   "source": [
    "sharma = pd.DataFrame(economy_rate('Sandeep Sharma'), columns=['Bowler', 'Runs', 'Balls', '4s', '6s', 'Total Boundaries','ER'])\n",
    "sharma.describe()"
   ]
  },
  {
   "cell_type": "markdown",
   "metadata": {},
   "source": [
    "# Strike Rate"
   ]
  },
  {
   "cell_type": "code",
   "execution_count": 80,
   "metadata": {},
   "outputs": [],
   "source": [
    "def strike_rate(batsman):\n",
    "    ratios = list()\n",
    "    for match_id in delivery[(delivery['batsman']==batsman)]['match_id'].unique():\n",
    "        match = delivery[(delivery['batsman']==batsman) & (delivery['match_id']==match_id)]\n",
    "        total_runs = sum(match['batsman_runs'])\n",
    "        total_balls = len(match)\n",
    "        total_4 = len(match[match['batsman_runs']==4])\n",
    "        total_6 = len(match[match['batsman_runs']==6])\n",
    "        \n",
    "        if total_balls>10: \n",
    "            rate = total_runs*100/total_balls\n",
    "            ratios.append([batsman, total_runs, total_balls, total_4, total_6, rate])\n",
    "        \n",
    "    return ratios"
   ]
  },
  {
   "cell_type": "code",
   "execution_count": 111,
   "metadata": {},
   "outputs": [],
   "source": [
    "srh_team = ['DA Warner', 'WP Saha', 'MK Pandey', 'Rashid Khan', 'K Ahmed', 'T Natarajan', 'S Sharma', 'JO Holder', 'KS Williamson']\n",
    "rcb_team = ['Washington Sundar','AB de Villiers' ,'V Kohli', 'AJ Finch', 'YS Chahal', 'CH Morris', 'S Dube', 'N Saini', 'Gurkeerat Singh']\n",
    "teams = srh_team+rcb_team"
   ]
  },
  {
   "cell_type": "code",
   "execution_count": 112,
   "metadata": {},
   "outputs": [],
   "source": [
    "batsman_sr = list()\n",
    "for man in teams:\n",
    "    batsman_sr += (strike_rate(man))"
   ]
  },
  {
   "cell_type": "code",
   "execution_count": 113,
   "metadata": {},
   "outputs": [
    {
     "data": {
      "text/html": [
       "<div>\n",
       "<style scoped>\n",
       "    .dataframe tbody tr th:only-of-type {\n",
       "        vertical-align: middle;\n",
       "    }\n",
       "\n",
       "    .dataframe tbody tr th {\n",
       "        vertical-align: top;\n",
       "    }\n",
       "\n",
       "    .dataframe thead th {\n",
       "        text-align: right;\n",
       "    }\n",
       "</style>\n",
       "<table border=\"1\" class=\"dataframe\">\n",
       "  <thead>\n",
       "    <tr style=\"text-align: right;\">\n",
       "      <th></th>\n",
       "      <th>Runs</th>\n",
       "      <th>Balls</th>\n",
       "      <th>4s</th>\n",
       "      <th>6s</th>\n",
       "      <th>SR</th>\n",
       "    </tr>\n",
       "    <tr>\n",
       "      <th>Batsman</th>\n",
       "      <th></th>\n",
       "      <th></th>\n",
       "      <th></th>\n",
       "      <th></th>\n",
       "      <th></th>\n",
       "    </tr>\n",
       "  </thead>\n",
       "  <tbody>\n",
       "    <tr>\n",
       "      <th>S Dube</th>\n",
       "      <td>24.000000</td>\n",
       "      <td>16.000000</td>\n",
       "      <td>0.000000</td>\n",
       "      <td>2.000000</td>\n",
       "      <td>150.000000</td>\n",
       "    </tr>\n",
       "    <tr>\n",
       "      <th>YS Chahal</th>\n",
       "      <td>4.000000</td>\n",
       "      <td>12.000000</td>\n",
       "      <td>0.000000</td>\n",
       "      <td>0.000000</td>\n",
       "      <td>33.333333</td>\n",
       "    </tr>\n",
       "    <tr>\n",
       "      <th>Washington Sundar</th>\n",
       "      <td>37.000000</td>\n",
       "      <td>21.000000</td>\n",
       "      <td>1.000000</td>\n",
       "      <td>3.000000</td>\n",
       "      <td>176.190476</td>\n",
       "    </tr>\n",
       "    <tr>\n",
       "      <th>Rashid Khan</th>\n",
       "      <td>35.000000</td>\n",
       "      <td>11.000000</td>\n",
       "      <td>2.000000</td>\n",
       "      <td>4.000000</td>\n",
       "      <td>318.181818</td>\n",
       "    </tr>\n",
       "    <tr>\n",
       "      <th>CH Morris</th>\n",
       "      <td>35.250000</td>\n",
       "      <td>22.000000</td>\n",
       "      <td>2.500000</td>\n",
       "      <td>1.875000</td>\n",
       "      <td>155.161697</td>\n",
       "    </tr>\n",
       "    <tr>\n",
       "      <th>MK Pandey</th>\n",
       "      <td>33.837838</td>\n",
       "      <td>26.594595</td>\n",
       "      <td>2.648649</td>\n",
       "      <td>0.864865</td>\n",
       "      <td>118.537095</td>\n",
       "    </tr>\n",
       "    <tr>\n",
       "      <th>WP Saha</th>\n",
       "      <td>30.100000</td>\n",
       "      <td>23.250000</td>\n",
       "      <td>3.300000</td>\n",
       "      <td>0.450000</td>\n",
       "      <td>129.055114</td>\n",
       "    </tr>\n",
       "    <tr>\n",
       "      <th>Gurkeerat Singh</th>\n",
       "      <td>34.166667</td>\n",
       "      <td>25.000000</td>\n",
       "      <td>3.333333</td>\n",
       "      <td>0.833333</td>\n",
       "      <td>129.944444</td>\n",
       "    </tr>\n",
       "    <tr>\n",
       "      <th>AJ Finch</th>\n",
       "      <td>42.823529</td>\n",
       "      <td>30.647059</td>\n",
       "      <td>4.000000</td>\n",
       "      <td>1.823529</td>\n",
       "      <td>141.394756</td>\n",
       "    </tr>\n",
       "    <tr>\n",
       "      <th>AB de Villiers</th>\n",
       "      <td>54.875000</td>\n",
       "      <td>33.281250</td>\n",
       "      <td>4.031250</td>\n",
       "      <td>3.375000</td>\n",
       "      <td>154.774625</td>\n",
       "    </tr>\n",
       "    <tr>\n",
       "      <th>KS Williamson</th>\n",
       "      <td>46.653846</td>\n",
       "      <td>33.461538</td>\n",
       "      <td>4.038462</td>\n",
       "      <td>1.615385</td>\n",
       "      <td>137.892949</td>\n",
       "    </tr>\n",
       "    <tr>\n",
       "      <th>V Kohli</th>\n",
       "      <td>52.261905</td>\n",
       "      <td>36.761905</td>\n",
       "      <td>4.666667</td>\n",
       "      <td>1.785714</td>\n",
       "      <td>133.961374</td>\n",
       "    </tr>\n",
       "    <tr>\n",
       "      <th>DA Warner</th>\n",
       "      <td>56.153846</td>\n",
       "      <td>38.743590</td>\n",
       "      <td>5.333333</td>\n",
       "      <td>1.974359</td>\n",
       "      <td>140.973545</td>\n",
       "    </tr>\n",
       "  </tbody>\n",
       "</table>\n",
       "</div>"
      ],
      "text/plain": [
       "                        Runs      Balls        4s        6s          SR\n",
       "Batsman                                                                \n",
       "S Dube             24.000000  16.000000  0.000000  2.000000  150.000000\n",
       "YS Chahal           4.000000  12.000000  0.000000  0.000000   33.333333\n",
       "Washington Sundar  37.000000  21.000000  1.000000  3.000000  176.190476\n",
       "Rashid Khan        35.000000  11.000000  2.000000  4.000000  318.181818\n",
       "CH Morris          35.250000  22.000000  2.500000  1.875000  155.161697\n",
       "MK Pandey          33.837838  26.594595  2.648649  0.864865  118.537095\n",
       "WP Saha            30.100000  23.250000  3.300000  0.450000  129.055114\n",
       "Gurkeerat Singh    34.166667  25.000000  3.333333  0.833333  129.944444\n",
       "AJ Finch           42.823529  30.647059  4.000000  1.823529  141.394756\n",
       "AB de Villiers     54.875000  33.281250  4.031250  3.375000  154.774625\n",
       "KS Williamson      46.653846  33.461538  4.038462  1.615385  137.892949\n",
       "V Kohli            52.261905  36.761905  4.666667  1.785714  133.961374\n",
       "DA Warner          56.153846  38.743590  5.333333  1.974359  140.973545"
      ]
     },
     "execution_count": 113,
     "metadata": {},
     "output_type": "execute_result"
    }
   ],
   "source": [
    "batsman_sr_df = pd.DataFrame(data=batsman_sr, columns=['Batsman', 'Runs', 'Balls', '4s', '6s', 'SR'])\n",
    "batsman_sr_df.groupby(\"Batsman\").mean().sort_values(by='4s')"
   ]
  },
  {
   "cell_type": "code",
   "execution_count": 114,
   "metadata": {
    "scrolled": false
   },
   "outputs": [
    {
     "data": {
      "text/plain": [
       "Text(0.5, 1.0, 'Mean number of 4s per match')"
      ]
     },
     "execution_count": 114,
     "metadata": {},
     "output_type": "execute_result"
    },
    {
     "data": {
      "image/png": "[encoded data removed]",
      "text/plain": [
       "<Figure size 720x288 with 2 Axes>"
      ]
     },
     "metadata": {
      "needs_background": "light"
     },
     "output_type": "display_data"
    }
   ],
   "source": [
    "fig, ax = plt.subplots(1, 2, figsize=(10, 4))\n",
    "batsman_sr_df.groupby(\"Batsman\").mean().sort_values(by='SR', ascending=False)['SR'].plot(kind='bar', ax=ax[0])\n",
    "ax[0].axhline(y=130, color='red')\n",
    "batsman_sr_df.groupby(\"Batsman\").mean().sort_values(by='4s', ascending=False)['4s'].plot(kind='bar', ax=ax[1], color='orange')\n",
    "ax[1].axhline(y=2, color='green')\n",
    "ax[0].set_title('Mean Strike Rate of Bowlers')\n",
    "ax[1].set_title(\"Mean number of 4s per match\")"
   ]
  },
  {
   "cell_type": "markdown",
   "metadata": {},
   "source": [
    "Considering both the condition and frontline batsmen, the range will be 5-6"
   ]
  },
  {
   "cell_type": "markdown",
   "metadata": {},
   "source": [
    "# Batsman Ratio"
   ]
  },
  {
   "cell_type": "code",
   "execution_count": 115,
   "metadata": {},
   "outputs": [],
   "source": [
    "def batsman_ratio(batsmen):\n",
    "    ratios = list()\n",
    "    for man in batsmen:\n",
    "        for match_id in delivery[(delivery['batsman']==man)]['match_id'].unique():\n",
    "            match = delivery[(delivery['match_id']==match_id) & (delivery['batsman']==man)]\n",
    "            if len(match)>10:\n",
    "                b_runs = sum(match[(match['batsman_runs'].isin([4,6]))]['batsman_runs'])\n",
    "                s_runs = sum(match[(match['batsman_runs'].isin([1, 2, 3]))]['batsman_runs'])\n",
    "                t_runs = sum(match['batsman_runs'])\n",
    "                ratio = (b_runs-s_runs)/t_runs\n",
    "                ratios.append([man, ratio])\n",
    "    return ratios"
   ]
  },
  {
   "cell_type": "code",
   "execution_count": 116,
   "metadata": {},
   "outputs": [
    {
     "data": {
      "text/plain": [
       "<matplotlib.axes._subplots.AxesSubplot at 0x1e46f187e88>"
      ]
     },
     "execution_count": 116,
     "metadata": {},
     "output_type": "execute_result"
    },
    {
     "data": {
      "image/png": "[encoded data removed]",
      "text/plain": [
       "<Figure size 432x288 with 1 Axes>"
      ]
     },
     "metadata": {
      "needs_background": "light"
     },
     "output_type": "display_data"
    }
   ],
   "source": [
    "batsmans_performance = pd.DataFrame(data=batsman_ratio(teams), columns=['Batsman', 'Ratio'])\n",
    "batsmans_performance.groupby('Batsman').mean().sort_values(by='Ratio', ascending=False).plot(kind='bar')"
   ]
  },
  {
   "cell_type": "markdown",
   "metadata": {},
   "source": [
    "# Wickets Fall in Powerplay"
   ]
  },
  {
   "cell_type": "code",
   "execution_count": 117,
   "metadata": {},
   "outputs": [
    {
     "data": {
      "text/plain": [
       "<matplotlib.legend.Legend at 0x1e46f232ec8>"
      ]
     },
     "execution_count": 117,
     "metadata": {},
     "output_type": "execute_result"
    },
    {
     "data": {
      "image/png": "[encoded data removed]",
      "text/plain": [
       "<Figure size 432x288 with 1 Axes>"
      ]
     },
     "metadata": {
      "needs_background": "light"
     },
     "output_type": "display_data"
    }
   ],
   "source": [
    "delivery[(delivery['batting_team']==team_1) & (delivery['over']<=6)].groupby('match_id').sum()['player_dismissed'].hist(alpha=0.5, color='red', label='DC')\n",
    "delivery[(delivery['batting_team']==team_2) & (delivery['over']<=6)].groupby('match_id').sum()['player_dismissed'].hist(alpha=0.5, color='dodgerblue', label='MI')\n",
    "plt.title(\"Teams wickets fall per match in powerplay Histogram\")\n",
    "plt.legend()"
   ]
  },
  {
   "cell_type": "markdown",
   "metadata": {},
   "source": [
    "Both teams histogram suggests that they loose generally 1 wicket in powerplay. So, their sum wil be 2. "
   ]
  },
  {
   "cell_type": "markdown",
   "metadata": {},
   "source": [
    "# Summary"
   ]
  },
  {
   "cell_type": "markdown",
   "metadata": {},
   "source": [
    "1. Using winners column and comparing team score mean values, the chances of winning were calculated.\n",
    "2. Function to calculate economy rate per match of a bowler was created using total_runs column to calculate total runs, 4s, 6s, balls, and finds econ rate using formula. Median of these values was considered for S Sharma. \n",
    "3. Function to calculate strike rate using batsman_runs column to calculate total runs, 4s, 6s, scored, and balls faced by each batsman per match. Using formula, SR rate was calculated. Mean values were plotted and compared to find range. \n",
    "4. Function to calculate batsman ratio using batsman_runs column and finding runs by single, boundaries and total runs and getting ratio using formula for each batsman per match. Mean values were plotted and compared. \n",
    "5. Wickets in powerplay per match for both the teams were calculated by using player_dismissed column and histogram was plotted and frequency peaks were summed. "
   ]
  },
  {
   "cell_type": "code",
   "execution_count": null,
   "metadata": {},
   "outputs": [],
   "source": []
  }
 ],
 "metadata": {
  "kernelspec": {
   "display_name": "Python 3",
   "language": "python",
   "name": "python3"
  },
  "language_info": {
   "codemirror_mode": {
    "name": "ipython",
    "version": 3
   },
   "file_extension": ".py",
   "mimetype": "text/x-python",
   "name": "python",
   "nbconvert_exporter": "python",
   "pygments_lexer": "ipython3",
   "version": "3.7.6"
  }
 },
 "nbformat": 4,
 "nbformat_minor": 4
}
