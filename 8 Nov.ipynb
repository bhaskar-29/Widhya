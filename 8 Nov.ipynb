{
 "cells": [
  {
   "cell_type": "code",
   "execution_count": 1,
   "metadata": {},
   "outputs": [],
   "source": [
    "import pandas as pd\n",
    "import numpy as np\n",
    "import seaborn as sns\n",
    "import matplotlib.pyplot as plt\n",
    "from statistics import mode\n",
    "import math\n",
    "%matplotlib inline\n"
   ]
  },
  {
   "cell_type": "code",
   "execution_count": 2,
   "metadata": {},
   "outputs": [],
   "source": [
    "matches = pd.read_csv('matches.csv')\n",
    "delivery = pd.read_csv('deliveries.csv')\n",
    "match_ids = matches[matches.season >= 2016]['id'].unique()\n",
    "matches1 = matches[(matches.season >= 2016) & (matches['result']=='normal')]\n",
    "matches1 = matches1.drop(['player_of_match','venue','umpire1','umpire2','umpire3', 'dl_applied', 'city', 'date', 'result'], axis=1)\n",
    "matches1.dropna(inplace=True)"
   ]
  },
  {
   "cell_type": "code",
   "execution_count": 3,
   "metadata": {},
   "outputs": [],
   "source": [
    "def team_correction(row):\n",
    "    row = row.strip()\n",
    "    if row == 'Delhi Daredevils':\n",
    "        return 'Delhi Capitals'\n",
    "    if row == 'Rising Pune Supergiants':\n",
    "        return 'Rising Pune Supergiant'\n",
    "    return row\n",
    "\n",
    "for col in ['team1', 'team2', 'winner', 'toss_winner']:\n",
    "    matches1[col] = matches1[col].apply(team_correction)\n",
    "    "
   ]
  },
  {
   "cell_type": "code",
   "execution_count": 6,
   "metadata": {},
   "outputs": [],
   "source": [
    "team_1 = 'Delhi Capitals'\n",
    "team_2 = 'Sunrisers Hyderabad'"
   ]
  },
  {
   "cell_type": "code",
   "execution_count": 4,
   "metadata": {},
   "outputs": [],
   "source": [
    "delivery = delivery[delivery.match_id.apply(lambda x: True if x in match_ids else False)]\n",
    "for col in ['batting_team', 'bowling_team']:\n",
    "    delivery[col] = delivery[col].apply(team_correction)\n",
    "\n",
    "delivery.fillna(0, inplace=True)\n",
    "delivery['player_dismissed'] = delivery['player_dismissed'].apply(lambda x: 0 if x==0 else 1)\n",
    "\n",
    "delivery['batsman_runs'] = delivery['batsman_runs'].apply(lambda x: x-1 if ((x==7) or (x==5)) else x)"
   ]
  },
  {
   "cell_type": "code",
   "execution_count": 5,
   "metadata": {},
   "outputs": [],
   "source": [
    "def clean(row):\n",
    "    if row['extra_runs']>= row['batsman_runs']:\n",
    "        row['extra_runs'] -= row['batsman_runs']\n",
    "        \n",
    "    return row\n",
    "\n",
    "delivery = delivery.apply(clean, axis=1)\n",
    "delivery['total_runs'] = delivery['extra_runs'] + delivery['batsman_runs']"
   ]
  },
  {
   "cell_type": "markdown",
   "metadata": {},
   "source": [
    "# Winning Probability of Teams"
   ]
  },
  {
   "cell_type": "code",
   "execution_count": 7,
   "metadata": {},
   "outputs": [
    {
     "data": {
      "text/plain": [
       "Text(0.5, 1.0, 'DC Total Runs Score Stats Per Count')"
      ]
     },
     "execution_count": 7,
     "metadata": {},
     "output_type": "execute_result"
    },
    {
     "data": {
      "image/png": "[encoded data removed]",
      "text/plain": [
       "<Figure size 1440x576 with 2 Axes>"
      ]
     },
     "metadata": {
      "needs_background": "light"
     },
     "output_type": "display_data"
    }
   ],
   "source": [
    "fig, ax = plt.subplots(1,2, figsize=(20,8))\n",
    "srh_runs = delivery[delivery['batting_team']==team_2].groupby('match_id').sum()['total_runs']\n",
    "dc_runs = delivery[delivery['batting_team']==team_1].groupby('match_id').sum()['total_runs']\n",
    "(srh_runs.describe()[1:]/srh_runs.describe()[0]).plot(ax=ax[0], kind='bar', grid=True, color='orange')\n",
    "(dc_runs.describe()[1:]/dc_runs.describe()[0]).plot(ax=ax[1], kind='bar', grid=True, color='blue')\n",
    "ax[0].set_title(\"SRH Total Runs Score Stats Per Count\")\n",
    "ax[1].set_title(\"DC Total Runs Score Stats Per Count\")"
   ]
  },
  {
   "cell_type": "code",
   "execution_count": 12,
   "metadata": {},
   "outputs": [
    {
     "data": {
      "text/plain": [
       "Text(0.5, 1.0, 'Percentage of Winning')"
      ]
     },
     "execution_count": 12,
     "metadata": {},
     "output_type": "execute_result"
    },
    {
     "data": {
      "image/png": "[encoded data removed]",
      "text/plain": [
       "<Figure size 432x288 with 1 Axes>"
      ]
     },
     "metadata": {
      "needs_background": "light"
     },
     "output_type": "display_data"
    }
   ],
   "source": [
    "matches1[matches1['season']>=2017]['winner'].value_counts()[[team_1, team_2]].plot(kind='bar', color=['blue', 'orange'])\n",
    "plt.title('Percentage of Winning')"
   ]
  },
  {
   "cell_type": "markdown",
   "metadata": {},
   "source": [
    "# Balls to Runs"
   ]
  },
  {
   "cell_type": "code",
   "execution_count": 20,
   "metadata": {},
   "outputs": [],
   "source": [
    "def balls_to_runs(team):\n",
    "    team_20 = list()\n",
    "    for match_id in delivery[(delivery['batting_team']==team)]['match_id'].unique():\n",
    "        balls_30, balls_20 = 0, 0\n",
    "        runs_30 = 0\n",
    "        for run in delivery[(delivery['batting_team']==team) & (delivery['match_id']==match_id)]['total_runs']:\n",
    "            balls_30 += 1\n",
    "            runs_30 += run\n",
    "\n",
    "            if runs_30 in range(30, 36):\n",
    "                break\n",
    "\n",
    "        runs_20 = runs_30\n",
    "        for run in delivery[(delivery['batting_team']==team) & (delivery['match_id']==match_id)]['total_runs'][balls_30:]:\n",
    "            balls_20 += 1\n",
    "            runs_20 += run\n",
    "\n",
    "            if runs_20>=(runs_30+20):\n",
    "                break\n",
    "        team_20.append([match_id, runs_30, balls_30, runs_20, balls_20])   \n",
    "\n",
    "    team_20_df = pd.DataFrame(data=team_20, columns=['match_id', '30 Runs', 'Balls to 30 Runs', '20 more Runs', 'Balls to 20 Runs'])\n",
    "    print(team_20_df['Balls to 20 Runs'].describe())\n",
    "    team_20_df['Balls to 20 Runs'].hist()\n",
    "    plt.xticks([10, 15, 20, 25, 30, 35, 40])\n",
    "    plt.title(\"Histogram of Balls to score more 20 runs by {}\".format(team))"
   ]
  },
  {
   "cell_type": "code",
   "execution_count": 21,
   "metadata": {},
   "outputs": [
    {
     "name": "stdout",
     "output_type": "stream",
     "text": [
      "count    58.000000\n",
      "mean     16.155172\n",
      "std       5.812273\n",
      "min       7.000000\n",
      "25%      12.000000\n",
      "50%      15.000000\n",
      "75%      20.750000\n",
      "max      35.000000\n",
      "Name: Balls to 20 Runs, dtype: float64\n"
     ]
    },
    {
     "data": {
      "image/png": "[encoded data removed]",
      "text/plain": [
       "<Figure size 432x288 with 1 Axes>"
      ]
     },
     "metadata": {
      "needs_background": "light"
     },
     "output_type": "display_data"
    }
   ],
   "source": [
    "balls_to_runs(team_1)"
   ]
  },
  {
   "cell_type": "code",
   "execution_count": 22,
   "metadata": {},
   "outputs": [
    {
     "name": "stdout",
     "output_type": "stream",
     "text": [
      "count    63.000000\n",
      "mean     16.079365\n",
      "std       6.312562\n",
      "min       5.000000\n",
      "25%      11.500000\n",
      "50%      15.000000\n",
      "75%      19.000000\n",
      "max      32.000000\n",
      "Name: Balls to 20 Runs, dtype: float64\n"
     ]
    },
    {
     "data": {
      "image/png": "[encoded data removed]",
      "text/plain": [
       "<Figure size 432x288 with 1 Axes>"
      ]
     },
     "metadata": {
      "needs_background": "light"
     },
     "output_type": "display_data"
    }
   ],
   "source": [
    "balls_to_runs(team_2)"
   ]
  },
  {
   "cell_type": "markdown",
   "metadata": {},
   "source": [
    "# David Runs Score in Last 7 balls"
   ]
  },
  {
   "cell_type": "code",
   "execution_count": 82,
   "metadata": {},
   "outputs": [],
   "source": [
    "def runs_in_last_balls(batsman):\n",
    "    runs = list()\n",
    "    for match_id in delivery[(delivery['batsman']==batsman)]['match_id'].unique():\n",
    "        match = delivery[(delivery['batsman']==batsman) & (delivery['match_id']==match_id)]\n",
    "        runs.append(sum(match['batsman_runs'][-7:]))\n",
    "    runs_df = pd.DataFrame({'Runs': runs})\n",
    "    runs_df['Runs'].hist(color='black')\n",
    "    print(runs_df['Runs'].describe()) "
   ]
  },
  {
   "cell_type": "code",
   "execution_count": 83,
   "metadata": {},
   "outputs": [
    {
     "name": "stdout",
     "output_type": "stream",
     "text": [
      "count    43.000000\n",
      "mean     10.093023\n",
      "std       5.286163\n",
      "min       0.000000\n",
      "25%       6.500000\n",
      "50%       9.000000\n",
      "75%      13.500000\n",
      "max      23.000000\n",
      "Name: Runs, dtype: float64\n"
     ]
    },
    {
     "data": {
      "image/png": "[encoded data removed]",
      "text/plain": [
       "<Figure size 432x288 with 1 Axes>"
      ]
     },
     "metadata": {
      "needs_background": "light"
     },
     "output_type": "display_data"
    }
   ],
   "source": [
    "runs_in_last_balls('DA Warner')"
   ]
  },
  {
   "cell_type": "markdown",
   "metadata": {},
   "source": [
    "# Boundaries Count"
   ]
  },
  {
   "cell_type": "code",
   "execution_count": 52,
   "metadata": {},
   "outputs": [],
   "source": [
    "def boundaries_count(batsman):\n",
    "    boundary = list()\n",
    "    for match_id in delivery[(delivery['batsman']==batsman)]['match_id'].unique():\n",
    "        match = delivery[(delivery['batsman']==batsman) & (delivery['match_id']==match_id) & (delivery['batsman_runs'].isin([4, 6]))]\n",
    "        if len(match)>0:\n",
    "            boundary.append(len(match))\n",
    "    if len(boundary)!=0:    \n",
    "        return np.mean(boundary)"
   ]
  },
  {
   "cell_type": "code",
   "execution_count": 53,
   "metadata": {},
   "outputs": [],
   "source": [
    "srh_team = ['DA Warner', 'J Bairstow', 'WP Saha', 'MK Pandey', 'KS Williamson', 'Rashid Khan', 'K Ahmed', 'T Natarajan']\n",
    "dc_team = ['P Shaw', 'S Dhawan', 'SS Iyer', 'RR Pant', 'S Hetmyer', 'MP Stoinis', 'AR Patel', 'R Ashwin', 'HV Patel', 'K Rabada']\n",
    "teams = srh_team + dc_team"
   ]
  },
  {
   "cell_type": "code",
   "execution_count": 68,
   "metadata": {},
   "outputs": [],
   "source": [
    "mean_boundaries = list()\n",
    "for batsman in teams:\n",
    "    mean_boundaries.append([batsman, boundaries_count(batsman)])\n",
    "\n",
    "batsman_boundaries = pd.DataFrame(mean_boundaries, columns=['Batsman', 'Mean Boundaries'])\n",
    "batsman_boundaries.sort_values('Mean Boundaries', ascending=False, inplace=True)\n",
    "batsman_boundaries['Team Color'] = batsman_boundaries['Batsman'].apply(lambda x: 'orange' if x in srh_team else 'blue')"
   ]
  },
  {
   "cell_type": "code",
   "execution_count": 81,
   "metadata": {},
   "outputs": [
    {
     "data": {
      "text/plain": [
       "Text(0.5, 1.0, 'Batsman Mean Boundaries Per Match')"
      ]
     },
     "execution_count": 81,
     "metadata": {},
     "output_type": "execute_result"
    },
    {
     "data": {
      "image/png": "[encoded data removed]",
      "text/plain": [
       "<Figure size 720x576 with 1 Axes>"
      ]
     },
     "metadata": {
      "needs_background": "light"
     },
     "output_type": "display_data"
    }
   ],
   "source": [
    "plt.figure(figsize=(10,8))\n",
    "plt.bar(x=batsman_boundaries['Batsman'], height = batsman_boundaries['Mean Boundaries'], color=batsman_boundaries['Team Color'])\n",
    "plt.xticks(rotation=45)\n",
    "plt.title(\"Batsman Mean Boundaries Per Match\")"
   ]
  },
  {
   "cell_type": "markdown",
   "metadata": {},
   "source": [
    "# Rashid Khan number of wickets"
   ]
  },
  {
   "cell_type": "code",
   "execution_count": 79,
   "metadata": {},
   "outputs": [],
   "source": [
    "def wickets_by_bowler(bowler):\n",
    "    wicket = list()\n",
    "    for match_id in delivery[(delivery['bowler']==bowler)]['match_id'].unique():\n",
    "        match =  delivery[(delivery['bowler']==bowler) & (delivery['match_id']==match_id) & (delivery['player_dismissed']==1)]\n",
    "        wicket.append(len(match))\n",
    "    \n",
    "    pct_wicket_chances = len(delivery[(delivery['bowler']==bowler) & (delivery['player_dismissed']==1)]['match_id'].unique()) / len(delivery[(delivery['bowler']==bowler)]['match_id'].unique()) \n",
    "    \n",
    "    return (np.median(wicket), f\"{round(pct_wicket_chances*100)}%\")\n"
   ]
  },
  {
   "cell_type": "code",
   "execution_count": 80,
   "metadata": {},
   "outputs": [
    {
     "data": {
      "text/plain": [
       "(1.0, '83%')"
      ]
     },
     "execution_count": 80,
     "metadata": {},
     "output_type": "execute_result"
    }
   ],
   "source": [
    "wickets_by_bowler('Rashid Khan')"
   ]
  },
  {
   "cell_type": "markdown",
   "metadata": {},
   "source": [
    "# Summary"
   ]
  },
  {
   "cell_type": "markdown",
   "metadata": {},
   "source": [
    "1. Using winner column and comparing central tendency measures of total scores per match for both teams, winning chances were calculated.\n",
    "2. Function was created which counts no. of balls to score 30, and then 20 more, using total_runs column and then histogram peak of both teams was subtracted to find the range of difference.\n",
    "3. Function was created to calculate batsman runs per match using batsman runs column and taking only last 7 balls he played and then taking histogram peak to estimate range. \n",
    "4. Boundaries counting per batsman was done using a function which filters those deliveries where batsman runs has 4 or 6 and then using len, finds the count of deliveries per match and mean boundaries was calculated. Plotting those mean values, the batsman was decided. \n",
    "5. Wickets per match by bowler was calculated using player_dismissed column. Median values were taken for all his matches. Percentage dismissal chances were calculated using matches with wickets and total matches ratio. "
   ]
  },
  {
   "cell_type": "code",
   "execution_count": null,
   "metadata": {},
   "outputs": [],
   "source": []
  }
 ],
 "metadata": {
  "kernelspec": {
   "display_name": "Python 3",
   "language": "python",
   "name": "python3"
  },
  "language_info": {
   "codemirror_mode": {
    "name": "ipython",
    "version": 3
   },
   "file_extension": ".py",
   "mimetype": "text/x-python",
   "name": "python",
   "nbconvert_exporter": "python",
   "pygments_lexer": "ipython3",
   "version": "3.7.6"
  }
 },
 "nbformat": 4,
 "nbformat_minor": 4
}
