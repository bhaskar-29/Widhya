{
 "cells": [
  {
   "cell_type": "code",
   "execution_count": 134,
   "metadata": {},
   "outputs": [],
   "source": [
    "import pandas as pd\n",
    "import numpy as np\n",
    "import seaborn as sns\n",
    "import matplotlib.pyplot as plt\n",
    "from statistics import mode\n",
    "import math\n",
    "%matplotlib inline\n"
   ]
  },
  {
   "cell_type": "code",
   "execution_count": 135,
   "metadata": {},
   "outputs": [],
   "source": [
    "matches = pd.read_csv('matches.csv')\n",
    "delivery = pd.read_csv('deliveries.csv')\n",
    "match_ids = matches[matches.season >= 2016]['id'].unique()\n",
    "matches1 = matches[(matches.season >= 2016) & (matches['result']=='normal')]\n",
    "matches1 = matches1.drop(['player_of_match','venue','umpire1','umpire2','umpire3', 'dl_applied', 'season', 'city', 'date', 'result'], axis=1)\n",
    "matches1.dropna(inplace=True)"
   ]
  },
  {
   "cell_type": "code",
   "execution_count": 136,
   "metadata": {},
   "outputs": [],
   "source": [
    "def team_correction(row):\n",
    "    row = row.strip()\n",
    "    if row == 'Delhi Daredevils':\n",
    "        return 'Delhi Capitals'\n",
    "    if row == 'Rising Pune Supergiants':\n",
    "        return 'Rising Pune Supergiant'\n",
    "    return row\n",
    "\n",
    "for col in ['team1', 'team2', 'winner', 'toss_winner']:\n",
    "    matches1[col] = matches1[col].apply(team_correction)\n",
    "    "
   ]
  },
  {
   "cell_type": "code",
   "execution_count": 137,
   "metadata": {},
   "outputs": [],
   "source": [
    "team_1 = 'Mumbai Indians'\n",
    "team_2 = 'Royal Challengers Bangalore'"
   ]
  },
  {
   "cell_type": "code",
   "execution_count": 138,
   "metadata": {},
   "outputs": [],
   "source": [
    "delivery = delivery[delivery.match_id.apply(lambda x: True if x in match_ids else False)]\n",
    "for col in ['batting_team', 'bowling_team']:\n",
    "    delivery[col] = delivery[col].apply(team_correction)\n",
    "\n",
    "delivery.fillna(0, inplace=True)\n",
    "delivery['player_dismissed'] = delivery['player_dismissed'].apply(lambda x: 0 if x==0 else 1)\n",
    "\n",
    "delivery['batsman_runs'] = delivery['batsman_runs'].apply(lambda x: x-1 if ((x==7) or (x==5)) else x)"
   ]
  },
  {
   "cell_type": "markdown",
   "metadata": {},
   "source": [
    "# Winning Probability of Teams"
   ]
  },
  {
   "cell_type": "code",
   "execution_count": 139,
   "metadata": {},
   "outputs": [
    {
     "data": {
      "text/plain": [
       "Text(0.5, 1.0, 'RCB Total Runs Score Stats Per Count')"
      ]
     },
     "execution_count": 139,
     "metadata": {},
     "output_type": "execute_result"
    },
    {
     "data": {
      "image/png": "[encoded data removed]",
      "text/plain": [
       "<Figure size 1440x576 with 2 Axes>"
      ]
     },
     "metadata": {
      "needs_background": "light"
     },
     "output_type": "display_data"
    }
   ],
   "source": [
    "fig, ax = plt.subplots(1,2, figsize=(20,8))\n",
    "mi_runs = delivery[delivery['batting_team']==team_1].groupby('match_id').sum()['total_runs']\n",
    "rcb_runs = delivery[delivery['batting_team']==team_2].groupby('match_id').sum()['total_runs']\n",
    "(mi_runs.describe()[1:]/srh_runs.describe()[0]).plot(ax=ax[0], kind='bar', grid=True)\n",
    "(rcb_runs.describe()[1:]/dc_runs.describe()[0]).plot(ax=ax[1], kind='bar', grid=True, color='red')\n",
    "ax[0].set_title(\"MI Total Runs Score Stats Per Count\")\n",
    "ax[1].set_title(\"RCB Total Runs Score Stats Per Count\")"
   ]
  },
  {
   "cell_type": "code",
   "execution_count": 140,
   "metadata": {},
   "outputs": [
    {
     "data": {
      "text/plain": [
       "Text(0.5, 1.0, 'Percentage of Winning')"
      ]
     },
     "execution_count": 140,
     "metadata": {},
     "output_type": "execute_result"
    },
    {
     "data": {
      "image/png": "[encoded data removed]",
      "text/plain": [
       "<Figure size 432x288 with 1 Axes>"
      ]
     },
     "metadata": {
      "needs_background": "light"
     },
     "output_type": "display_data"
    }
   ],
   "source": [
    "wins = pd.DataFrame(matches1[(matches1['team1'].isin([team_1, team_2])) & (matches1['team2'].isin([team_1, team_2]))]['winner'].value_counts())\n",
    "wins['Percentage Win Chance'] = (wins['winner']/sum(wins['winner']))*100\n",
    "sns.barplot(wins.index, y=wins['Percentage Win Chance'])\n",
    "plt.title('Percentage of Winning')"
   ]
  },
  {
   "cell_type": "markdown",
   "metadata": {},
   "source": [
    "# Bowlers with 2 wickets"
   ]
  },
  {
   "cell_type": "code",
   "execution_count": 141,
   "metadata": {},
   "outputs": [],
   "source": [
    "mi_team = ['RG Sharma', 'Q de Kock', 'SA Yadav', 'Ishan Kishan', 'HH Pandaya', 'KH Pandaya', 'NM Coulter-Nile', 'RD Chahar', 'JJ Bumrah', 'TA Boult']\n",
    "rcb_team = ['S Dube' ,'Washington Sundar','AB de Villiers' ,'V Kohli', 'AJ Finch', 'YS Chahal', 'CH Morris', 'S Dube', 'Mohammed Siraj']"
   ]
  },
  {
   "cell_type": "code",
   "execution_count": 142,
   "metadata": {},
   "outputs": [],
   "source": [
    "bowler_squad = list()\n",
    "for bowler in (mi_team+rcb_team):\n",
    "    for match in delivery[(delivery['bowler']==bowler) & (delivery['player_dismissed']==1)]['match_id'].unique():\n",
    "        wickets = delivery[(delivery['bowler']==bowler) & (delivery['player_dismissed']==1) & (delivery['match_id']==match)]['player_dismissed'].sum()   \n",
    "        bowler_squad.append([bowler, wickets])"
   ]
  },
  {
   "cell_type": "code",
   "execution_count": 144,
   "metadata": {},
   "outputs": [
    {
     "data": {
      "text/html": [
       "<div>\n",
       "<style scoped>\n",
       "    .dataframe tbody tr th:only-of-type {\n",
       "        vertical-align: middle;\n",
       "    }\n",
       "\n",
       "    .dataframe tbody tr th {\n",
       "        vertical-align: top;\n",
       "    }\n",
       "\n",
       "    .dataframe thead th {\n",
       "        text-align: right;\n",
       "    }\n",
       "</style>\n",
       "<table border=\"1\" class=\"dataframe\">\n",
       "  <thead>\n",
       "    <tr style=\"text-align: right;\">\n",
       "      <th></th>\n",
       "      <th>Wickets in Match</th>\n",
       "    </tr>\n",
       "    <tr>\n",
       "      <th>Name</th>\n",
       "      <th></th>\n",
       "    </tr>\n",
       "  </thead>\n",
       "  <tbody>\n",
       "    <tr>\n",
       "      <th>CH Morris</th>\n",
       "      <td>2</td>\n",
       "    </tr>\n",
       "    <tr>\n",
       "      <th>JJ Bumrah</th>\n",
       "      <td>1</td>\n",
       "    </tr>\n",
       "    <tr>\n",
       "      <th>Mohammed Siraj</th>\n",
       "      <td>1</td>\n",
       "    </tr>\n",
       "    <tr>\n",
       "      <th>NM Coulter-Nile</th>\n",
       "      <td>2</td>\n",
       "    </tr>\n",
       "    <tr>\n",
       "      <th>RD Chahar</th>\n",
       "      <td>1</td>\n",
       "    </tr>\n",
       "    <tr>\n",
       "      <th>TA Boult</th>\n",
       "      <td>1</td>\n",
       "    </tr>\n",
       "    <tr>\n",
       "      <th>Washington Sundar</th>\n",
       "      <td>1</td>\n",
       "    </tr>\n",
       "    <tr>\n",
       "      <th>YS Chahal</th>\n",
       "      <td>1</td>\n",
       "    </tr>\n",
       "  </tbody>\n",
       "</table>\n",
       "</div>"
      ],
      "text/plain": [
       "                   Wickets in Match\n",
       "Name                               \n",
       "CH Morris                         2\n",
       "JJ Bumrah                         1\n",
       "Mohammed Siraj                    1\n",
       "NM Coulter-Nile                   2\n",
       "RD Chahar                         1\n",
       "TA Boult                          1\n",
       "Washington Sundar                 1\n",
       "YS Chahal                         1"
      ]
     },
     "execution_count": 144,
     "metadata": {},
     "output_type": "execute_result"
    }
   ],
   "source": [
    "bowler_squad_df = pd.DataFrame(data=bowler_squad, columns=['Name', 'Wickets in Match'])\n",
    "bowler_squad_df.groupby('Name').median()"
   ]
  },
  {
   "cell_type": "code",
   "execution_count": 143,
   "metadata": {},
   "outputs": [
    {
     "data": {
      "text/html": [
       "<div>\n",
       "<style scoped>\n",
       "    .dataframe tbody tr th:only-of-type {\n",
       "        vertical-align: middle;\n",
       "    }\n",
       "\n",
       "    .dataframe tbody tr th {\n",
       "        vertical-align: top;\n",
       "    }\n",
       "\n",
       "    .dataframe thead th {\n",
       "        text-align: right;\n",
       "    }\n",
       "</style>\n",
       "<table border=\"1\" class=\"dataframe\">\n",
       "  <thead>\n",
       "    <tr style=\"text-align: right;\">\n",
       "      <th></th>\n",
       "      <th>player_dismissed</th>\n",
       "    </tr>\n",
       "    <tr>\n",
       "      <th>bowler</th>\n",
       "      <th></th>\n",
       "    </tr>\n",
       "  </thead>\n",
       "  <tbody>\n",
       "    <tr>\n",
       "      <th>CH Morris</th>\n",
       "      <td>6.084656</td>\n",
       "    </tr>\n",
       "    <tr>\n",
       "      <th>JJ Bumrah</th>\n",
       "      <td>5.606813</td>\n",
       "    </tr>\n",
       "    <tr>\n",
       "      <th>Mohammed Siraj</th>\n",
       "      <td>5.136986</td>\n",
       "    </tr>\n",
       "    <tr>\n",
       "      <th>NM Coulter-Nile</th>\n",
       "      <td>7.380074</td>\n",
       "    </tr>\n",
       "    <tr>\n",
       "      <th>RD Chahar</th>\n",
       "      <td>4.504505</td>\n",
       "    </tr>\n",
       "    <tr>\n",
       "      <th>S Dube</th>\n",
       "      <td>0.000000</td>\n",
       "    </tr>\n",
       "    <tr>\n",
       "      <th>TA Boult</th>\n",
       "      <td>4.991948</td>\n",
       "    </tr>\n",
       "    <tr>\n",
       "      <th>V Kohli</th>\n",
       "      <td>0.000000</td>\n",
       "    </tr>\n",
       "    <tr>\n",
       "      <th>Washington Sundar</th>\n",
       "      <td>4.748603</td>\n",
       "    </tr>\n",
       "    <tr>\n",
       "      <th>YS Chahal</th>\n",
       "      <td>5.495420</td>\n",
       "    </tr>\n",
       "  </tbody>\n",
       "</table>\n",
       "</div>"
      ],
      "text/plain": [
       "                   player_dismissed\n",
       "bowler                             \n",
       "CH Morris                  6.084656\n",
       "JJ Bumrah                  5.606813\n",
       "Mohammed Siraj             5.136986\n",
       "NM Coulter-Nile            7.380074\n",
       "RD Chahar                  4.504505\n",
       "S Dube                     0.000000\n",
       "TA Boult                   4.991948\n",
       "V Kohli                    0.000000\n",
       "Washington Sundar          4.748603\n",
       "YS Chahal                  5.495420"
      ]
     },
     "execution_count": 143,
     "metadata": {},
     "output_type": "execute_result"
    }
   ],
   "source": [
    "bowler = delivery[delivery['bowler'].isin(mi_team+rcb_team)]\n",
    "pd.DataFrame(data=bowler.groupby('bowler').sum()['player_dismissed']*100/bowler.groupby('bowler').count()['player_dismissed'])\n",
    "#Ratio of total Wickets by Bowlers to total matches"
   ]
  },
  {
   "cell_type": "markdown",
   "metadata": {},
   "source": [
    "# Economy Rate"
   ]
  },
  {
   "cell_type": "code",
   "execution_count": 145,
   "metadata": {},
   "outputs": [],
   "source": [
    "bowler_squad_ER = list()\n",
    "for bowler in (mi_team+rcb_team):\n",
    "    for match_id in delivery[(delivery['bowler']==bowler)]['match_id'].unique():\n",
    "        match = delivery[(delivery['bowler']==bowler) & (delivery['match_id']==match_id)]  \n",
    "        ER = sum(match['total_runs'])*6/len(match)\n",
    "        if len(match) >=6:\n",
    "            bowler_squad_ER.append([bowler, ER])"
   ]
  },
  {
   "cell_type": "code",
   "execution_count": 146,
   "metadata": {},
   "outputs": [
    {
     "data": {
      "text/html": [
       "<div>\n",
       "<style scoped>\n",
       "    .dataframe tbody tr th:only-of-type {\n",
       "        vertical-align: middle;\n",
       "    }\n",
       "\n",
       "    .dataframe tbody tr th {\n",
       "        vertical-align: top;\n",
       "    }\n",
       "\n",
       "    .dataframe thead th {\n",
       "        text-align: right;\n",
       "    }\n",
       "</style>\n",
       "<table border=\"1\" class=\"dataframe\">\n",
       "  <thead>\n",
       "    <tr style=\"text-align: right;\">\n",
       "      <th></th>\n",
       "      <th>ER</th>\n",
       "    </tr>\n",
       "    <tr>\n",
       "      <th>Name</th>\n",
       "      <th></th>\n",
       "    </tr>\n",
       "  </thead>\n",
       "  <tbody>\n",
       "    <tr>\n",
       "      <th>CH Morris</th>\n",
       "      <td>8.126667</td>\n",
       "    </tr>\n",
       "    <tr>\n",
       "      <th>JJ Bumrah</th>\n",
       "      <td>7.176923</td>\n",
       "    </tr>\n",
       "    <tr>\n",
       "      <th>Mohammed Siraj</th>\n",
       "      <td>9.428571</td>\n",
       "    </tr>\n",
       "    <tr>\n",
       "      <th>NM Coulter-Nile</th>\n",
       "      <td>7.346154</td>\n",
       "    </tr>\n",
       "    <tr>\n",
       "      <th>RD Chahar</th>\n",
       "      <td>6.750000</td>\n",
       "    </tr>\n",
       "    <tr>\n",
       "      <th>S Dube</th>\n",
       "      <td>5.000000</td>\n",
       "    </tr>\n",
       "    <tr>\n",
       "      <th>TA Boult</th>\n",
       "      <td>8.708333</td>\n",
       "    </tr>\n",
       "    <tr>\n",
       "      <th>V Kohli</th>\n",
       "      <td>9.750000</td>\n",
       "    </tr>\n",
       "    <tr>\n",
       "      <th>Washington Sundar</th>\n",
       "      <td>7.708333</td>\n",
       "    </tr>\n",
       "    <tr>\n",
       "      <th>YS Chahal</th>\n",
       "      <td>8.000000</td>\n",
       "    </tr>\n",
       "  </tbody>\n",
       "</table>\n",
       "</div>"
      ],
      "text/plain": [
       "                         ER\n",
       "Name                       \n",
       "CH Morris          8.126667\n",
       "JJ Bumrah          7.176923\n",
       "Mohammed Siraj     9.428571\n",
       "NM Coulter-Nile    7.346154\n",
       "RD Chahar          6.750000\n",
       "S Dube             5.000000\n",
       "TA Boult           8.708333\n",
       "V Kohli            9.750000\n",
       "Washington Sundar  7.708333\n",
       "YS Chahal          8.000000"
      ]
     },
     "execution_count": 146,
     "metadata": {},
     "output_type": "execute_result"
    }
   ],
   "source": [
    "bowler_ER_df = pd.DataFrame(data=bowler_squad_ER, columns=['Name', 'ER'])\n",
    "bowler_ER_df.groupby('Name').median()"
   ]
  },
  {
   "cell_type": "markdown",
   "metadata": {},
   "source": [
    "# Strike Rate"
   ]
  },
  {
   "cell_type": "code",
   "execution_count": 147,
   "metadata": {},
   "outputs": [],
   "source": [
    "batsman_squad_SR = list()\n",
    "for batsman in (mi_team+rcb_team):\n",
    "    for match_id in delivery[(delivery['batsman']==batsman)]['match_id'].unique():\n",
    "        match = delivery[(delivery['batsman']==batsman) & (delivery['match_id']==match_id)]\n",
    "        team = match['batting_team'].unique()[0]\n",
    "        if len(match)>10: \n",
    "            if len(match[match['batsman_runs'].isin([4, 6])]) > 3:\n",
    "                SR = sum(match['batsman_runs'])*100/len(match)\n",
    "                batsman_squad_SR.append([batsman, SR, team])"
   ]
  },
  {
   "cell_type": "code",
   "execution_count": 148,
   "metadata": {},
   "outputs": [
    {
     "data": {
      "text/html": [
       "<div>\n",
       "<style scoped>\n",
       "    .dataframe tbody tr th:only-of-type {\n",
       "        vertical-align: middle;\n",
       "    }\n",
       "\n",
       "    .dataframe tbody tr th {\n",
       "        vertical-align: top;\n",
       "    }\n",
       "\n",
       "    .dataframe thead th {\n",
       "        text-align: right;\n",
       "    }\n",
       "</style>\n",
       "<table border=\"1\" class=\"dataframe\">\n",
       "  <thead>\n",
       "    <tr style=\"text-align: right;\">\n",
       "      <th></th>\n",
       "      <th></th>\n",
       "      <th>SR</th>\n",
       "    </tr>\n",
       "    <tr>\n",
       "      <th>Team</th>\n",
       "      <th>Name</th>\n",
       "      <th></th>\n",
       "    </tr>\n",
       "  </thead>\n",
       "  <tbody>\n",
       "    <tr>\n",
       "      <th rowspan=\"2\" valign=\"top\">Delhi Capitals</th>\n",
       "      <th>CH Morris</th>\n",
       "      <td>172.727273</td>\n",
       "    </tr>\n",
       "    <tr>\n",
       "      <th>Q de Kock</th>\n",
       "      <td>137.500000</td>\n",
       "    </tr>\n",
       "    <tr>\n",
       "      <th rowspan=\"2\" valign=\"top\">Gujarat Lions</th>\n",
       "      <th>AJ Finch</th>\n",
       "      <td>154.166667</td>\n",
       "    </tr>\n",
       "    <tr>\n",
       "      <th>Ishan Kishan</th>\n",
       "      <td>137.310606</td>\n",
       "    </tr>\n",
       "    <tr>\n",
       "      <th>Kings XI Punjab</th>\n",
       "      <th>AJ Finch</th>\n",
       "      <td>134.285714</td>\n",
       "    </tr>\n",
       "    <tr>\n",
       "      <th>Kolkata Knight Riders</th>\n",
       "      <th>SA Yadav</th>\n",
       "      <td>149.305556</td>\n",
       "    </tr>\n",
       "    <tr>\n",
       "      <th rowspan=\"3\" valign=\"top\">Mumbai Indians</th>\n",
       "      <th>Ishan Kishan</th>\n",
       "      <td>166.341829</td>\n",
       "    </tr>\n",
       "    <tr>\n",
       "      <th>Q de Kock</th>\n",
       "      <td>151.851852</td>\n",
       "    </tr>\n",
       "    <tr>\n",
       "      <th>RG Sharma</th>\n",
       "      <td>143.589744</td>\n",
       "    </tr>\n",
       "    <tr>\n",
       "      <th rowspan=\"4\" valign=\"top\">Royal Challengers Bangalore</th>\n",
       "      <th>AB de Villiers</th>\n",
       "      <td>177.122153</td>\n",
       "    </tr>\n",
       "    <tr>\n",
       "      <th>Q de Kock</th>\n",
       "      <td>140.170279</td>\n",
       "    </tr>\n",
       "    <tr>\n",
       "      <th>V Kohli</th>\n",
       "      <td>147.368421</td>\n",
       "    </tr>\n",
       "    <tr>\n",
       "      <th>Washington Sundar</th>\n",
       "      <td>176.190476</td>\n",
       "    </tr>\n",
       "  </tbody>\n",
       "</table>\n",
       "</div>"
      ],
      "text/plain": [
       "                                                       SR\n",
       "Team                        Name                         \n",
       "Delhi Capitals              CH Morris          172.727273\n",
       "                            Q de Kock          137.500000\n",
       "Gujarat Lions               AJ Finch           154.166667\n",
       "                            Ishan Kishan       137.310606\n",
       "Kings XI Punjab             AJ Finch           134.285714\n",
       "Kolkata Knight Riders       SA Yadav           149.305556\n",
       "Mumbai Indians              Ishan Kishan       166.341829\n",
       "                            Q de Kock          151.851852\n",
       "                            RG Sharma          143.589744\n",
       "Royal Challengers Bangalore AB de Villiers     177.122153\n",
       "                            Q de Kock          140.170279\n",
       "                            V Kohli            147.368421\n",
       "                            Washington Sundar  176.190476"
      ]
     },
     "execution_count": 148,
     "metadata": {},
     "output_type": "execute_result"
    }
   ],
   "source": [
    "batsman_SR_df = pd.DataFrame(data=batsman_squad_SR, columns=['Name', 'SR', 'Team'])\n",
    "batsman_SR_df.groupby(['Team', 'Name']).median()"
   ]
  },
  {
   "cell_type": "code",
   "execution_count": 149,
   "metadata": {},
   "outputs": [
    {
     "data": {
      "text/plain": [
       "Text(0.5, 1.0, ' Wickets Fall in matches played against each other')"
      ]
     },
     "execution_count": 149,
     "metadata": {},
     "output_type": "execute_result"
    },
    {
     "data": {
      "image/png": "[encoded data removed]",
      "text/plain": [
       "<Figure size 432x288 with 1 Axes>"
      ]
     },
     "metadata": {
      "needs_background": "light"
     },
     "output_type": "display_data"
    }
   ],
   "source": [
    "delivery[(delivery['batting_team']==team_1) & (delivery['bowling_team']==team_2)].groupby('match_id').sum()['player_dismissed'].plot(kind='bar', alpha=0.5, label=team_1)\n",
    "delivery[(delivery['batting_team']==team_2) & (delivery['bowling_team']==team_1)].groupby('match_id').sum()['player_dismissed'].plot(kind='bar', alpha=0.5, color='red', label=team_2)\n",
    "plt.legend(bbox_to_anchor=(1.05, 1))\n",
    "plt.title(\" Wickets Fall in matches played against each other\")"
   ]
  },
  {
   "cell_type": "code",
   "execution_count": 150,
   "metadata": {},
   "outputs": [
    {
     "data": {
      "text/plain": [
       "Text(0.5, 1.0, 'Histogram of Wickets Fall against per match')"
      ]
     },
     "execution_count": 150,
     "metadata": {},
     "output_type": "execute_result"
    },
    {
     "data": {
      "image/png": "[encoded data removed]",
      "text/plain": [
       "<Figure size 432x288 with 1 Axes>"
      ]
     },
     "metadata": {
      "needs_background": "light"
     },
     "output_type": "display_data"
    }
   ],
   "source": [
    "delivery[(delivery['batting_team']==team_1)].groupby('match_id').sum()['player_dismissed'].plot(kind='hist', alpha=0.5, label=team_1)\n",
    "delivery[(delivery['batting_team']==team_2)].groupby('match_id').sum()['player_dismissed'].plot(kind='hist', alpha=0.5, color='red', label=team_2)\n",
    "plt.legend(bbox_to_anchor=(1.05, 1))\n",
    "plt.title(\"Histogram of Wickets Fall against per match\")"
   ]
  },
  {
   "cell_type": "markdown",
   "metadata": {},
   "source": [
    "Wickets loose will be around 4-5 for both the teams. So, that suggests that batsman with past high strike rates would be playing except some bowlers. So, considering 3 boundaries situation(this would not be eligible in opening batsman players because there is less chance of hitting 3 boundaries before getting out), the range will be around 3 to 5. "
   ]
  },
  {
   "cell_type": "markdown",
   "metadata": {},
   "source": [
    "# Runs in powerplay"
   ]
  },
  {
   "cell_type": "code",
   "execution_count": 151,
   "metadata": {},
   "outputs": [
    {
     "data": {
      "text/plain": [
       "Text(0.5, 1.0, 'Scores per match in powerplay against each other')"
      ]
     },
     "execution_count": 151,
     "metadata": {},
     "output_type": "execute_result"
    },
    {
     "data": {
      "image/png": "[encoded data removed]",
      "text/plain": [
       "<Figure size 432x288 with 1 Axes>"
      ]
     },
     "metadata": {
      "needs_background": "light"
     },
     "output_type": "display_data"
    }
   ],
   "source": [
    "delivery[(delivery['batting_team']==team_1) & (delivery['over']<=6) & (delivery['bowling_team']==team_2)].groupby('match_id').sum()['total_runs'].plot(kind='bar', alpha=0.5, label=team_1)\n",
    "delivery[(delivery['batting_team']==team_2) & (delivery['over']<=6) & (delivery['bowling_team']==team_1)].groupby('match_id').sum()['total_runs'].plot(kind='bar', alpha=0.5, label=team_2, color='green')\n",
    "plt.legend(bbox_to_anchor=(1.05, 1))\n",
    "plt.title(\"Scores per match in powerplay against each other\")"
   ]
  },
  {
   "cell_type": "code",
   "execution_count": 152,
   "metadata": {},
   "outputs": [
    {
     "data": {
      "text/plain": [
       "Text(0.5, 1.0, 'Difference in Runs during powerplay')"
      ]
     },
     "execution_count": 152,
     "metadata": {},
     "output_type": "execute_result"
    },
    {
     "data": {
      "image/png": "[encoded data removed]",
      "text/plain": [
       "<Figure size 432x288 with 1 Axes>"
      ]
     },
     "metadata": {
      "needs_background": "light"
     },
     "output_type": "display_data"
    }
   ],
   "source": [
    "abs(delivery[(delivery['batting_team']==team_1) & (delivery['over']<=6) & (delivery['bowling_team']==team_2)].groupby('match_id').sum()['total_runs']\n",
    "    - delivery[(delivery['batting_team']==team_2) & (delivery['over']<=6) & (delivery['bowling_team']==team_1)].groupby('match_id').sum()['total_runs']).plot(kind='bar', alpha=0.5)\n",
    "    \n",
    "plt.title('Difference in Runs during powerplay')"
   ]
  },
  {
   "cell_type": "markdown",
   "metadata": {},
   "source": [
    "Taking mean range: The range will be 6 - 14"
   ]
  },
  {
   "cell_type": "markdown",
   "metadata": {},
   "source": [
    "# Summary"
   ]
  },
  {
   "cell_type": "markdown",
   "metadata": {},
   "source": [
    "- Using central tendency measure and winners column, the percentage chance of winning when playing against each other was calculated and compared. \n",
    "- Wickets by each bowler in each match where a bowler has taken at least 1 wicket were calculated and the median was taken for each bowler which estimated the number of bowlers to take 2 wickets. \n",
    "- Taking predicted bowlers playing today, their economy rate for each of their match was calculated and the median was taken. \n",
    "- The predicted batsmen playing today was considered and data was filtered per batsman and then using batsman score and balls faced by him per match the strike rate was calculated for different matches. Then, the batsman median strike rate was considered. Using, the predicted number of wickets fall in today's match, the prediction of a batsman playing was taken and the answer was calculated. \n",
    "- The runs of teams against each other in powerplay were calculated and graphed to find out the mean range of difference between their runs. "
   ]
  },
  {
   "cell_type": "code",
   "execution_count": null,
   "metadata": {},
   "outputs": [],
   "source": []
  }
 ],
 "metadata": {
  "kernelspec": {
   "display_name": "Python 3",
   "language": "python",
   "name": "python3"
  },
  "language_info": {
   "codemirror_mode": {
    "name": "ipython",
    "version": 3
   },
   "file_extension": ".py",
   "mimetype": "text/x-python",
   "name": "python",
   "nbconvert_exporter": "python",
   "pygments_lexer": "ipython3",
   "version": "3.7.6"
  }
 },
 "nbformat": 4,
 "nbformat_minor": 4
}
