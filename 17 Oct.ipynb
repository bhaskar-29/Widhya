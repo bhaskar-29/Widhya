{
 "cells": [
  {
   "cell_type": "code",
   "execution_count": 146,
   "metadata": {},
   "outputs": [],
   "source": [
    "import pandas as pd\n",
    "import numpy as np\n",
    "import seaborn as sns\n",
    "import matplotlib.pyplot as plt\n",
    "from statistics import mode\n",
    "import math\n",
    "%matplotlib inline"
   ]
  },
  {
   "cell_type": "code",
   "execution_count": 147,
   "metadata": {},
   "outputs": [],
   "source": [
    "matches = pd.read_csv('matches.csv')\n",
    "delivery = pd.read_csv('deliveries.csv')"
   ]
  },
  {
   "cell_type": "code",
   "execution_count": 148,
   "metadata": {},
   "outputs": [],
   "source": [
    "match_ids = matches[matches.season >= 2016]['id'].unique()\n",
    "matches1 = matches[(matches.season >= 2016) & (matches['result']=='normal')]\n",
    "matches1 = matches1.drop(['player_of_match','venue','umpire1','umpire2','umpire3', 'dl_applied', 'season', 'city', 'date', 'result'], axis=1)\n",
    "matches1.dropna(inplace=True)"
   ]
  },
  {
   "cell_type": "code",
   "execution_count": 149,
   "metadata": {},
   "outputs": [],
   "source": [
    "team_1 = 'Delhi Capitals'\n",
    "team_2 = 'Chennai Super Kings'"
   ]
  },
  {
   "cell_type": "code",
   "execution_count": 150,
   "metadata": {},
   "outputs": [],
   "source": [
    "def team_correction(row):\n",
    "    row = row.strip()\n",
    "    if row == 'Delhi Daredevils':\n",
    "        return 'Delhi Capitals'\n",
    "    if row == 'Rising Pune Supergiants':\n",
    "        return 'Rising Pune Supergiant'\n",
    "    return row\n",
    "\n",
    "for col in ['team1', 'team2', 'winner', 'toss_winner']:\n",
    "    matches1[col] = matches1[col].apply(team_correction)\n",
    "    "
   ]
  },
  {
   "cell_type": "markdown",
   "metadata": {},
   "source": [
    "# Winning Probability of Teams"
   ]
  },
  {
   "cell_type": "code",
   "execution_count": 151,
   "metadata": {},
   "outputs": [
    {
     "data": {
      "text/plain": [
       "Text(0.5, 1.0, 'Percentage of Winning')"
      ]
     },
     "execution_count": 151,
     "metadata": {},
     "output_type": "execute_result"
    },
    {
     "data": {
      "image/png": "[encoded data removed]",
      "text/plain": [
       "<Figure size 432x288 with 1 Axes>"
      ]
     },
     "metadata": {
      "needs_background": "light"
     },
     "output_type": "display_data"
    }
   ],
   "source": [
    "wins = pd.DataFrame(matches1[(matches1['team1'].isin([team_1, team_2])) & (matches1['team2'].isin([team_1, team_2]))]['winner'].value_counts())\n",
    "wins['Percentage Win Chance'] = (wins['winner']/sum(wins['winner']))*100\n",
    "sns.barplot(wins.index, y=wins['Percentage Win Chance'])\n",
    "plt.title('Percentage of Winning')"
   ]
  },
  {
   "cell_type": "code",
   "execution_count": 152,
   "metadata": {},
   "outputs": [],
   "source": [
    "delivery = delivery[delivery.match_id.apply(lambda x: True if x in match_ids else False)]\n",
    "for col in ['batting_team', 'bowling_team']:\n",
    "    delivery[col] = delivery[col].apply(team_correction)\n",
    "\n",
    "delivery.fillna(0, inplace=True)\n",
    "delivery['player_dismissed'] = delivery['player_dismissed'].apply(lambda x: 0 if x==0 else 1)\n",
    "\n",
    "delivery['batsman_runs'] = delivery['batsman_runs'].apply(lambda x: x-1 if ((x==7) or (x==5)) else x)"
   ]
  },
  {
   "cell_type": "markdown",
   "metadata": {},
   "source": [
    "# Runs scored by CSK today"
   ]
  },
  {
   "cell_type": "markdown",
   "metadata": {},
   "source": [
    "#### Against DC"
   ]
  },
  {
   "cell_type": "code",
   "execution_count": 153,
   "metadata": {},
   "outputs": [
    {
     "name": "stdout",
     "output_type": "stream",
     "text": [
      "Since, the probability of runs scored in Sharjah to be high, we take score value between median and 75% quartile value.\n",
      "Predicted Score by CSK will be around 174.0 or more. \n"
     ]
    }
   ],
   "source": [
    "csk_vs_dc = delivery[(delivery['batting_team']==team_2) & (delivery['bowling_team']==team_1)]\n",
    "csk_vs_dc_describe = csk_vs_dc.groupby('match_id').sum()['total_runs'].describe()\n",
    "print(\"Since, the probability of runs scored in Sharjah to be high, we take score value between median and 75% quartile value.\")\n",
    "print(\"Predicted Score by CSK will be around {} or more. \".format((csk_vs_dc_describe[5] + csk_vs_dc_describe[6])/2))"
   ]
  },
  {
   "cell_type": "markdown",
   "metadata": {},
   "source": [
    "#### Against all teams"
   ]
  },
  {
   "cell_type": "code",
   "execution_count": 154,
   "metadata": {},
   "outputs": [
    {
     "name": "stdout",
     "output_type": "stream",
     "text": [
      "Since, the probability of runs scored in Sharjay to be high, we take score value between median and 75% quartile value.\n",
      "Predicted Score by CSK will be around 179.0 or more. \n"
     ]
    }
   ],
   "source": [
    "csk_batting = delivery[delivery['batting_team']==team_2].groupby('match_id').sum()\n",
    "csk_runs_describe = csk_batting[csk_batting['total_runs']>100]['total_runs'].describe()\n",
    "print(\"Since, the probability of runs scored in Sharjay to be high, we take score value between median and 75% quartile value.\")\n",
    "print(\"Predicted Score by CSK will be around {} or more. \".format((csk_runs_describe[5] + csk_runs_describe[6])/2))"
   ]
  },
  {
   "cell_type": "markdown",
   "metadata": {},
   "source": [
    "# Wickets took by CSK between 15 to 20 overs"
   ]
  },
  {
   "cell_type": "code",
   "execution_count": 155,
   "metadata": {},
   "outputs": [
    {
     "name": "stdout",
     "output_type": "stream",
     "text": [
      "Predicted wickets fall of DC by CSK between 15 to 20 overs is: 2\n"
     ]
    }
   ],
   "source": [
    "csk_dc_death_overs = delivery[(delivery['bowling_team'] == team_2) & (delivery['batting_team']==team_1) & (delivery['over']>=15)].groupby('match_id').sum()\n",
    "print(\"Predicted wickets fall of DC by CSK between 15 to 20 overs is: {}\".format(round(csk_dc_death_overs['player_dismissed'].mean())))"
   ]
  },
  {
   "cell_type": "markdown",
   "metadata": {},
   "source": [
    "# No. of balls for CSK to score 100 runs"
   ]
  },
  {
   "cell_type": "code",
   "execution_count": 156,
   "metadata": {},
   "outputs": [],
   "source": [
    "csk_batting_100 = delivery[(delivery['batting_team']==team_2)]\n",
    "match_id = list()\n",
    "no_of_balls = list()\n",
    "for mat_id in csk_batting_100['match_id'].unique():\n",
    "    runs = 0\n",
    "    balls = 0\n",
    "    for run in csk_batting_100[csk_batting_100['match_id']==mat_id]['total_runs']:\n",
    "        balls+=1\n",
    "        runs+=run\n",
    "        if runs in range(100, 106):\n",
    "            break\n",
    "    if runs>= 100 and balls<=115:\n",
    "        match_id.append(mat_id)\n",
    "        no_of_balls.append(balls)\n",
    "            "
   ]
  },
  {
   "cell_type": "code",
   "execution_count": 157,
   "metadata": {},
   "outputs": [
    {
     "name": "stdout",
     "output_type": "stream",
     "text": [
      "Therefore, the predicted balls to hit a team century is more than 70\n"
     ]
    },
    {
     "data": {
      "image/png": "[encoded data removed]",
      "text/plain": [
       "<Figure size 720x576 with 1 Axes>"
      ]
     },
     "metadata": {
      "needs_background": "light"
     },
     "output_type": "display_data"
    }
   ],
   "source": [
    "csk_century = pd.DataFrame(index=match_id, data=no_of_balls, columns=['No_of_Balls_for_100'])\n",
    "plt.figure(figsize=(10,8))\n",
    "csk_century['No_of_Balls_for_100'].plot(kind='bar')\n",
    "plt.axhline(y=(csk_century['No_of_Balls_for_100'].mean()), color='red')\n",
    "print(\"Therefore, the predicted balls to hit a team century is more than 70\")"
   ]
  },
  {
   "cell_type": "markdown",
   "metadata": {},
   "source": [
    "# No. of no-balls"
   ]
  },
  {
   "cell_type": "code",
   "execution_count": 158,
   "metadata": {},
   "outputs": [],
   "source": [
    "bowler_squad = [\"AR Patel\", \"MP Stoinis\" , 'HV Patel', \"K Rabada\", \"R Ashwin\" ,\"SN Thakur\", \"DL Chahar\", \"KV Sharma\", \"DJ Bravo\", \"RA Jadeja\", \"S Curran\", \"SR Watson\", \"PP Chawla\"]"
   ]
  },
  {
   "cell_type": "code",
   "execution_count": 159,
   "metadata": {},
   "outputs": [
    {
     "name": "stdout",
     "output_type": "stream",
     "text": [
      "Number of No-balls predicted : 1\n"
     ]
    }
   ],
   "source": [
    "bowlers_noball = dict()\n",
    "for bowler in bowler_squad:\n",
    "    no_of_no_balls_per_match = (delivery[delivery['bowler']==bowler].groupby('match_id').sum()['noball_runs']).mean()\n",
    "    bowlers_noball[bowler] = no_of_no_balls_per_match\n",
    "\n",
    "print(\"Number of No-balls predicted :\", round(sum(bowlers_noball.values())))"
   ]
  },
  {
   "cell_type": "markdown",
   "metadata": {},
   "source": [
    "# Summary"
   ]
  },
  {
   "cell_type": "markdown",
   "metadata": {},
   "source": [
    "- Data was cleaned and filtered. The data from the year 2016 to 2019 was taken and all the non-required columns were dropped. Using the \"winner\" column of the dataset, the percentage chances of winning was calculated. \n",
    "- Since the probability of runs scored in Sharjah is to be high, we take the average score value between median and 75% quartile values of runs scores by CSK per match during 2016-2019.\n",
    "- The number of wickets took by CSK of DC during last 5 overs was taken and averaged to estimate.\n",
    "- The number of balls CSK team took to hit team century per match was calculated and then averaged to estimate the range of the number of balls CSK will take today to hit team century. \n",
    "- The predicted bowlers playing in today match was considered and their mean no. of no-balls per match was considered and summed to find out the number of no-balls will be bowled today."
   ]
  },
  {
   "cell_type": "code",
   "execution_count": null,
   "metadata": {},
   "outputs": [],
   "source": []
  }
 ],
 "metadata": {
  "kernelspec": {
   "display_name": "Python 3",
   "language": "python",
   "name": "python3"
  },
  "language_info": {
   "codemirror_mode": {
    "name": "ipython",
    "version": 3
   },
   "file_extension": ".py",
   "mimetype": "text/x-python",
   "name": "python",
   "nbconvert_exporter": "python",
   "pygments_lexer": "ipython3",
   "version": "3.7.6"
  }
 },
 "nbformat": 4,
 "nbformat_minor": 4
}
