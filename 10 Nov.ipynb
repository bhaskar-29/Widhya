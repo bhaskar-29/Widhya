{
 "cells": [
  {
   "cell_type": "code",
   "execution_count": 1,
   "metadata": {},
   "outputs": [],
   "source": [
    "import pandas as pd\n",
    "import numpy as np\n",
    "import seaborn as sns\n",
    "import matplotlib.pyplot as plt\n",
    "from statistics import mode\n",
    "import math\n",
    "%matplotlib inline"
   ]
  },
  {
   "cell_type": "code",
   "execution_count": 2,
   "metadata": {},
   "outputs": [],
   "source": [
    "matches = pd.read_csv('matches.csv')\n",
    "delivery = pd.read_csv('deliveries.csv')\n",
    "match_ids = matches[matches.season >= 2016]['id'].unique()\n",
    "matches1 = matches[(matches.season >= 2016) & (matches['result']=='normal')]\n",
    "matches1 = matches1.drop(['player_of_match','venue','umpire1','umpire2','umpire3', 'dl_applied', 'city', 'date', 'result'], axis=1)\n",
    "matches1.dropna(inplace=True)"
   ]
  },
  {
   "cell_type": "code",
   "execution_count": 3,
   "metadata": {},
   "outputs": [],
   "source": [
    "def team_correction(row):\n",
    "    row = row.strip()\n",
    "    if row == 'Delhi Daredevils':\n",
    "        return 'Delhi Capitals'\n",
    "    if row == 'Rising Pune Supergiants':\n",
    "        return 'Rising Pune Supergiant'\n",
    "    return row\n",
    "\n",
    "for col in ['team1', 'team2', 'winner', 'toss_winner']:\n",
    "    matches1[col] = matches1[col].apply(team_correction)\n",
    "    "
   ]
  },
  {
   "cell_type": "code",
   "execution_count": 4,
   "metadata": {},
   "outputs": [],
   "source": [
    "delivery = delivery[delivery.match_id.apply(lambda x: True if x in match_ids else False)]\n",
    "for col in ['batting_team', 'bowling_team']:\n",
    "    delivery[col] = delivery[col].apply(team_correction)\n",
    "\n",
    "delivery.fillna(0, inplace=True)\n",
    "delivery['player_dismissed'] = delivery['player_dismissed'].apply(lambda x: 0 if x==0 else 1)\n",
    "\n",
    "delivery['batsman_runs'] = delivery['batsman_runs'].apply(lambda x: x-1 if ((x==7) or (x==5)) else x)"
   ]
  },
  {
   "cell_type": "code",
   "execution_count": 5,
   "metadata": {},
   "outputs": [],
   "source": [
    "def clean(row):\n",
    "    if row['extra_runs']>= row['batsman_runs']:\n",
    "        row['extra_runs'] -= row['batsman_runs']\n",
    "        \n",
    "    return row\n",
    "\n",
    "delivery = delivery.apply(clean, axis=1)\n",
    "delivery['total_runs'] = delivery['extra_runs'] + delivery['batsman_runs']"
   ]
  },
  {
   "cell_type": "code",
   "execution_count": 6,
   "metadata": {},
   "outputs": [],
   "source": [
    "team_1 = 'Delhi Capitals'\n",
    "team_2 = 'Mumbai Indians'"
   ]
  },
  {
   "cell_type": "markdown",
   "metadata": {},
   "source": [
    "# Winning Probability of Teams"
   ]
  },
  {
   "cell_type": "code",
   "execution_count": 7,
   "metadata": {},
   "outputs": [
    {
     "data": {
      "text/plain": [
       "Text(0.5, 1.0, 'MI Total Runs Score Stats Per Count')"
      ]
     },
     "execution_count": 7,
     "metadata": {},
     "output_type": "execute_result"
    },
    {
     "data": {
      "image/png": "[encoded data removed]",
      "text/plain": [
       "<Figure size 1440x576 with 2 Axes>"
      ]
     },
     "metadata": {
      "needs_background": "light"
     },
     "output_type": "display_data"
    }
   ],
   "source": [
    "fig, ax = plt.subplots(1,2, figsize=(20,8))\n",
    "dc_runs = delivery[delivery['batting_team']==team_1].groupby('match_id').sum()['total_runs']\n",
    "mi_runs = delivery[delivery['batting_team']==team_2].groupby('match_id').sum()['total_runs']\n",
    "(dc_runs.describe()[1:]/dc_runs.describe()[0]).plot(ax=ax[0], kind='bar', grid=True, color='blue')\n",
    "(mi_runs.describe()[1:]/mi_runs.describe()[0]).plot(ax=ax[1], kind='bar', grid=True, color='dodgerblue')\n",
    "ax[0].set_title(\"DC Total Runs Score Stats Per Count\")\n",
    "ax[1].set_title(\"MI Total Runs Score Stats Per Count\")"
   ]
  },
  {
   "cell_type": "code",
   "execution_count": 11,
   "metadata": {},
   "outputs": [
    {
     "data": {
      "text/plain": [
       "Text(0.5, 1.0, 'Percentage of Winning')"
      ]
     },
     "execution_count": 11,
     "metadata": {},
     "output_type": "execute_result"
    },
    {
     "data": {
      "image/png": "[encoded data removed]",
      "text/plain": [
       "<Figure size 432x288 with 1 Axes>"
      ]
     },
     "metadata": {
      "needs_background": "light"
     },
     "output_type": "display_data"
    }
   ],
   "source": [
    "wins = pd.DataFrame(matches1[(matches1['team1'].isin([team_1, team_2])) & (matches1['team2'].isin([team_1, team_2])) & (matches1['season']>=2018)]['winner'].value_counts())\n",
    "wins['Percentage Win Chance'] = (wins['winner']/sum(wins['winner']))*100\n",
    "wins['Percentage Win Chance'].plot(kind='bar', color=['blue', 'dodgerblue'])\n",
    "plt.title('Percentage of Winning')"
   ]
  },
  {
   "cell_type": "markdown",
   "metadata": {},
   "source": [
    "# Rabada wickets"
   ]
  },
  {
   "cell_type": "code",
   "execution_count": 16,
   "metadata": {},
   "outputs": [],
   "source": [
    "def wickets_by_bowler(bowler):\n",
    "    wicket = list()\n",
    "    for match_id in delivery[(delivery['bowler']==bowler)]['match_id'].unique():\n",
    "        match =  delivery[(delivery['bowler']==bowler) & (delivery['match_id']==match_id) & (delivery['player_dismissed']==1)]\n",
    "        wicket.append(len(match))\n",
    "    \n",
    "    pct_wicket_chances = len(delivery[(delivery['bowler']==bowler) & (delivery['player_dismissed']==1)]['match_id'].unique()) / len(delivery[(delivery['bowler']==bowler)]['match_id'].unique()) \n",
    "    \n",
    "    return (np.median(wicket), f\"{round(pct_wicket_chances*100)}%\")\n"
   ]
  },
  {
   "cell_type": "code",
   "execution_count": 17,
   "metadata": {},
   "outputs": [
    {
     "data": {
      "text/plain": [
       "(2.0, '89%')"
      ]
     },
     "execution_count": 17,
     "metadata": {},
     "output_type": "execute_result"
    }
   ],
   "source": [
    "wickets_by_bowler('K Rabada')"
   ]
  },
  {
   "cell_type": "markdown",
   "metadata": {},
   "source": [
    "# Runs by Hardik Pandya"
   ]
  },
  {
   "cell_type": "code",
   "execution_count": 25,
   "metadata": {},
   "outputs": [],
   "source": [
    "def runs_by_batsman(batsman):\n",
    "    \n",
    "    runs = list()\n",
    "    for match_id in delivery[(delivery['batsman']==batsman)]['match_id'].unique():\n",
    "        match = delivery[(delivery['batsman']==batsman) & (delivery['match_id']==match_id)]\n",
    "        runs.append(sum(match['batsman_runs']))\n",
    "    \n",
    "    runs_df = pd.DataFrame({'Runs': runs})\n",
    "    print(runs_df['Runs'].describe())"
   ]
  },
  {
   "cell_type": "code",
   "execution_count": 26,
   "metadata": {},
   "outputs": [
    {
     "name": "stdout",
     "output_type": "stream",
     "text": [
      "count    53.000000\n",
      "mean     18.924528\n",
      "std      16.778935\n",
      "min       0.000000\n",
      "25%       7.000000\n",
      "50%      15.000000\n",
      "75%      28.000000\n",
      "max      96.000000\n",
      "Name: Runs, dtype: float64\n"
     ]
    }
   ],
   "source": [
    "runs_by_batsman('HH Pandya')"
   ]
  },
  {
   "cell_type": "code",
   "execution_count": 52,
   "metadata": {},
   "outputs": [
    {
     "data": {
      "text/plain": [
       "Text(0.5, 1.0, 'Wickets Falls Hisotgram of MI')"
      ]
     },
     "execution_count": 52,
     "metadata": {},
     "output_type": "execute_result"
    },
    {
     "data": {
      "image/png": "[encoded data removed]",
      "text/plain": [
       "<Figure size 432x288 with 1 Axes>"
      ]
     },
     "metadata": {
      "needs_background": "light"
     },
     "output_type": "display_data"
    }
   ],
   "source": [
    "delivery[(delivery['batting_team']==team_2)].groupby('match_id').sum()['player_dismissed'].hist(color='dodgerblue')\n",
    "plt.title('Wickets Falls Hisotgram of MI')"
   ]
  },
  {
   "cell_type": "markdown",
   "metadata": {},
   "source": [
    "Since, the chances of wickets fall is upto 4 wickets, Hardik Pandya will come to bat."
   ]
  },
  {
   "cell_type": "markdown",
   "metadata": {},
   "source": [
    "# No-balls"
   ]
  },
  {
   "cell_type": "code",
   "execution_count": 36,
   "metadata": {},
   "outputs": [],
   "source": [
    "mi_team = ['Q de Kock', 'SA Yadav', 'RG Sharma', 'Ishan Kishan', 'KH Pandya', 'HH Pandya', 'KA Pollard', 'NM Coulter-Nile', 'TA Boult', 'RD Chahar', 'JJ Bumrah']\n",
    "dc_team = ['AM Rahane', 'S Dhawan','SS Iyer', 'RR Pant' ,'SO Hetmyer','A Nortje', 'TU Deshpande', 'K Rabada', 'R Ashwin', 'AR Patel', 'MP Stoinis']\n",
    "teams = mi_team + dc_team"
   ]
  },
  {
   "cell_type": "code",
   "execution_count": 37,
   "metadata": {},
   "outputs": [
    {
     "data": {
      "text/plain": [
       "Text(0.5, 1.0, 'No of no-balls delivered by the today playing XI squad bowlers during 2016-2019')"
      ]
     },
     "execution_count": 37,
     "metadata": {},
     "output_type": "execute_result"
    },
    {
     "data": {
      "image/png": "[encoded data removed]",
      "text/plain": [
       "<Figure size 432x288 with 1 Axes>"
      ]
     },
     "metadata": {
      "needs_background": "light"
     },
     "output_type": "display_data"
    }
   ],
   "source": [
    "delivery[delivery['bowler'].isin(teams)].groupby('match_id').sum()['noball_runs'].value_counts().plot(kind='bar')\n",
    "plt.title(\"No of no-balls delivered by the today playing XI squad bowlers during 2016-2019\")"
   ]
  },
  {
   "cell_type": "markdown",
   "metadata": {},
   "source": [
    "# Total Scores"
   ]
  },
  {
   "cell_type": "code",
   "execution_count": 49,
   "metadata": {},
   "outputs": [],
   "source": [
    "def total_score(team):\n",
    "    match = delivery[(delivery['batting_team']==team)]\n",
    "    grouped = match.groupby('match_id').sum()\n",
    "    grouped['total_runs'].plot(kind='hist', color='black', grid=True)\n",
    "    print(grouped['total_runs'].describe())\n",
    "    plt.title(f\"Total score per match histogram of {team}\")"
   ]
  },
  {
   "cell_type": "code",
   "execution_count": 50,
   "metadata": {},
   "outputs": [
    {
     "name": "stdout",
     "output_type": "stream",
     "text": [
      "count     58.000000\n",
      "mean     158.551724\n",
      "std       35.891734\n",
      "min       60.000000\n",
      "25%      139.000000\n",
      "50%      163.500000\n",
      "75%      186.750000\n",
      "max      220.000000\n",
      "Name: total_runs, dtype: float64\n"
     ]
    },
    {
     "data": {
      "image/png": "[encoded data removed]",
      "text/plain": [
       "<Figure size 432x288 with 1 Axes>"
      ]
     },
     "metadata": {
      "needs_background": "light"
     },
     "output_type": "display_data"
    }
   ],
   "source": [
    "total_score(team_1)"
   ]
  },
  {
   "cell_type": "code",
   "execution_count": 51,
   "metadata": {},
   "outputs": [
    {
     "name": "stdout",
     "output_type": "stream",
     "text": [
      "count     61.000000\n",
      "mean     164.688525\n",
      "std       27.977694\n",
      "min       87.000000\n",
      "25%      147.000000\n",
      "50%      168.000000\n",
      "75%      181.000000\n",
      "max      223.000000\n",
      "Name: total_runs, dtype: float64\n"
     ]
    },
    {
     "data": {
      "image/png": "[encoded data removed]",
      "text/plain": [
       "<Figure size 432x288 with 1 Axes>"
      ]
     },
     "metadata": {
      "needs_background": "light"
     },
     "output_type": "display_data"
    }
   ],
   "source": [
    "total_score(team_2)"
   ]
  },
  {
   "cell_type": "markdown",
   "metadata": {},
   "source": [
    "# Summary"
   ]
  },
  {
   "cell_type": "markdown",
   "metadata": {},
   "source": [
    "1. Using winner column and comparing central tendency measures of total scores per match for both teams, winning chances were calculated. \n",
    "2. Wickets per match by bowler was calculated using player_dismissed column. Median values were taken for all his matches. Percentage dismissal chances were calculated using matches with wickets and total matches ratio. \n",
    "3. A function to calculate runs by batsman per match using batsman_runs column and gives the mean value for all matches. Histogram of no. of wickets fall of MI per match was plotted and judging peak it can be said that H Pandya will bat today. \n",
    "4. No-balls in a match when bowler has played is taken out and bar plot suggests that generally there is high chances of zero no-balls. \n",
    "5. A function to calculate total team score per match using total_runs column was created which gives central tendency measures of values and plots histogram as well. Using values genereted for both teams, scores were summed and range estimated. "
   ]
  }
 ],
 "metadata": {
  "kernelspec": {
   "display_name": "Python 3",
   "language": "python",
   "name": "python3"
  },
  "language_info": {
   "codemirror_mode": {
    "name": "ipython",
    "version": 3
   },
   "file_extension": ".py",
   "mimetype": "text/x-python",
   "name": "python",
   "nbconvert_exporter": "python",
   "pygments_lexer": "ipython3",
   "version": "3.7.6"
  }
 },
 "nbformat": 4,
 "nbformat_minor": 4
}
