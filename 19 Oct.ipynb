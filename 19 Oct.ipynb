{
 "cells": [
  {
   "cell_type": "code",
   "execution_count": 1,
   "metadata": {},
   "outputs": [],
   "source": [
    "import pandas as pd\n",
    "import numpy as np\n",
    "import seaborn as sns\n",
    "import matplotlib.pyplot as plt\n",
    "from statistics import mode\n",
    "import math\n",
    "%matplotlib inline"
   ]
  },
  {
   "cell_type": "code",
   "execution_count": 2,
   "metadata": {},
   "outputs": [],
   "source": [
    "matches = pd.read_csv('matches.csv')\n",
    "delivery = pd.read_csv('deliveries.csv')"
   ]
  },
  {
   "cell_type": "code",
   "execution_count": 3,
   "metadata": {},
   "outputs": [],
   "source": [
    "match_ids = matches[matches.season >= 2016]['id'].unique()\n",
    "matches1 = matches[(matches.season >= 2016) & (matches['result']=='normal')]\n",
    "matches1 = matches1.drop(['player_of_match','venue','umpire1','umpire2','umpire3', 'dl_applied', 'season', 'city', 'date', 'result'], axis=1)\n",
    "matches1.dropna(inplace=True)"
   ]
  },
  {
   "cell_type": "code",
   "execution_count": 8,
   "metadata": {},
   "outputs": [],
   "source": [
    "team_1 = 'Chennai Super Kings'\n",
    "team_2 = 'Rajasthan Royals'"
   ]
  },
  {
   "cell_type": "code",
   "execution_count": 9,
   "metadata": {},
   "outputs": [],
   "source": [
    "def team_correction(row):\n",
    "    row = row.strip()\n",
    "    if row == 'Delhi Daredevils':\n",
    "        return 'Delhi Capitals'\n",
    "    if row == 'Rising Pune Supergiants':\n",
    "        return 'Rising Pune Supergiant'\n",
    "    return row\n",
    "\n",
    "for col in ['team1', 'team2', 'winner', 'toss_winner']:\n",
    "    matches1[col] = matches1[col].apply(team_correction)\n",
    "    "
   ]
  },
  {
   "cell_type": "markdown",
   "metadata": {},
   "source": [
    "# Winning Probability of Teams"
   ]
  },
  {
   "cell_type": "code",
   "execution_count": 10,
   "metadata": {},
   "outputs": [
    {
     "data": {
      "text/plain": [
       "Text(0.5, 1.0, 'Percentage of Winning')"
      ]
     },
     "execution_count": 10,
     "metadata": {},
     "output_type": "execute_result"
    },
    {
     "data": {
      "image/png": "[encoded data removed]",
      "text/plain": [
       "<Figure size 432x288 with 1 Axes>"
      ]
     },
     "metadata": {
      "needs_background": "light"
     },
     "output_type": "display_data"
    }
   ],
   "source": [
    "wins = pd.DataFrame(matches1[(matches1['team1'].isin([team_1, team_2])) & (matches1['team2'].isin([team_1, team_2]))]['winner'].value_counts())\n",
    "wins['Percentage Win Chance'] = (wins['winner']/sum(wins['winner']))*100\n",
    "sns.barplot(wins.index, y=wins['Percentage Win Chance'])\n",
    "plt.title('Percentage of Winning')"
   ]
  },
  {
   "cell_type": "code",
   "execution_count": 11,
   "metadata": {},
   "outputs": [],
   "source": [
    "delivery = delivery[delivery.match_id.apply(lambda x: True if x in match_ids else False)]\n",
    "for col in ['batting_team', 'bowling_team']:\n",
    "    delivery[col] = delivery[col].apply(team_correction)\n",
    "\n",
    "delivery.fillna(0, inplace=True)\n",
    "delivery['player_dismissed'] = delivery['player_dismissed'].apply(lambda x: 0 if x==0 else 1)\n",
    "\n",
    "delivery['batsman_runs'] = delivery['batsman_runs'].apply(lambda x: x-1 if ((x==7) or (x==5)) else x)"
   ]
  },
  {
   "cell_type": "markdown",
   "metadata": {},
   "source": [
    "# RR score in powerplay"
   ]
  },
  {
   "cell_type": "code",
   "execution_count": 30,
   "metadata": {},
   "outputs": [
    {
     "name": "stdout",
     "output_type": "stream",
     "text": [
      "The avearge of lowest 25% score and 50 - 75% scores is taken\n"
     ]
    },
    {
     "data": {
      "text/plain": [
       "Text(0, 0.5, 'Runs per powerplay')"
      ]
     },
     "execution_count": 30,
     "metadata": {},
     "output_type": "execute_result"
    },
    {
     "data": {
      "image/png": "[encoded data removed]",
      "text/plain": [
       "<Figure size 720x576 with 1 Axes>"
      ]
     },
     "metadata": {
      "needs_background": "light"
     },
     "output_type": "display_data"
    }
   ],
   "source": [
    "rr_pp = delivery[(delivery['batting_team']==team_2) & (delivery['over']<=6)].groupby('match_id').sum()\n",
    "rr_pp['total_runs'].plot(kind='bar', figsize=(10,8))\n",
    "plt.axhline(y=np.mean([rr_pp['total_runs'].describe()[3], rr_pp['total_runs'].describe()[6]]), color='red')\n",
    "print(\"The avearge of lowest 25% score and 50 - 75% scores is taken\")\n",
    "plt.ylabel(\"Runs per powerplay\")"
   ]
  },
  {
   "cell_type": "markdown",
   "metadata": {},
   "source": [
    "# Deepak Chahar Economic Rate"
   ]
  },
  {
   "cell_type": "code",
   "execution_count": 55,
   "metadata": {},
   "outputs": [],
   "source": [
    "econ_rate = list()\n",
    "match_id_ = list()\n",
    "for mat_id in delivery[delivery['bowler']=='DL Chahar']['match_id'].unique():\n",
    "    balls = 0\n",
    "    runs = 0\n",
    "    for run in delivery[(delivery['bowler']=='DL Chahar') & (delivery['match_id']==mat_id)]['total_runs']:\n",
    "        runs += run\n",
    "        balls += 1\n",
    "    if runs/(int(balls/6)) < 11:\n",
    "        econ_rate.append(runs/(int(balls/6)))\n",
    "        match_id_.append(mat_id)"
   ]
  },
  {
   "cell_type": "code",
   "execution_count": 58,
   "metadata": {
    "scrolled": true
   },
   "outputs": [
    {
     "name": "stdout",
     "output_type": "stream",
     "text": [
      "Range of Predicted Economic Rate of DL Chahar:  7.602777777777777 - 8.002777777777776\n"
     ]
    }
   ],
   "source": [
    "chahar_ER = pd.DataFrame(index=match_id_, data=econ_rate)\n",
    "print(\"Range of Predicted Economic Rate of DL Chahar: \", chahar_ER[0].mean()-0.2, \"-\", chahar_ER[0].mean()+0.2)"
   ]
  },
  {
   "cell_type": "markdown",
   "metadata": {},
   "source": [
    "# Jofra Archer wickets in death overs"
   ]
  },
  {
   "cell_type": "code",
   "execution_count": 66,
   "metadata": {},
   "outputs": [
    {
     "name": "stdout",
     "output_type": "stream",
     "text": [
      "Predicted wickets by Archer in death overs:  1\n"
     ]
    }
   ],
   "source": [
    "archer_wk = delivery[(delivery['bowler']=='J Archer') & (delivery['over']>=15) & (delivery['player_dismissed']==1)].groupby('match_id').sum()\n",
    "print('Predicted wickets by Archer in death overs: ', math.floor(archer_wk['player_dismissed'].mean()))"
   ]
  },
  {
   "cell_type": "markdown",
   "metadata": {},
   "source": [
    "# Steve Smith Strike Rate"
   ]
  },
  {
   "cell_type": "code",
   "execution_count": 68,
   "metadata": {},
   "outputs": [],
   "source": [
    "strike_rate = list()\n",
    "mat_id_ = list()\n",
    "for mat_id in delivery[delivery['batsman']=='SPD Smith']['match_id'].unique():\n",
    "    balls = 0\n",
    "    runs = 0\n",
    "    for run in delivery[(delivery['batsman']=='SPD Smith') & (delivery['match_id']==mat_id)]['batsman_runs']:\n",
    "        runs += run\n",
    "        balls += 1\n",
    "    if (runs*100/balls)>40:\n",
    "        strike_rate.append(runs*100/balls)\n",
    "        mat_id_.append(mat_id)"
   ]
  },
  {
   "cell_type": "code",
   "execution_count": 75,
   "metadata": {},
   "outputs": [
    {
     "name": "stdout",
     "output_type": "stream",
     "text": [
      "Steve Smith strike rate for today's match will be less than 120.50837200833655 because Smith plays below average in Sheikh Zayed Stadium\n"
     ]
    }
   ],
   "source": [
    "smith_SR = pd.DataFrame(index=mat_id_, data=strike_rate)\n",
    "print(\"Steve Smith strike rate for today's match will be less than {} because Smith plays below average in Sheikh Zayed Stadium\".format(smith_SR[0].mean()))"
   ]
  },
  {
   "cell_type": "markdown",
   "metadata": {},
   "source": [
    "# Summary"
   ]
  },
  {
   "cell_type": "markdown",
   "metadata": {},
   "source": [
    "- Data was cleaned and filtered. The data from the year 2016 to 2019 was taken and all the non-required columns were dropped. Using the \"winner\" column of the dataset, the percentage chances of winning between CSK and RR was calculated. \n",
    "- The average of lowest 25% score and 50 - 75% scores scored by RR per match in powerplays was taken to estimate the predicted runs hit by RR in the powerplay. This value was considered because there is mix probability of hitting below and above average scores. \n",
    "- The economic rate of Deepak Chahar for every of his match was calculated and using mean, a range was calculated. \n",
    "- The number of wickets taken by J Archer in previous matches during death overs was calculated and averaged to predict today's wickets taken by him in death overs. \n",
    "- Considering today's pitch and previous strike rates of Smith, a range was predicted which took an average strike rate of Smith as the upper limit of the range. "
   ]
  },
  {
   "cell_type": "code",
   "execution_count": null,
   "metadata": {},
   "outputs": [],
   "source": []
  }
 ],
 "metadata": {
  "kernelspec": {
   "display_name": "Python 3",
   "language": "python",
   "name": "python3"
  },
  "language_info": {
   "codemirror_mode": {
    "name": "ipython",
    "version": 3
   },
   "file_extension": ".py",
   "mimetype": "text/x-python",
   "name": "python",
   "nbconvert_exporter": "python",
   "pygments_lexer": "ipython3",
   "version": "3.7.6"
  }
 },
 "nbformat": 4,
 "nbformat_minor": 4
}
