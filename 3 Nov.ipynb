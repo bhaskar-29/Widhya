{
 "cells": [
  {
   "cell_type": "code",
   "execution_count": 8,
   "metadata": {},
   "outputs": [],
   "source": [
    "import pandas as pd\n",
    "import numpy as np\n",
    "import seaborn as sns\n",
    "import matplotlib.pyplot as plt\n",
    "from statistics import mode\n",
    "import math\n",
    "%matplotlib inline\n"
   ]
  },
  {
   "cell_type": "code",
   "execution_count": 9,
   "metadata": {},
   "outputs": [],
   "source": [
    "matches = pd.read_csv('matches.csv')\n",
    "delivery = pd.read_csv('deliveries.csv')\n",
    "match_ids = matches[matches.season >= 2016]['id'].unique()\n",
    "matches1 = matches[(matches.season >= 2016) & (matches['result']=='normal')]\n",
    "matches1 = matches1.drop(['player_of_match','venue','umpire1','umpire2','umpire3', 'dl_applied', 'city', 'date', 'result'], axis=1)\n",
    "matches1.dropna(inplace=True)"
   ]
  },
  {
   "cell_type": "code",
   "execution_count": 10,
   "metadata": {},
   "outputs": [],
   "source": [
    "def team_correction(row):\n",
    "    row = row.strip()\n",
    "    if row == 'Delhi Daredevils':\n",
    "        return 'Delhi Capitals'\n",
    "    if row == 'Rising Pune Supergiants':\n",
    "        return 'Rising Pune Supergiant'\n",
    "    return row\n",
    "\n",
    "for col in ['team1', 'team2', 'winner', 'toss_winner']:\n",
    "    matches1[col] = matches1[col].apply(team_correction)\n",
    "    "
   ]
  },
  {
   "cell_type": "code",
   "execution_count": 11,
   "metadata": {},
   "outputs": [],
   "source": [
    "team_1 = 'Sunrisers Hyderabad'\n",
    "team_2 = 'Mumbai Indians'"
   ]
  },
  {
   "cell_type": "code",
   "execution_count": 12,
   "metadata": {},
   "outputs": [],
   "source": [
    "delivery = delivery[delivery.match_id.apply(lambda x: True if x in match_ids else False)]\n",
    "for col in ['batting_team', 'bowling_team']:\n",
    "    delivery[col] = delivery[col].apply(team_correction)\n",
    "\n",
    "delivery.fillna(0, inplace=True)\n",
    "delivery['player_dismissed'] = delivery['player_dismissed'].apply(lambda x: 0 if x==0 else 1)\n",
    "\n",
    "delivery['batsman_runs'] = delivery['batsman_runs'].apply(lambda x: x-1 if ((x==7) or (x==5)) else x)"
   ]
  },
  {
   "cell_type": "code",
   "execution_count": 13,
   "metadata": {},
   "outputs": [],
   "source": [
    "def clean(row):\n",
    "    if row['extra_runs']>= row['batsman_runs']:\n",
    "        row['extra_runs'] -= row['batsman_runs']\n",
    "        \n",
    "    return row\n",
    "\n",
    "delivery = delivery.apply(clean, axis=1)\n",
    "delivery['total_runs'] = delivery['extra_runs'] + delivery['batsman_runs']"
   ]
  },
  {
   "cell_type": "markdown",
   "metadata": {},
   "source": [
    "# Winning Probability of Teams"
   ]
  },
  {
   "cell_type": "code",
   "execution_count": 16,
   "metadata": {},
   "outputs": [
    {
     "data": {
      "text/plain": [
       "Text(0.5, 1.0, 'MI Total Runs Score Stats Per Count')"
      ]
     },
     "execution_count": 16,
     "metadata": {},
     "output_type": "execute_result"
    },
    {
     "data": {
      "image/png": "[encoded data removed]",
      "text/plain": [
       "<Figure size 1440x576 with 2 Axes>"
      ]
     },
     "metadata": {
      "needs_background": "light"
     },
     "output_type": "display_data"
    }
   ],
   "source": [
    "fig, ax = plt.subplots(1,2, figsize=(20,8))\n",
    "srh_runs = delivery[delivery['batting_team']==team_1].groupby('match_id').sum()['total_runs']\n",
    "mi_runs = delivery[delivery['batting_team']==team_2].groupby('match_id').sum()['total_runs']\n",
    "(srh_runs.describe()[1:]/srh_runs.describe()[0]).plot(ax=ax[0], kind='bar', grid=True, color='orange')\n",
    "(mi_runs.describe()[1:]/mi_runs.describe()[0]).plot(ax=ax[1], kind='bar', grid=True, color='blue')\n",
    "ax[0].set_title(\"SRH Total Runs Score Stats Per Count\")\n",
    "ax[1].set_title(\"MI Total Runs Score Stats Per Count\")"
   ]
  },
  {
   "cell_type": "code",
   "execution_count": 35,
   "metadata": {},
   "outputs": [
    {
     "data": {
      "text/plain": [
       "Text(0.5, 1.0, 'Percentage of Winning')"
      ]
     },
     "execution_count": 35,
     "metadata": {},
     "output_type": "execute_result"
    },
    {
     "data": {
      "image/png": "[encoded data removed]",
      "text/plain": [
       "<Figure size 432x288 with 1 Axes>"
      ]
     },
     "metadata": {
      "needs_background": "light"
     },
     "output_type": "display_data"
    }
   ],
   "source": [
    "matches1[matches1['season']>=2019]['winner'].value_counts()[[team_1, team_2]].plot(kind='bar', color=['orange', 'blue'])\n",
    "plt.title('Percentage of Winning')"
   ]
  },
  {
   "cell_type": "markdown",
   "metadata": {},
   "source": [
    "# Stamina Score"
   ]
  },
  {
   "cell_type": "code",
   "execution_count": 50,
   "metadata": {},
   "outputs": [],
   "source": [
    "mi_team = ['RG Sharma', 'Q de Kock', 'SA Yadav', 'Ishan Kishan', 'HH Pandaya', 'KH Pandaya', 'NM Coulter-Nile', 'RD Chahar', 'JJ Bumrah', 'TA Boult']\n",
    "srh_team = ['DA Warner', 'J Bairstow', 'WP Saha', 'MK Pandey', 'KS Williamson', 'Rashid Khan', 'K Ahmed', 'T Natarajan']"
   ]
  },
  {
   "cell_type": "code",
   "execution_count": 55,
   "metadata": {},
   "outputs": [],
   "source": [
    "def stamina_score(batsmen):\n",
    "    stamina_ratio = list()\n",
    "    for match_id in delivery[(delivery['batsman']==batsmen)]['match_id'].unique():\n",
    "        match = delivery[(delivery['batsman']==batsmen) & (delivery['match_id']==match_id)]\n",
    "        t_runs = sum(match['batsman_runs'])\n",
    "        if t_runs > 15:\n",
    "            s_runs = sum(match[match['batsman_runs'].isin([1, 2, 3])]['batsman_runs'])\n",
    "            b_runs =  sum(match[match['batsman_runs'].isin([4, 6])]['batsman_runs'])\n",
    "            balls = len(match)\n",
    "            crease_balls = len(delivery[(delivery['match_id']==match_id) & (delivery['batsman']==batsmen) | (delivery['non_striker']==batsmen)])\n",
    "            stamina = ((s_runs/(b_runs+1)) + (balls/(crease_balls+1)))/t_runs\n",
    "            stamina_ratio.append([batsmen, stamina])\n",
    "    return stamina_ratio"
   ]
  },
  {
   "cell_type": "code",
   "execution_count": 47,
   "metadata": {},
   "outputs": [],
   "source": [
    "def normalize(values):\n",
    "    max_value = max(values)\n",
    "    min_value = min(values)\n",
    "    new = list()\n",
    "    for v in values:\n",
    "        new_v = (v - min_value)/(max_value-min_value)\n",
    "        new.append(new_v)\n",
    "    return new\n",
    "    "
   ]
  },
  {
   "cell_type": "code",
   "execution_count": 58,
   "metadata": {},
   "outputs": [],
   "source": [
    "batsman_stamina = list()\n",
    "for batsman in (mi_team+srh_team):\n",
    "    batsman_stamina += (stamina_score(batsman))"
   ]
  },
  {
   "cell_type": "code",
   "execution_count": 62,
   "metadata": {},
   "outputs": [],
   "source": [
    "stamina_score_df = pd.DataFrame(data=batsman_stamina, columns=['Batsman', 'Stamina Score'])\n",
    "stamina_score_df['Stamina Score'] = normalize(stamina_score_df['Stamina Score'])"
   ]
  },
  {
   "cell_type": "code",
   "execution_count": 88,
   "metadata": {},
   "outputs": [
    {
     "data": {
      "text/plain": [
       "Text(0.5, 1.0, 'Mean Stamina Score')"
      ]
     },
     "execution_count": 88,
     "metadata": {},
     "output_type": "execute_result"
    },
    {
     "data": {
      "image/png": "[encoded data removed]",
      "text/plain": [
       "<Figure size 432x288 with 1 Axes>"
      ]
     },
     "metadata": {
      "needs_background": "light"
     },
     "output_type": "display_data"
    }
   ],
   "source": [
    "stamina_score_df.groupby('Batsman').mean()['Stamina Score'].sort_values(ascending=False).plot(kind='bar')\n",
    "plt.title(\"Mean Stamina Score\")"
   ]
  },
  {
   "cell_type": "markdown",
   "metadata": {},
   "source": [
    "Considering only front line batsman, the two will be WP Saha and SA Yadav"
   ]
  },
  {
   "cell_type": "markdown",
   "metadata": {},
   "source": [
    "# Smash Rate"
   ]
  },
  {
   "cell_type": "code",
   "execution_count": 66,
   "metadata": {},
   "outputs": [],
   "source": [
    "def smash_rate(batsmen):\n",
    "    rates = list()\n",
    "    for match_id in delivery[(delivery['batsman']==batsmen)]['match_id'].unique():\n",
    "        match = delivery[(delivery['batsman']==batsmen) & (delivery['match_id']==match_id)]\n",
    "        balls = len(match)\n",
    "        boundaries = len(match[match['batsman_runs'].isin([4, 6])]['batsman_runs'])\n",
    "        if balls>0:\n",
    "            rate = boundaries*100/balls\n",
    "            rates.append([batsmen, rate])\n",
    "    return rates"
   ]
  },
  {
   "cell_type": "code",
   "execution_count": 67,
   "metadata": {},
   "outputs": [],
   "source": [
    "batsman_smash = list()\n",
    "for batsman in (mi_team+srh_team):\n",
    "    batsman_smash += smash_rate(batsman)"
   ]
  },
  {
   "cell_type": "code",
   "execution_count": 87,
   "metadata": {},
   "outputs": [
    {
     "data": {
      "text/plain": [
       "Text(0.5, 1.0, 'Mean Smash Rate')"
      ]
     },
     "execution_count": 87,
     "metadata": {},
     "output_type": "execute_result"
    },
    {
     "data": {
      "image/png": "[encoded data removed]",
      "text/plain": [
       "<Figure size 432x288 with 1 Axes>"
      ]
     },
     "metadata": {
      "needs_background": "light"
     },
     "output_type": "display_data"
    }
   ],
   "source": [
    "smash_rate_df = pd.DataFrame(data=batsman_smash, columns=['Batsman', 'Smash Rate'])\n",
    "smash_rate_df.groupby('Batsman').mean()['Smash Rate'].sort_values(ascending=False).plot(kind='bar')\n",
    "plt.title(\"Mean Smash Rate\")"
   ]
  },
  {
   "cell_type": "markdown",
   "metadata": {},
   "source": [
    "# Boundary Leaker"
   ]
  },
  {
   "cell_type": "code",
   "execution_count": 72,
   "metadata": {},
   "outputs": [],
   "source": [
    "def boundary_leaker(bowler):\n",
    "    bl = list()\n",
    "    for match_id in delivery[(delivery['bowler']==bowler)]['match_id'].unique():\n",
    "        match = delivery[(delivery['bowler']==bowler) & (delivery['match_id']==match_id)]\n",
    "        balls = len(match)\n",
    "        boundaries = len(match[match['total_runs'].isin([4, 5, 6, 7])])\n",
    "        x = balls/(boundaries+1)\n",
    "        bl.append([bowler, x])\n",
    "    return bl"
   ]
  },
  {
   "cell_type": "code",
   "execution_count": 73,
   "metadata": {},
   "outputs": [],
   "source": [
    "bowler_bl = list()\n",
    "for bowler in (mi_team+srh_team):\n",
    "    bowler_bl += boundary_leaker(bowler)\n",
    "    "
   ]
  },
  {
   "cell_type": "code",
   "execution_count": 86,
   "metadata": {},
   "outputs": [
    {
     "data": {
      "text/plain": [
       "Text(0.5, 1.0, 'Mean boundary leaker score per bowler (x)')"
      ]
     },
     "execution_count": 86,
     "metadata": {},
     "output_type": "execute_result"
    },
    {
     "data": {
      "image/png": "[encoded data removed]",
      "text/plain": [
       "<Figure size 432x288 with 1 Axes>"
      ]
     },
     "metadata": {
      "needs_background": "light"
     },
     "output_type": "display_data"
    }
   ],
   "source": [
    "bl_df = pd.DataFrame(data=bowler_bl, columns=['Bowler', 'BL(x)'])\n",
    "bl_df.groupby('Bowler').mean()['BL(x)'].sort_values().plot(kind='bar')\n",
    "plt.title(\"Mean boundary leaker score per bowler (x)\")"
   ]
  },
  {
   "cell_type": "markdown",
   "metadata": {},
   "source": [
    "# Wickets Fall"
   ]
  },
  {
   "cell_type": "code",
   "execution_count": 84,
   "metadata": {},
   "outputs": [
    {
     "data": {
      "text/plain": [
       "Text(0.5, 1.0, 'Histogram of Both Teams Wickets Fall per Match')"
      ]
     },
     "execution_count": 84,
     "metadata": {},
     "output_type": "execute_result"
    },
    {
     "data": {
      "image/png": "[encoded data removed]",
      "text/plain": [
       "<Figure size 432x288 with 1 Axes>"
      ]
     },
     "metadata": {
      "needs_background": "light"
     },
     "output_type": "display_data"
    }
   ],
   "source": [
    "delivery[delivery['batting_team']==team_1].groupby('match_id').sum()['player_dismissed'].hist(alpha=0.5, color='orange')\n",
    "delivery[delivery['batting_team']==team_2].groupby('match_id').sum()['player_dismissed'].hist(alpha=0.5, color='red')\n",
    "plt.title(\"Histogram of Both Teams Wickets Fall per Match\")"
   ]
  },
  {
   "cell_type": "markdown",
   "metadata": {},
   "source": [
    "This plot suggests that the wickets fall highest frequency is generally 4 for both the teams. So, there sum will lie in range 6-10."
   ]
  },
  {
   "cell_type": "markdown",
   "metadata": {},
   "source": [
    "# Summary"
   ]
  },
  {
   "cell_type": "markdown",
   "metadata": {},
   "source": [
    "1. Using the winners column the chances of winning were compared. The total score per match for both the teams were also compared to evaluate their batting performance.\n",
    "2. Function to calculate stamina score which takes batsman name and calculate single, boundary, total runs and balls and crease balls using batsman_runs column and gives score per match using formula. Mean score is calculated using this formula for each batsman and compared.\n",
    "3. Function to calculate smash rate is similar to previous function. It just calculates balls and boundaries per match of batsman and gives score using smash rate formula. Mean smash rates were compared.\n",
    "4. A function to calculate x in boundary leaker was created by filtering data for bowler per match and using total_runs column boundaries was calculated. Using len, balls were calculated and then put in formula. Mean value of x per bowler was compared.\n",
    "5. Histogram for wickets falls per match for both teams were plotted and range was estimated. "
   ]
  },
  {
   "cell_type": "code",
   "execution_count": null,
   "metadata": {},
   "outputs": [],
   "source": []
  }
 ],
 "metadata": {
  "kernelspec": {
   "display_name": "Python 3",
   "language": "python",
   "name": "python3"
  },
  "language_info": {
   "codemirror_mode": {
    "name": "ipython",
    "version": 3
   },
   "file_extension": ".py",
   "mimetype": "text/x-python",
   "name": "python",
   "nbconvert_exporter": "python",
   "pygments_lexer": "ipython3",
   "version": "3.7.6"
  }
 },
 "nbformat": 4,
 "nbformat_minor": 4
}
