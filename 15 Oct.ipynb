{
 "cells": [
  {
   "cell_type": "code",
   "execution_count": 169,
   "metadata": {},
   "outputs": [],
   "source": [
    "import pandas as pd\n",
    "import numpy as np\n",
    "import seaborn as sns\n",
    "import matplotlib.pyplot as plt\n",
    "from statistics import mode\n",
    "import math\n",
    "%matplotlib inline"
   ]
  },
  {
   "cell_type": "code",
   "execution_count": 170,
   "metadata": {},
   "outputs": [],
   "source": [
    "matches = pd.read_csv('matches.csv')\n",
    "delivery = pd.read_csv('deliveries.csv')"
   ]
  },
  {
   "cell_type": "code",
   "execution_count": 171,
   "metadata": {},
   "outputs": [],
   "source": [
    "match_ids = matches[matches.season >= 2016]['id'].unique()"
   ]
  },
  {
   "cell_type": "code",
   "execution_count": 172,
   "metadata": {},
   "outputs": [],
   "source": [
    "matches1 = matches[(matches.season >= 2016) & (matches['result']=='normal')]\n",
    "matches1 = matches1.drop(['player_of_match','venue','umpire1','umpire2','umpire3', 'dl_applied', 'season', 'city', 'date', 'result'], axis=1)\n",
    "matches1.dropna(inplace=True)"
   ]
  },
  {
   "cell_type": "code",
   "execution_count": 173,
   "metadata": {},
   "outputs": [],
   "source": [
    "team_1 = 'Royal Challengers Bangalore'\n",
    "team_2 = 'Kings XI Punjab'"
   ]
  },
  {
   "cell_type": "code",
   "execution_count": 174,
   "metadata": {},
   "outputs": [],
   "source": [
    "def team_correction(row):\n",
    "    row = row.strip()\n",
    "    if row == 'Delhi Daredevils':\n",
    "        return 'Delhi Capitals'\n",
    "    if row == 'Rising Pune Supergiants':\n",
    "        return 'Rising Pune Supergiant'\n",
    "    return row\n",
    "\n",
    "for col in ['team1', 'team2', 'winner', 'toss_winner']:\n",
    "    matches1[col] = matches1[col].apply(team_correction)\n",
    "    "
   ]
  },
  {
   "cell_type": "markdown",
   "metadata": {},
   "source": [
    "# Winning Chances of Teams"
   ]
  },
  {
   "cell_type": "code",
   "execution_count": 175,
   "metadata": {},
   "outputs": [
    {
     "data": {
      "text/plain": [
       "Text(0.5, 1.0, 'Percentage of Winning')"
      ]
     },
     "execution_count": 175,
     "metadata": {},
     "output_type": "execute_result"
    },
    {
     "data": {
      "image/png": "[encoded data removed]",
      "text/plain": [
       "<Figure size 432x288 with 1 Axes>"
      ]
     },
     "metadata": {
      "needs_background": "light"
     },
     "output_type": "display_data"
    }
   ],
   "source": [
    "wins = pd.DataFrame(matches1[(matches1['team1'].isin([team_1, team_2])) & (matches1['team2'].isin([team_1, team_2]))]['winner'].value_counts())\n",
    "wins['Percentage Win Chance'] = (wins['winner']/sum(wins['winner']))*100\n",
    "sns.barplot(wins.index, y=wins['Percentage Win Chance'])\n",
    "plt.title('Percentage of Winning')"
   ]
  },
  {
   "cell_type": "code",
   "execution_count": 176,
   "metadata": {},
   "outputs": [],
   "source": [
    "delivery = delivery[delivery.match_id.apply(lambda x: True if x in match_ids else False)]\n",
    "for col in ['batting_team', 'bowling_team']:\n",
    "    delivery[col] = delivery[col].apply(team_correction)\n",
    "\n",
    "delivery.fillna(0, inplace=True)\n",
    "delivery['player_dismissed'] = delivery['player_dismissed'].apply(lambda x: 0 if x==0 else 1)"
   ]
  },
  {
   "cell_type": "code",
   "execution_count": 177,
   "metadata": {},
   "outputs": [],
   "source": [
    "k11p_bowler_squad = ['CJ Jordan', 'A Singh', 'Mohammed Shami', 'K Gowtham', 'Mandeep Singh', 'GJ Maxwell']\n",
    "rcb_bowler_squad = ['YS Chahal', 'N Saini', 'CH Morris', 'S Dube', 'Mohammed Siraj']\n",
    "partners = ['V Kohli', 'AB de Villiers']"
   ]
  },
  {
   "cell_type": "markdown",
   "metadata": {},
   "source": [
    "# Wickets lose by KXIP "
   ]
  },
  {
   "cell_type": "code",
   "execution_count": 178,
   "metadata": {},
   "outputs": [
    {
     "name": "stdout",
     "output_type": "stream",
     "text": [
      "Average wickets taken of Kings XI Punjab:  6.0\n"
     ]
    }
   ],
   "source": [
    "k11p_wk = delivery[(delivery['batting_team']==team_2)].groupby('match_id').sum()\n",
    "avg_k11p_wk = k11p_wk['player_dismissed'].median()\n",
    "print(\"Average wickets taken of {}: \".format(team_2), avg_k11p_wk)"
   ]
  },
  {
   "cell_type": "markdown",
   "metadata": {},
   "source": [
    "# Patnership Runs of Kohli and de Villiers"
   ]
  },
  {
   "cell_type": "code",
   "execution_count": 179,
   "metadata": {},
   "outputs": [
    {
     "data": {
      "text/plain": [
       "Text(29, 43.63793103448276, 'Average Partnership of V Kohli and AB de Villiers: 43 runs')"
      ]
     },
     "execution_count": 179,
     "metadata": {},
     "output_type": "execute_result"
    },
    {
     "data": {
      "image/png": "[encoded data removed]",
      "text/plain": [
       "<Figure size 720x576 with 1 Axes>"
      ]
     },
     "metadata": {
      "needs_background": "light"
     },
     "output_type": "display_data"
    }
   ],
   "source": [
    "partners_against_all = delivery[(delivery['batsman'].isin(partners)) & (delivery['non_striker'].isin(partners))].groupby('match_id').sum()\n",
    "partners_against_all = partners_against_all[partners_against_all['batsman_runs']<150]\n",
    "plt.figure(figsize=(10,8))\n",
    "partners_mean = partners_against_all['batsman_runs'].mean()\n",
    "partners_against_all['batsman_runs'].plot(kind='bar')\n",
    "plt.axhline(y=partners_mean, color='red')\n",
    "plt.text(x=29, y=partners_mean+0.5, fontsize=10, s=\"Average Partnership of V Kohli and AB de Villiers: {} runs\".format(math.floor(partners_mean)))"
   ]
  },
  {
   "cell_type": "markdown",
   "metadata": {},
   "source": [
    "# Number of sixes"
   ]
  },
  {
   "cell_type": "code",
   "execution_count": 180,
   "metadata": {},
   "outputs": [
    {
     "name": "stdout",
     "output_type": "stream",
     "text": [
      "Since, probability of sixes is very high in Sharjah, we take the number of sixes hit by both teams once in a match which lies among top 25% of highest sixes range\n",
      "So, predicted number of sixes for match between RCB and KXIP is 16.0\n"
     ]
    }
   ],
   "source": [
    "groupby_rcb_sixes = (delivery[(delivery['batting_team'] == team_1)& (delivery['batsman_runs']==6)].groupby('match_id').sum())\n",
    "groupby_k11p_sixes = (delivery[(delivery['batting_team'] == team_2)& (delivery['batsman_runs']==6)].groupby('match_id').sum())\n",
    "pred_k11p_sixes = (groupby_k11p_sixes['batsman_runs']/6).describe()[5]\n",
    "pred_rcb_sixes = (groupby_rcb_sixes['batsman_runs']/6).describe()[6]\n",
    "print(\"Since, probability of sixes is very high in Sharjah, we take the number of sixes hit by both teams once in a match which lies among top 25% of highest sixes range\")\n",
    "print(\"So, predicted number of sixes for match between RCB and KXIP is {}\".format(pred_k11p_sixes+pred_rcb_sixes))"
   ]
  },
  {
   "cell_type": "markdown",
   "metadata": {},
   "source": [
    "# Number of No-balls"
   ]
  },
  {
   "cell_type": "code",
   "execution_count": 181,
   "metadata": {},
   "outputs": [],
   "source": [
    "bowler_squad = rcb_bowler_squad + k11p_bowler_squad"
   ]
  },
  {
   "cell_type": "code",
   "execution_count": 183,
   "metadata": {},
   "outputs": [
    {
     "name": "stdout",
     "output_type": "stream",
     "text": [
      "Number of No-balls predicted : 1\n"
     ]
    }
   ],
   "source": [
    "bowlers_noball = dict()\n",
    "for bowler in bowler_squad:\n",
    "    no_of_no_balls_per_match = (delivery[delivery['bowler']==bowler].groupby('match_id').sum()['noball_runs']).mean()\n",
    "    bowlers_noball[bowler] = no_of_no_balls_per_match\n",
    "\n",
    "print(\"Number of No-balls predicted :\", round(sum(bowlers_noball.values())))"
   ]
  },
  {
   "cell_type": "markdown",
   "metadata": {},
   "source": [
    "# Summary"
   ]
  },
  {
   "cell_type": "markdown",
   "metadata": {},
   "source": [
    "- Data was cleaned and filtered. The data from year 2016 to 2019 was taken and all the non-required columns were dropped. \n",
    "- Using the \"winner\" column of the dataset, the percentage chances of winning between RCB and KXIP was calculated.\n",
    "- The general number of wickets lost by KXIP in a match was calculated by taking out the median number of wickets KXIP generally loose in a match.\n",
    "- Using the bastman and non-stricker columns, the partnership of V Kohli and AB de Villiers was taken out per match and then averaged.\n",
    "- The third quantile value of both the teams in case of their sixes per match was taken and added to estimate number of sixes in today's match. The reason was because today's stadium is small and ground dimensions are small which creates high probability of sixes. \n",
    "- Average no-balls runs per bowler per match was taken and added to estimate number of no balls in today's match. "
   ]
  },
  {
   "cell_type": "code",
   "execution_count": null,
   "metadata": {},
   "outputs": [],
   "source": []
  }
 ],
 "metadata": {
  "kernelspec": {
   "display_name": "Python 3",
   "language": "python",
   "name": "python3"
  },
  "language_info": {
   "codemirror_mode": {
    "name": "ipython",
    "version": 3
   },
   "file_extension": ".py",
   "mimetype": "text/x-python",
   "name": "python",
   "nbconvert_exporter": "python",
   "pygments_lexer": "ipython3",
   "version": "3.7.6"
  }
 },
 "nbformat": 4,
 "nbformat_minor": 4
}
